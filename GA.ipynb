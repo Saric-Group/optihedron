{
 "cells": [
  {
   "cell_type": "code",
   "execution_count": 14,
   "metadata": {},
   "outputs": [],
   "source": [
    "from tools import analysistools as atools\n",
    "from functools import partial as partial\n",
    "from ga import networkedgeneticalgorithm as nga\n",
    "from db import databaseconnection as dbconn\n",
    "import matplotlib.pyplot as plt\n",
    "import seaborn as sns\n",
    "import numpy as np\n",
    "from nanoparticle import Ligand, NanoParticle\n",
    "from membranesimulation import MembraneSimulation\n",
    "from tools import vectools\n",
    "import random"
   ]
  },
  {
   "cell_type": "code",
   "execution_count": 42,
   "metadata": {},
   "outputs": [],
   "source": [
    "db = dbconn.DatabaseConnection(\"/Users/joel/Projects/optidb/upgrade/23-10/datastore.db\")"
   ]
  },
  {
   "cell_type": "code",
   "execution_count": 43,
   "metadata": {},
   "outputs": [
    {
     "name": "stdout",
     "output_type": "stream",
     "text": [
      "<db.databaseconnection.Session object at 0x1c23f38050>\n"
     ]
    }
   ],
   "source": [
    "session = db.getLastSession()\n",
    "print session\n",
    "individuals = session.getIndividualsList()"
   ]
  },
  {
   "cell_type": "code",
   "execution_count": 139,
   "metadata": {},
   "outputs": [
    {
     "name": "stdout",
     "output_type": "stream",
     "text": [
      "[<nanoparticle.CoveredNanoParticlePhenome instance at 0x1c218edfc8>]\n"
     ]
    }
   ],
   "source": [
    "lowFit = []\n",
    "for i in individuals:\n",
    "    if i.fitness >284.68 and i.fitness <284.69:\n",
    "        lowFit.append(i.phenomePickle)\n",
    "        \n",
    "print lowFit"
   ]
  },
  {
   "cell_type": "code",
   "execution_count": 140,
   "metadata": {},
   "outputs": [
    {
     "name": "stdout",
     "output_type": "stream",
     "text": [
      "saved files: /Users/joel/Desktop/sim_lowfit_data.data, /Users/joel/Desktop/sim_lowfit_script.in\n"
     ]
    }
   ],
   "source": [
    "sim = MembraneSimulation(\n",
    "    'sim_lowfit',\n",
    "    lowFit[-1].particle,\n",
    "    500,\n",
    "    0.01,        \n",
    "    '/Users/joel/Desktop',\n",
    "    '/Users/joel/Desktop',\n",
    "    '/Users/joel/Projects/optihedron/mem/template/data.template',\n",
    "    '/Users/joel/Projects/optihedron/mem/template/in.template',\n",
    "    rAxis=vectools.randomUnitVector(),\n",
    "    rAmount=random.uniform(0.3141,3.141)\n",
    ")\n",
    "sim.saveFiles()"
   ]
  },
  {
   "cell_type": "code",
   "execution_count": null,
   "metadata": {},
   "outputs": [],
   "source": []
  },
  {
   "cell_type": "code",
   "execution_count": 141,
   "metadata": {},
   "outputs": [],
   "source": [
    "sim.postProcessOutput(\"/Users/joel/Desktop/sim_lowfit_out.xyz\")"
   ]
  },
  {
   "cell_type": "code",
   "execution_count": 135,
   "metadata": {},
   "outputs": [],
   "source": [
    "net = atools.pruneNetwork(atools.buildLigandNetwork(lowFit[-1].particle.ligands),0.3)"
   ]
  },
  {
   "cell_type": "code",
   "execution_count": 136,
   "metadata": {},
   "outputs": [],
   "source": [
    "import networkx as nx"
   ]
  },
  {
   "cell_type": "code",
   "execution_count": 137,
   "metadata": {},
   "outputs": [],
   "source": [
    "nx.write_gexf(net, \"test.gexf\")"
   ]
  },
  {
   "cell_type": "code",
   "execution_count": null,
   "metadata": {},
   "outputs": [],
   "source": []
  }
 ],
 "metadata": {
  "kernelspec": {
   "display_name": "Python 2",
   "language": "python",
   "name": "python2"
  },
  "language_info": {
   "codemirror_mode": {
    "name": "ipython",
    "version": 2
   },
   "file_extension": ".py",
   "mimetype": "text/x-python",
   "name": "python",
   "nbconvert_exporter": "python",
   "pygments_lexer": "ipython2",
   "version": "2.7.17"
  }
 },
 "nbformat": 4,
 "nbformat_minor": 2
}
