{
 "cells": [
  {
   "cell_type": "code",
   "execution_count": null,
   "metadata": {},
   "outputs": [],
   "source": [
    "import numpy as np\n",
    "import matplotlib.pyplot as plt\n",
    "import random\n",
    "import time\n",
    "import pickle\n",
    "import copy"
   ]
  },
  {
   "cell_type": "code",
   "execution_count": null,
   "metadata": {},
   "outputs": [],
   "source": [
    "%matplotlib inline\n",
    "plt.rcParams['figure.figsize'] = (10.0, 8.0) # set default size of plots\n",
    "plt.rcParams['image.interpolation'] = 'nearest'\n",
    "plt.rcParams['image.cmap'] = 'gray'"
   ]
  },
  {
   "cell_type": "code",
   "execution_count": null,
   "metadata": {},
   "outputs": [],
   "source": [
    "data = None\n",
    "with open('datacompiled.p', 'rb') as f:\n",
    "    data = pickle.load(f)"
   ]
  },
  {
   "cell_type": "code",
   "execution_count": null,
   "metadata": {},
   "outputs": [],
   "source": [
    "fitnessAll = [float(i[0]) for i in data];\n",
    "plt.hist(fitnessAll);\n",
    "plt.title('distribution of fitnesses in data')\n",
    "plt.xlabel('fitness')\n",
    "plt.ylabel('number of nanoparticles')"
   ]
  },
  {
   "cell_type": "code",
   "execution_count": null,
   "metadata": {},
   "outputs": [],
   "source": [
    "polAll = []\n",
    "aziAll = []\n",
    "epsAll = []\n",
    "for nps in data:\n",
    "    for ligands in nps[1]:        \n",
    "        polAll.append(ligands[0])\n",
    "        aziAll.append(ligands[1])\n",
    "        epsAll.append(ligands[2])"
   ]
  },
  {
   "cell_type": "code",
   "execution_count": null,
   "metadata": {},
   "outputs": [],
   "source": [
    "plt.hist(polAll);\n",
    "plt.title(r'distribution of polar $\\theta$ angle')\n",
    "plt.xlabel(r'$\\theta$')\n",
    "plt.ylabel('number of nanoparticles')"
   ]
  },
  {
   "cell_type": "code",
   "execution_count": null,
   "metadata": {},
   "outputs": [],
   "source": [
    "plt.hist(aziAll);\n",
    "plt.title(r'distribution of azimuthal $\\psi$ angle')\n",
    "plt.xlabel(r'$\\phi$')\n",
    "plt.ylabel('number of nanoparticles')"
   ]
  },
  {
   "cell_type": "code",
   "execution_count": null,
   "metadata": {},
   "outputs": [],
   "source": [
    "plt.hist(epsAll);\n",
    "plt.title(r'distribution of eps')\n",
    "plt.xlabel(r'eps')\n",
    "plt.ylabel('number of nanoparticles')"
   ]
  },
  {
   "cell_type": "code",
   "execution_count": null,
   "metadata": {},
   "outputs": [],
   "source": []
  },
  {
   "cell_type": "code",
   "execution_count": null,
   "metadata": {},
   "outputs": [],
   "source": []
  },
  {
   "cell_type": "code",
   "execution_count": null,
   "metadata": {},
   "outputs": [],
   "source": []
  },
  {
   "cell_type": "code",
   "execution_count": null,
   "metadata": {},
   "outputs": [],
   "source": []
  },
  {
   "cell_type": "code",
   "execution_count": null,
   "metadata": {},
   "outputs": [],
   "source": [
    "fitCutoff = 275\n",
    "count = 0\n",
    "npsTrimmed = []\n",
    "for nps in data:\n",
    "    if float(nps[0]) >= fitCutoff:\n",
    "        count += 1\n",
    "        npsTrimmed.append(nps)\n",
    "print(count)"
   ]
  },
  {
   "cell_type": "code",
   "execution_count": null,
   "metadata": {},
   "outputs": [],
   "source": [
    "polTrimmed = []\n",
    "aziTrimmed = []\n",
    "epsTrimmed = []\n",
    "for i in npsTrimmed:\n",
    "    for ligands in i[1]:                \n",
    "        polTrimmed.append(ligands[0])\n",
    "        aziTrimmed.append(ligands[1])\n",
    "        epsTrimmed.append(ligands[2])"
   ]
  },
  {
   "cell_type": "code",
   "execution_count": null,
   "metadata": {},
   "outputs": [],
   "source": [
    "fitnessAll = [float(i[0]) for i in data];\n",
    "plt.hist(fitnessAll);\n",
    "plt.title('distribution of fitnesses in data')\n",
    "plt.axvline(275, color=\"black\")\n",
    "plt.xlabel('fitness')\n",
    "plt.ylabel('number of nanoparticles')"
   ]
  },
  {
   "cell_type": "code",
   "execution_count": null,
   "metadata": {},
   "outputs": [],
   "source": [
    "plt.hist(polTrimmed)\n",
    "plt.xlabel(r'$\\theta$')\n",
    "plt.ylabel('number of nanoparticles')\n",
    "plt.title('fitness> 275 distribution of polar angle')"
   ]
  },
  {
   "cell_type": "code",
   "execution_count": null,
   "metadata": {},
   "outputs": [],
   "source": [
    "plt.hist(aziTrimmed)\n",
    "plt.xlabel(r'$\\phi$')\n",
    "plt.ylabel('number of nanoparticles')\n",
    "plt.title('fitness> 275 azi angle')"
   ]
  },
  {
   "cell_type": "code",
   "execution_count": null,
   "metadata": {},
   "outputs": [],
   "source": [
    "plt.hist(epsTrimmed)\n",
    "plt.xlabel('eps')\n",
    "plt.ylabel('number of nanoparticles')\n",
    "plt.title('fitness > 275 distribution of eps')"
   ]
  },
  {
   "cell_type": "code",
   "execution_count": null,
   "metadata": {},
   "outputs": [],
   "source": [
    "plt.scatter([i*1 for i in polTrimmed ], aziTrimmed, c=epsTrimmed, s=40, cmap=plt.cm.Spectral)\n",
    "plt.colorbar()\n",
    "plt.xlabel(r'$\\theta$')\n",
    "plt.ylabel(r'$\\phi$')\n",
    "plt.title('only fitness > 275, color represents ligand affinity')"
   ]
  },
  {
   "cell_type": "code",
   "execution_count": null,
   "metadata": {},
   "outputs": [],
   "source": [
    "plt.hist(epsTrimmed);\n",
    "plt.axvline(0, color=\"black\")\n",
    "plt.axvline(5, color=\"grey\")\n",
    "plt.axvline(10, color=\"grey\")\n",
    "plt.axvline(15, color=\"black\")\n",
    "plt.title('only fitness > 275, distribution of ligand affinity')"
   ]
  },
  {
   "cell_type": "code",
   "execution_count": null,
   "metadata": {},
   "outputs": [],
   "source": [
    "polL = []\n",
    "aziL = []\n",
    "epsL = []\n",
    "polM = []\n",
    "aziM = []\n",
    "epsM = []\n",
    "polH = []\n",
    "aziH = []\n",
    "epsH = []\n",
    "\n",
    "for np_i in npsTrimmed:\n",
    "    for ligands in np_i[1]:\n",
    "        if ligands[2] >= 10:            \n",
    "            polH.append(ligands[0])\n",
    "            aziH.append(ligands[1])\n",
    "            epsH.append(ligands[2])\n",
    "        elif ligands[2] >= 5:\n",
    "            polM.append(ligands[0])\n",
    "            aziM.append(ligands[1])\n",
    "            epsM.append(ligands[2])\n",
    "        else:\n",
    "            polL.append(ligands[0])\n",
    "            aziL.append(ligands[1])\n",
    "            epsL.append(ligands[2])"
   ]
  },
  {
   "cell_type": "code",
   "execution_count": null,
   "metadata": {},
   "outputs": [],
   "source": [
    "plt.scatter(polL, aziL, c=epsL, s=40, cmap=plt.cm.Spectral)\n",
    "plt.colorbar()\n",
    "plt.xlabel(r'$\\theta$')\n",
    "plt.ylabel(r'$\\phi$')\n",
    "plt.title('only fitness > 275 eps 0-5, color represents ligand affinity')"
   ]
  },
  {
   "cell_type": "code",
   "execution_count": null,
   "metadata": {},
   "outputs": [],
   "source": [
    "plt.scatter(polM, aziM, c=epsM, s=40, cmap=plt.cm.Spectral)\n",
    "plt.colorbar()\n",
    "plt.xlabel(r'$\\theta$')\n",
    "plt.ylabel(r'$\\phi$')\n",
    "plt.title('only fitness > 275 eps 5-10, color represents ligand affinity')"
   ]
  },
  {
   "cell_type": "code",
   "execution_count": null,
   "metadata": {},
   "outputs": [],
   "source": [
    "plt.scatter(polH, aziH, c=epsH, s=40, cmap=plt.cm.Spectral)\n",
    "plt.colorbar()\n",
    "plt.xlabel(r'$\\theta$')\n",
    "plt.ylabel(r'$\\phi$')\n",
    "plt.title('only fitness > 275 eps 10-15, color represents ligand affinity')"
   ]
  },
  {
   "cell_type": "code",
   "execution_count": null,
   "metadata": {},
   "outputs": [],
   "source": [
    "data2 = copy.deepcopy(data)\n",
    "data2.sort(key = lambda x: float(x[0]))\n",
    "bestx = []\n",
    "for i in range(1,11):\n",
    "    bestx.append(data2[-1*i])"
   ]
  },
  {
   "cell_type": "code",
   "execution_count": null,
   "metadata": {},
   "outputs": [],
   "source": [
    "for besti in bestx:\n",
    "    bestipol = []\n",
    "    bestiazi = []\n",
    "    bestieps = []\n",
    "    for ligands in besti[1]:\n",
    "        bestipol.append(ligands[0])\n",
    "        bestiazi.append(ligands[1])\n",
    "        bestieps.append(ligands[2])\n",
    "    plt.scatter(bestipol, bestiazi, c=bestieps, s=40, cmap=plt.cm.Spectral)\n",
    "    plt.colorbar()\n",
    "    plt.xlabel(r'$\\theta$')\n",
    "    plt.ylabel(r'$\\phi$')\n",
    "    plt.title('fitness {} color represents ligand affinity'.format(besti[0]))\n",
    "    plt.show()"
   ]
  },
  {
   "cell_type": "code",
   "execution_count": null,
   "metadata": {},
   "outputs": [],
   "source": [
    "all_ligands = []\n",
    "for nps_i in data:\n",
    "    fitness = nps_i[0]\n",
    "    for ligands in nps_i[1]:\n",
    "        a = copy.deepcopy(ligands)\n",
    "        a.append(fitness)\n",
    "        all_ligands.append(a)\n",
    "print(len(all_ligands)/len(data))"
   ]
  },
  {
   "cell_type": "code",
   "execution_count": null,
   "metadata": {},
   "outputs": [],
   "source": [
    "ligFHPol = []\n",
    "ligFHAzi = []\n",
    "ligFHEps = []\n",
    "ligFHFit = []\n",
    "ligFMPol = []\n",
    "ligFMAzi = []\n",
    "ligFMEps = []\n",
    "ligFMFit = []\n",
    "ligFLPol = []\n",
    "ligFLAzi = []\n",
    "ligFLEps = []\n",
    "ligFLFit = []\n",
    "\n",
    "for ligand in all_ligands:\n",
    "    if ligand[2] > 10:\n",
    "        ligFHPol.append(ligand[0])\n",
    "        ligFHAzi.append(ligand[1])\n",
    "        ligFHEps.append(ligand[2])\n",
    "        ligFHFit.append(float(ligand[3]))\n",
    "    elif ligand[2] > 5:\n",
    "        ligFMPol.append(ligand[0])\n",
    "        ligFMAzi.append(ligand[1])\n",
    "        ligFMEps.append(ligand[2])\n",
    "        ligFMFit.append(float(ligand[3]))\n",
    "    else:\n",
    "        ligFLPol.append(ligand[0])\n",
    "        ligFLAzi.append(ligand[1])\n",
    "        ligFLEps.append(ligand[2])\n",
    "        ligFLFit.append(float(ligand[3]))"
   ]
  },
  {
   "cell_type": "code",
   "execution_count": null,
   "metadata": {},
   "outputs": [],
   "source": [
    "plt.hist((ligFHFit), label='high affinity ligands');\n",
    "plt.hist(ligFMFit, label='mid affinity ligands');\n",
    "plt.hist(ligFLFit, label='low affinity ligands');\n",
    "plt.xlabel('fitness')\n",
    "plt.ylabel('number of nanoparticles')\n",
    "plt.title('distribution of low,mid,high affinity ligands across fitness')\n",
    "plt.legend()"
   ]
  },
  {
   "cell_type": "code",
   "execution_count": null,
   "metadata": {},
   "outputs": [],
   "source": [
    "plt.scatter(ligFHPol, ligFHAzi, c=ligFHFit, s=40, cmap=plt.cm.Spectral)\n",
    "plt.colorbar()\n",
    "plt.xlabel(r'$\\theta$')\n",
    "plt.ylabel(r'$\\phi$')\n",
    "plt.title('only eps 10-15 color represents fitness')"
   ]
  },
  {
   "cell_type": "code",
   "execution_count": null,
   "metadata": {},
   "outputs": [],
   "source": [
    "plt.scatter(ligFMPol, ligFMAzi, c=ligFMFit, s=40, cmap=plt.cm.Spectral)\n",
    "plt.colorbar()\n",
    "plt.xlabel(r'$\\theta$')\n",
    "plt.ylabel(r'$\\phi$')\n",
    "plt.title('only eps 5-10 color represents fitness')"
   ]
  },
  {
   "cell_type": "code",
   "execution_count": null,
   "metadata": {},
   "outputs": [],
   "source": [
    "plt.scatter(ligFLPol, ligFLAzi, c=ligFLFit, s=40, cmap=plt.cm.Spectral)\n",
    "plt.colorbar()\n",
    "plt.xlabel(r'$\\theta$')\n",
    "plt.ylabel(r'$\\phi$')\n",
    "plt.title('only eps 0-5 color represents fitness')"
   ]
  },
  {
   "cell_type": "code",
   "execution_count": null,
   "metadata": {},
   "outputs": [],
   "source": [
    "ligFHPolTRIM = []\n",
    "ligFHAziTRIM = []\n",
    "ligFHEpsTRIM = []\n",
    "ligFHFitTRIM = []\n",
    "ligFMPolTRIM = []\n",
    "ligFMAziTRIM = []\n",
    "ligFMEpsTRIM = []\n",
    "ligFMFitTRIM = []\n",
    "ligFLPolTRIM = []\n",
    "ligFLAziTRIM = []\n",
    "ligFLEpsTRIM = []\n",
    "ligFLFitTRIM = []\n",
    "FitTRIMCutoff = 275\n",
    "\n",
    "for ligand in all_ligands:\n",
    "    if float(ligand[3]) > FitTRIMCutoff:\n",
    "        if ligand[2] > 10:\n",
    "            ligFHPolTRIM.append(ligand[0])\n",
    "            ligFHAziTRIM.append(ligand[1])\n",
    "            ligFHEpsTRIM.append(ligand[2])\n",
    "            ligFHFitTRIM.append(float(ligand[3]))\n",
    "        elif ligand[2] > 5:\n",
    "            ligFMPolTRIM.append(ligand[0])\n",
    "            ligFMAziTRIM.append(ligand[1])\n",
    "            ligFMEpsTRIM.append(ligand[2])\n",
    "            ligFMFitTRIM.append(float(ligand[3]))\n",
    "        else:\n",
    "            ligFLPolTRIM.append(ligand[0])\n",
    "            ligFLAziTRIM.append(ligand[1])\n",
    "            ligFLEpsTRIM.append(ligand[2])\n",
    "            ligFLFitTRIM.append(float(ligand[3]))"
   ]
  },
  {
   "cell_type": "code",
   "execution_count": null,
   "metadata": {},
   "outputs": [],
   "source": [
    "plt.hist((ligFHFitTRIM), label='high affinity ligands');\n",
    "plt.hist(ligFMFitTRIM, label='mid affinity ligands');\n",
    "plt.hist(ligFLFitTRIM, label='low affinity ligands');\n",
    "plt.xlabel('fitness')\n",
    "plt.ylabel('number of nanoparticles')\n",
    "plt.title('distribution of low,mid,high affinity ligands across fitness for fitness > 275')\n",
    "plt.legend()"
   ]
  },
  {
   "cell_type": "code",
   "execution_count": null,
   "metadata": {},
   "outputs": [],
   "source": [
    "plt.scatter(ligFHPolTRIM, ligFHAziTRIM, c=ligFHFitTRIM, s=40, cmap=plt.cm.Spectral)\n",
    "plt.colorbar()\n",
    "plt.xlabel(r'$\\theta$')\n",
    "plt.ylabel(r'$\\phi$')\n",
    "plt.title('only eps 10-15 color represents fitness for fitness>275')"
   ]
  },
  {
   "cell_type": "code",
   "execution_count": null,
   "metadata": {},
   "outputs": [],
   "source": [
    "plt.scatter(ligFMPolTRIM, ligFMAziTRIM, c=ligFMFitTRIM, s=40, cmap=plt.cm.Spectral)\n",
    "plt.colorbar()\n",
    "plt.xlabel(r'$\\theta$')\n",
    "plt.ylabel(r'$\\phi$')\n",
    "plt.title('only eps 5-10 color represents fitness for fitness>275')"
   ]
  },
  {
   "cell_type": "code",
   "execution_count": null,
   "metadata": {},
   "outputs": [],
   "source": [
    "plt.scatter(ligFLPolTRIM, ligFLAziTRIM, c=ligFLFitTRIM, s=40, cmap=plt.cm.Spectral)\n",
    "plt.colorbar()\n",
    "plt.xlabel(r'$\\theta$')\n",
    "plt.ylabel(r'$\\phi$')\n",
    "plt.title('only eps 0-5 color represents fitness for fitness>275')"
   ]
  },
  {
   "cell_type": "code",
   "execution_count": null,
   "metadata": {},
   "outputs": [],
   "source": [
    "ligPolFITH = []\n",
    "ligAziFITH = []\n",
    "ligEpsFITH = []\n",
    "ligFitFITH = []\n",
    "ligPolFITM = []\n",
    "ligAziFITM = []\n",
    "ligEpsFITM = []\n",
    "ligFitFITM = []\n",
    "ligPolFITL = []\n",
    "ligAziFITL = []\n",
    "ligEpsFITL = []\n",
    "ligFitFITL = []\n",
    "ligPolFITLL = []\n",
    "ligAziFITLL = []\n",
    "ligEpsFITLL = []\n",
    "ligFitFITLL = []\n",
    "\n",
    "for ligand in all_ligands:\n",
    "    if float(ligand[3]) > 250:\n",
    "        ligPolFITH.append(ligand[0])\n",
    "        ligAziFITH.append(ligand[1])\n",
    "        ligEpsFITH.append(ligand[2])\n",
    "        ligFitFITH.append(float(ligand[3]))        \n",
    "    elif float(ligand[3]) > 200:\n",
    "        ligPolFITM.append(ligand[0])\n",
    "        ligAziFITM.append(ligand[1])\n",
    "        ligEpsFITM.append(ligand[2])\n",
    "        ligFitFITM.append(float(ligand[3]))        \n",
    "    elif float(ligand[3]) > 150:\n",
    "        ligPolFITL.append(ligand[0])\n",
    "        ligAziFITL.append(ligand[1])\n",
    "        ligEpsFITL.append(ligand[2])\n",
    "        ligFitFITL.append(float(ligand[3]))  \n",
    "    else:        \n",
    "        ligPolFITLL.append(ligand[0])\n",
    "        ligAziFITLL.append(ligand[1])\n",
    "        ligEpsFITLL.append(ligand[2])\n",
    "        ligFitFITLL.append(float(ligand[3]))  "
   ]
  },
  {
   "cell_type": "code",
   "execution_count": null,
   "metadata": {},
   "outputs": [],
   "source": [
    "plt.scatter(ligPolFITH, ligAziFITH, c=ligEpsFITH, s=40, cmap=plt.cm.Spectral)\n",
    "plt.colorbar()\n",
    "plt.xlabel(r'$\\theta$')\n",
    "plt.ylabel(r'$\\phi$')\n",
    "plt.title('only fitness > 250 color represents eps')"
   ]
  },
  {
   "cell_type": "code",
   "execution_count": null,
   "metadata": {},
   "outputs": [],
   "source": [
    "plt.scatter(ligPolFITM, ligAziFITM, c=ligEpsFITM, s=40, cmap=plt.cm.Spectral)\n",
    "plt.colorbar()\n",
    "plt.xlabel(r'$\\theta$')\n",
    "plt.ylabel(r'$\\phi$')\n",
    "plt.title('only fitness 200-250 color represents eps')"
   ]
  },
  {
   "cell_type": "code",
   "execution_count": null,
   "metadata": {},
   "outputs": [],
   "source": [
    "plt.scatter(ligPolFITL, ligAziFITL, c=ligEpsFITL, s=40, cmap=plt.cm.Spectral)\n",
    "plt.colorbar()\n",
    "plt.xlabel(r'$\\theta$')\n",
    "plt.ylabel(r'$\\phi$')\n",
    "plt.title('only fitness 150-200 color represents eps')"
   ]
  },
  {
   "cell_type": "code",
   "execution_count": null,
   "metadata": {},
   "outputs": [],
   "source": [
    "plt.scatter(ligPolFITLL, ligAziFITLL, c=ligEpsFITLL, s=40, cmap=plt.cm.Spectral)\n",
    "plt.colorbar()\n",
    "plt.xlabel(r'$\\theta$')\n",
    "plt.ylabel(r'$\\phi$')\n",
    "plt.title('only fitness 0-150 color represents eps')"
   ]
  },
  {
   "cell_type": "code",
   "execution_count": null,
   "metadata": {},
   "outputs": [],
   "source": [
    "%reset"
   ]
  },
  {
   "cell_type": "code",
   "execution_count": null,
   "metadata": {},
   "outputs": [],
   "source": []
  },
  {
   "cell_type": "code",
   "execution_count": null,
   "metadata": {},
   "outputs": [],
   "source": []
  },
  {
   "cell_type": "code",
   "execution_count": null,
   "metadata": {},
   "outputs": [],
   "source": []
  }
 ],
 "metadata": {
  "kernelspec": {
   "display_name": "Python 2",
   "language": "python",
   "name": "python2"
  },
  "language_info": {
   "codemirror_mode": {
    "name": "ipython",
    "version": 2
   },
   "file_extension": ".py",
   "mimetype": "text/x-python",
   "name": "python",
   "nbconvert_exporter": "python",
   "pygments_lexer": "ipython2",
   "version": "2.7.6"
  }
 },
 "nbformat": 4,
 "nbformat_minor": 2
}
