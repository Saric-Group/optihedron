{
 "cells": [
  {
   "cell_type": "code",
   "execution_count": 717,
   "metadata": {},
   "outputs": [],
   "source": [
    "from tools import analysistools as atools\n",
    "import nanoparticle\n",
    "from nanoparticle import Ligand, NanoParticle\n",
    "import math\n",
    "from membranesimulation import MembraneSimulation\n",
    "import numpy as np\n",
    "from tools import icosatiler\n",
    "from tools import vectools\n",
    "from tools import misctools\n",
    "import k3d\n",
    "import os\n",
    "import random\n",
    "import pickle\n",
    "from numpy import pi, cos, sin, arccos, arange"
   ]
  },
  {
   "cell_type": "code",
   "execution_count": null,
   "metadata": {},
   "outputs": [],
   "source": []
  },
  {
   "cell_type": "code",
   "execution_count": 541,
   "metadata": {},
   "outputs": [],
   "source": [
    "mag = lambda v : np.sqrt(np.sum([i*i for i in v]))"
   ]
  },
  {
   "cell_type": "code",
   "execution_count": 542,
   "metadata": {},
   "outputs": [],
   "source": [
    "def goldenSpiral(n,rad):\n",
    "    num_pts = 60\n",
    "    indices = arange(0, n, dtype=float) + 0.5\n",
    "    phi = arccos(1 - 2*indices/n)\n",
    "    theta = pi * (1 + 5**0.5) * indices\n",
    "    x, y, z = cos(theta) * sin(phi), sin(theta) * sin(phi), cos(phi)\n",
    "    sphs = []\n",
    "    for i in range(len(x)):\n",
    "        spp = icosatiler.crt2SphPol((x[i],y[i],z[i]))\n",
    "        spp = (rad,spp[1],spp[2])\n",
    "        sphs.append(spp)\n",
    "    return sphs\n",
    "    "
   ]
  },
  {
   "cell_type": "code",
   "execution_count": 543,
   "metadata": {},
   "outputs": [],
   "source": [
    "def ensure_dir(file_path):\n",
    "    directory = os.path.dirname(file_path)\n",
    "    if not os.path.exists(directory):\n",
    "        os.makedirs(directory)"
   ]
  },
  {
   "cell_type": "code",
   "execution_count": 544,
   "metadata": {},
   "outputs": [],
   "source": [
    "def norm(v):\n",
    "    m = mag(v)\n",
    "    vN = [float(i)/float(m) for i in v]\n",
    "    return vN"
   ]
  },
  {
   "cell_type": "code",
   "execution_count": 545,
   "metadata": {},
   "outputs": [],
   "source": [
    "def crossProd(u,v):\n",
    "    return ((u[1]*v[2]-u[2]*v[1]),(u[2]*v[0]-u[0]*v[2]),(u[0]*v[1]-u[1]*v[0]))"
   ]
  },
  {
   "cell_type": "code",
   "execution_count": 546,
   "metadata": {},
   "outputs": [],
   "source": [
    "def makeParticleModelFromPhenome(particle):\n",
    "    points = []\n",
    "    plot = k3d.plot()\n",
    "    i = 1\n",
    "    maxEps = 0\n",
    "    for l in particle.ligands:\n",
    "        if l.eps>maxEps:\n",
    "            maxEps = l.eps\n",
    "    for l in particle.ligands:\n",
    "        if l.eps > 0.0:\n",
    "            lx = l.rad*np.sin(l.polAng)*np.cos(l.aziAng)\n",
    "            ly = l.rad*np.sin(l.polAng)*np.sin(l.aziAng)\n",
    "            lz = l.rad*np.cos(l.polAng)\n",
    "            lc = '0x' + ('#%02x%02x%02x' % (0, int((l.eps/maxEps)*255.0), 0))[1:]\n",
    "            \n",
    "            plot += k3d.points([lx,ly,lz],point_size=1,color=int(lc, 16))\n",
    "            #plot += k3d.points([lx,ly,lz],point_size=1,color=int(0x00ffff*(l.eps/maxEps)))\n",
    "            plot += k3d.text(str(i),[lx,ly,lz],color=0xffffff)\n",
    "            i+=1\n",
    "    plot += k3d.points([0,0,0],point_size=7,color=0xff0000)\n",
    "    return plot"
   ]
  },
  {
   "cell_type": "code",
   "execution_count": 547,
   "metadata": {},
   "outputs": [],
   "source": [
    "def buildCoveredParticle(eps,rad):\n",
    "    particle = NanoParticle()\n",
    "    lPos = icosatiler.cover72SpherePolar(rad)\n",
    "    for v in lPos:\n",
    "        particle.addLigand(Ligand(eps,1,v[0],v[1],v[2]))\n",
    "    return particle"
   ]
  },
  {
   "cell_type": "code",
   "execution_count": 548,
   "metadata": {},
   "outputs": [],
   "source": [
    "def spaceIsOccupied(particle,v):\n",
    "    for l in particle.ligands:\n",
    "        d = atools.greatArcDist((l.polAng,l.aziAng),(v[1],v[2]),particle.sig)\n",
    "        if abs(d) < l.size:\n",
    "            return True\n",
    "    return False"
   ]
  },
  {
   "cell_type": "code",
   "execution_count": 549,
   "metadata": {},
   "outputs": [],
   "source": [
    "def getClosestIcos(particle,v):\n",
    "    lPos = icosatiler.cover72SpherePolar(particle.sig)\n",
    "    closest = v\n",
    "    minD = 1e8\n",
    "    for l in lPos:\n",
    "        v1 = icosatiler.sphPol2Crt(l) \n",
    "        v2 = icosatiler.sphPol2Crt(v)\n",
    "        d = np.sum([j*j for j in np.subtract(v1,v2)])\n",
    "        if abs(d) < minD:\n",
    "            minD = d\n",
    "            closest = l\n",
    "    return closest"
   ]
  },
  {
   "cell_type": "code",
   "execution_count": 550,
   "metadata": {},
   "outputs": [],
   "source": [
    "# lPos = icosatiler.cover72SpherePolar(4)\n",
    "# dists = []\n",
    "# minD = 1e8\n",
    "# for v in lPos:\n",
    "#     for l in lPos:\n",
    "#         if l != v:\n",
    "#             v1 = icosatiler.sphPol2Crt(l) \n",
    "#             v2 = icosatiler.sphPol2Crt(v)\n",
    "#             d = np.sum([j*j for j in np.subtract(v1,v2)])\n",
    "#             if abs(d) < minD:\n",
    "#                 minD = d\n",
    "#     dists.append(np.sqrt(minD))\n",
    "# print np.mean(dists)"
   ]
  },
  {
   "cell_type": "code",
   "execution_count": 551,
   "metadata": {},
   "outputs": [],
   "source": [
    "def addLigand(particle,eps,v,lock=False):\n",
    "    if lock:\n",
    "        v = getClosestIcos(particle,v)\n",
    "    if not spaceIsOccupied(particle,v):\n",
    "        particle.addLigand(Ligand(eps,1,v[0],v[1],v[2]))\n",
    "    return particle"
   ]
  },
  {
   "cell_type": "code",
   "execution_count": 656,
   "metadata": {},
   "outputs": [],
   "source": [
    "def addBelt(particle,eps,rad,n,phi,lock=False):\n",
    "    step = np.pi*2/float(n)\n",
    "    for i in range(n):\n",
    "        v = (rad,step*i,phi)\n",
    "        particle = addLigand(particle,eps,v,lock)\n",
    "    return particle"
   ]
  },
  {
   "cell_type": "code",
   "execution_count": 553,
   "metadata": {},
   "outputs": [],
   "source": [
    "def getArcAngle(dist,rad):\n",
    "    return dist/rad"
   ]
  },
  {
   "cell_type": "code",
   "execution_count": 554,
   "metadata": {},
   "outputs": [],
   "source": [
    "def addRing(particle,eps,rad,pos,n,spacing,lock=False):\n",
    "    step = np.pi*2/float(n)\n",
    "    if lock:\n",
    "        origin = getClosestIcos(particle,(rad,pos[0],pos[1]))\n",
    "        pos = (origin[1],origin[2])\n",
    "    for i in range(n):\n",
    "        tD = getArcAngle(spacing,rad)\n",
    "        tP = step*i\n",
    "        v = (rad,tD,tP)\n",
    "        vC = icosatiler.sphPol2Crt(v)\n",
    "        v1 = icosatiler.sphPol2Crt((rad,0,0))\n",
    "        v2 = icosatiler.sphPol2Crt((rad,pos[0],pos[1]))\n",
    "        v3 = crossProd(v1,v2)\n",
    "        if np.sum([j*j for j in v3])== 0.0:\n",
    "            #it's parallel!\n",
    "            particle = addLigand(particle,eps,v,lock)\n",
    "            continue\n",
    "        dp = np.dot(v1,v2)\n",
    "        #the magic sauce :)\n",
    "        ang = np.arctan2(mag(np.cross(v1,v2)), np.dot(v1,v2))\n",
    "        rM = vectools.buildERMatrix(v3, ang)\n",
    "        vC = np.dot(rM,vC)\n",
    "        v = icosatiler.crt2SphPol(vC)\n",
    "        particle = addLigand(particle,eps,v,lock)\n",
    "    return particle"
   ]
  },
  {
   "cell_type": "code",
   "execution_count": 555,
   "metadata": {},
   "outputs": [],
   "source": [
    "def addPatch(particle,eps,rad,pos,n,spacing,lock=False):\n",
    "    if lock:\n",
    "        origin = getClosestIcos(particle,(rad,pos[0],pos[1]))\n",
    "        pos = (origin[1],origin[2])\n",
    "    particle = addLigand(particle,eps,(rad,pos[0],pos[1]),lock)\n",
    "    particle = addRing(particle,eps,rad,pos,n,spacing,lock)\n",
    "    return particle"
   ]
  },
  {
   "cell_type": "code",
   "execution_count": 556,
   "metadata": {},
   "outputs": [],
   "source": [
    "def addMesh(particle,eps,rad,n,lock=False):\n",
    "    mesh = goldenSpiral(n,particle.sig)\n",
    "    for point in mesh:\n",
    "        particle = addLigand(particle,eps,point,lock)\n",
    "    return particle"
   ]
  },
  {
   "cell_type": "code",
   "execution_count": 557,
   "metadata": {},
   "outputs": [],
   "source": [
    "#makeParticleModelFromPhenome(buildCoveredParticle(6,4))"
   ]
  },
  {
   "cell_type": "code",
   "execution_count": 702,
   "metadata": {},
   "outputs": [],
   "source": [
    "zoo = {}\n",
    "minEps = 160\n",
    "maxEps = 300\n",
    "epsStep = 40"
   ]
  },
  {
   "cell_type": "code",
   "execution_count": 703,
   "metadata": {},
   "outputs": [],
   "source": [
    "for totalEps in xrange(minEps,maxEps,epsStep):\n",
    "    for i in xrange(24,64,6):\n",
    "        p = NanoParticle()\n",
    "        p = addMesh(p,1,4,i,False)\n",
    "        eps = float(totalEps)/(float(len(p.ligands)))\n",
    "        for l in p.ligands:\n",
    "            l.eps = eps\n",
    "        zoo[\"sp_\"+str(i)+\"_\"+str(totalEps)] = p"
   ]
  },
  {
   "cell_type": "code",
   "execution_count": 704,
   "metadata": {},
   "outputs": [],
   "source": [
    "sp = 1.5\n",
    "for totalEps in xrange(minEps,maxEps,epsStep):\n",
    "    for n in range(3,8):\n",
    "        p = NanoParticle()\n",
    "        for i in range(4):\n",
    "            p = addPatch(p,1,4,(float(i)*(np.pi*0.5),0),n,sp)\n",
    "        for i in range(2):\n",
    "            p = addPatch(p,1,4,((np.pi*0.5),float(i)*(np.pi)+0.5*np.pi),n,sp)\n",
    "        eps = float(totalEps)/(float(len(p.ligands)))\n",
    "        for l in p.ligands:\n",
    "            l.eps = eps\n",
    "        zoo[\"cube_\"+str(n)+\"_\"+str(totalEps)] = p"
   ]
  },
  {
   "cell_type": "code",
   "execution_count": 705,
   "metadata": {},
   "outputs": [],
   "source": [
    "sp = 2.5\n",
    "for totalEps in xrange(minEps,maxEps,epsStep):\n",
    "    for n in range(3,8):\n",
    "        p = NanoParticle()\n",
    "        for i in range(4):\n",
    "            p = addRing(p,1,4,(float(i)*(np.pi*0.5),0),n,sp)\n",
    "        for i in range(2):\n",
    "            p = addRing(p,1,4,((np.pi*0.5),float(i)*(np.pi)+0.5*np.pi),n,sp)\n",
    "        eps = float(totalEps)/(float(len(p.ligands)))\n",
    "        for l in p.ligands:\n",
    "            l.eps = eps\n",
    "        zoo[\"ring_\"+str(n)+\"_\"+str(totalEps)] = p"
   ]
  },
  {
   "cell_type": "code",
   "execution_count": 706,
   "metadata": {},
   "outputs": [],
   "source": [
    "for totalEps in xrange(minEps,maxEps,epsStep):\n",
    "    for n in xrange(8,20,2):\n",
    "        p = NanoParticle()\n",
    "        p = addBelt(p,1,4,n,0)\n",
    "        p = addBelt(p,1,4,n,np.pi*0.5)\n",
    "        eps = float(totalEps)/(float(len(p.ligands)))\n",
    "        for l in p.ligands:\n",
    "            l.eps = eps\n",
    "        zoo[\"cross_\"+str(n)+\"_\"+str(totalEps)] = p"
   ]
  },
  {
   "cell_type": "code",
   "execution_count": 707,
   "metadata": {},
   "outputs": [],
   "source": [
    "for totalEps in xrange(minEps,maxEps,epsStep):\n",
    "    for n in xrange(8,24,4):\n",
    "        p = NanoParticle()\n",
    "        p = addBelt(p,1,4,n,0)\n",
    "        p = addBelt(p,1,4,n,np.pi*0.5)\n",
    "        p = addRing(p,1,4,(0,0),n,np.pi*2)\n",
    "        eps = float(totalEps)/(float(len(p.ligands)))\n",
    "        for l in p.ligands:\n",
    "            l.eps = eps\n",
    "        zoo[\"octet_\"+str(n)+\"_\"+str(totalEps)] = p"
   ]
  },
  {
   "cell_type": "code",
   "execution_count": 708,
   "metadata": {},
   "outputs": [
    {
     "data": {
      "application/vnd.jupyter.widget-view+json": {
       "model_id": "b32d327db3d94e5c9d6c51eeda9cba54",
       "version_major": 2,
       "version_minor": 0
      },
      "text/html": [
       "<p>Failed to display Jupyter Widget of type <code>Plot</code>.</p>\n",
       "<p>\n",
       "  If you're reading this message in the Jupyter Notebook or JupyterLab Notebook, it may mean\n",
       "  that the widgets JavaScript is still loading. If this message persists, it\n",
       "  likely means that the widgets JavaScript library is either not installed or\n",
       "  not enabled. See the <a href=\"https://ipywidgets.readthedocs.io/en/stable/user_install.html\">Jupyter\n",
       "  Widgets Documentation</a> for setup instructions.\n",
       "</p>\n",
       "<p>\n",
       "  If you're reading this message in another frontend (for example, a static\n",
       "  rendering on GitHub or <a href=\"https://nbviewer.jupyter.org/\">NBViewer</a>),\n",
       "  it may mean that your frontend doesn't currently support widgets.\n",
       "</p>\n"
      ],
      "text/plain": [
       "Plot(antialias=True, background_color=16777215, grid=[-1, -1, -1, 1, 1, 1], height=512, object_ids=[121050363792, 121056787536, 121056904464, 121056423504, 121050363216, 121037633424, 121050363856, 121050364432, 121050364112, 121050362640, 121050363408, 120990354576, 121038401680, 121050363280, 121038401808, 121050362320, 120989917136, 120989914768, 120989916048, 120989914896, 121050362576, 120968717328, 120989918032, 121058015184, 120968717392, 121050363600, 121038401616, 121058013264, 121050364560, 120989913872, 120989914128, 120992394896, 120995496144, 121058016080, 121038074064, 121058015504, 121038074384, 121058015248, 121057107024, 121057107408, 120992395408, 121038074512, 121057106384, 121057107664, 121057107536, 120992395344, 120992395472, 121057106704, 121038970320, 121038970448, 121038714704, 121056323280, 121038714320, 121057107152, 121038715024, 121057107728, 121055296656, 121038714640, 121055295952, 121038714384, 121055295824, 121038715792, 121039851344, 121055296080, 121055297296, 121055296272, 121055296528, 121039851408, 121034514128, 121030234448, 121030234576, 121055294800, 121034514000, 121030234192, 121030234704, 121030235792, 121030236112, 121030234832, 121030236368, 121030235280, 121030236560, 121030235920, 121030235984, 121030236944, 121030235216, 121030236624, 121030237328, 121030238160, 121030235472, 121030236880, 121030237200, 121030235088, 121030235536, 121044439440, 121044439824, 121030237840, 121044440656, 121030238096, 121044440528, 121044440912, 121044439952, 121044441552, 121044440592, 121044440336, 121044440720, 121044441104, 121044441680, 121044441424, 121050364816])"
      ]
     },
     "metadata": {},
     "output_type": "display_data"
    }
   ],
   "source": [
    "makeParticleModelFromPhenome(p)"
   ]
  },
  {
   "cell_type": "code",
   "execution_count": 718,
   "metadata": {},
   "outputs": [],
   "source": [
    "with open('zoo.pickle', 'wb') as handle:\n",
    "    pickle.dump(zoo, handle, protocol=pickle.HIGHEST_PROTOCOL)"
   ]
  },
  {
   "cell_type": "code",
   "execution_count": 709,
   "metadata": {},
   "outputs": [
    {
     "name": "stdout",
     "output_type": "stream",
     "text": [
      "saved files: /Users/joelforster/Projects/optidb/models/run/ring_3_200_data.data, /Users/joelforster/Projects/optidb/models/run/ring_3_200_script.in\n",
      "saved files: /Users/joelforster/Projects/optidb/models/run/sp_48_240_data.data, /Users/joelforster/Projects/optidb/models/run/sp_48_240_script.in\n",
      "saved files: /Users/joelforster/Projects/optidb/models/run/ring_5_200_data.data, /Users/joelforster/Projects/optidb/models/run/ring_5_200_script.in\n",
      "saved files: /Users/joelforster/Projects/optidb/models/run/ring_5_160_data.data, /Users/joelforster/Projects/optidb/models/run/ring_5_160_script.in\n",
      "saved files: /Users/joelforster/Projects/optidb/models/run/octet_12_160_data.data, /Users/joelforster/Projects/optidb/models/run/octet_12_160_script.in\n",
      "saved files: /Users/joelforster/Projects/optidb/models/run/ring_3_280_data.data, /Users/joelforster/Projects/optidb/models/run/ring_3_280_script.in\n",
      "saved files: /Users/joelforster/Projects/optidb/models/run/sp_54_200_data.data, /Users/joelforster/Projects/optidb/models/run/sp_54_200_script.in\n",
      "saved files: /Users/joelforster/Projects/optidb/models/run/sp_48_160_data.data, /Users/joelforster/Projects/optidb/models/run/sp_48_160_script.in\n",
      "saved files: /Users/joelforster/Projects/optidb/models/run/ring_4_240_data.data, /Users/joelforster/Projects/optidb/models/run/ring_4_240_script.in\n",
      "saved files: /Users/joelforster/Projects/optidb/models/run/cube_7_240_data.data, /Users/joelforster/Projects/optidb/models/run/cube_7_240_script.in\n",
      "saved files: /Users/joelforster/Projects/optidb/models/run/sp_54_280_data.data, /Users/joelforster/Projects/optidb/models/run/sp_54_280_script.in\n",
      "saved files: /Users/joelforster/Projects/optidb/models/run/octet_12_240_data.data, /Users/joelforster/Projects/optidb/models/run/octet_12_240_script.in\n",
      "saved files: /Users/joelforster/Projects/optidb/models/run/sp_42_200_data.data, /Users/joelforster/Projects/optidb/models/run/sp_42_200_script.in\n",
      "saved files: /Users/joelforster/Projects/optidb/models/run/cross_16_200_data.data, /Users/joelforster/Projects/optidb/models/run/cross_16_200_script.in\n",
      "saved files: /Users/joelforster/Projects/optidb/models/run/cross_10_200_data.data, /Users/joelforster/Projects/optidb/models/run/cross_10_200_script.in\n",
      "saved files: /Users/joelforster/Projects/optidb/models/run/cross_12_200_data.data, /Users/joelforster/Projects/optidb/models/run/cross_12_200_script.in\n",
      "saved files: /Users/joelforster/Projects/optidb/models/run/cross_16_160_data.data, /Users/joelforster/Projects/optidb/models/run/cross_16_160_script.in\n",
      "saved files: /Users/joelforster/Projects/optidb/models/run/ring_6_200_data.data, /Users/joelforster/Projects/optidb/models/run/ring_6_200_script.in\n",
      "saved files: /Users/joelforster/Projects/optidb/models/run/cross_8_240_data.data, /Users/joelforster/Projects/optidb/models/run/cross_8_240_script.in\n",
      "saved files: /Users/joelforster/Projects/optidb/models/run/octet_8_200_data.data, /Users/joelforster/Projects/optidb/models/run/octet_8_200_script.in\n",
      "saved files: /Users/joelforster/Projects/optidb/models/run/cross_10_280_data.data, /Users/joelforster/Projects/optidb/models/run/cross_10_280_script.in\n",
      "saved files: /Users/joelforster/Projects/optidb/models/run/sp_36_200_data.data, /Users/joelforster/Projects/optidb/models/run/sp_36_200_script.in\n",
      "saved files: /Users/joelforster/Projects/optidb/models/run/sp_30_200_data.data, /Users/joelforster/Projects/optidb/models/run/sp_30_200_script.in\n",
      "saved files: /Users/joelforster/Projects/optidb/models/run/ring_5_280_data.data, /Users/joelforster/Projects/optidb/models/run/ring_5_280_script.in\n",
      "saved files: /Users/joelforster/Projects/optidb/models/run/ring_6_280_data.data, /Users/joelforster/Projects/optidb/models/run/ring_6_280_script.in\n",
      "saved files: /Users/joelforster/Projects/optidb/models/run/octet_20_240_data.data, /Users/joelforster/Projects/optidb/models/run/octet_20_240_script.in\n",
      "saved files: /Users/joelforster/Projects/optidb/models/run/sp_36_280_data.data, /Users/joelforster/Projects/optidb/models/run/sp_36_280_script.in\n",
      "saved files: /Users/joelforster/Projects/optidb/models/run/sp_30_280_data.data, /Users/joelforster/Projects/optidb/models/run/sp_30_280_script.in\n",
      "saved files: /Users/joelforster/Projects/optidb/models/run/octet_16_280_data.data, /Users/joelforster/Projects/optidb/models/run/octet_16_280_script.in\n",
      "saved files: /Users/joelforster/Projects/optidb/models/run/cube_6_240_data.data, /Users/joelforster/Projects/optidb/models/run/cube_6_240_script.in\n",
      "saved files: /Users/joelforster/Projects/optidb/models/run/octet_16_200_data.data, /Users/joelforster/Projects/optidb/models/run/octet_16_200_script.in\n",
      "saved files: /Users/joelforster/Projects/optidb/models/run/sp_42_280_data.data, /Users/joelforster/Projects/optidb/models/run/sp_42_280_script.in\n",
      "saved files: /Users/joelforster/Projects/optidb/models/run/ring_7_240_data.data, /Users/joelforster/Projects/optidb/models/run/ring_7_240_script.in\n",
      "saved files: /Users/joelforster/Projects/optidb/models/run/cross_16_280_data.data, /Users/joelforster/Projects/optidb/models/run/cross_16_280_script.in\n",
      "saved files: /Users/joelforster/Projects/optidb/models/run/cross_12_280_data.data, /Users/joelforster/Projects/optidb/models/run/cross_12_280_script.in\n",
      "saved files: /Users/joelforster/Projects/optidb/models/run/cross_18_240_data.data, /Users/joelforster/Projects/optidb/models/run/cross_18_240_script.in\n",
      "saved files: /Users/joelforster/Projects/optidb/models/run/cross_12_160_data.data, /Users/joelforster/Projects/optidb/models/run/cross_12_160_script.in\n",
      "saved files: /Users/joelforster/Projects/optidb/models/run/cube_7_200_data.data, /Users/joelforster/Projects/optidb/models/run/cube_7_200_script.in\n",
      "saved files: /Users/joelforster/Projects/optidb/models/run/ring_4_280_data.data, /Users/joelforster/Projects/optidb/models/run/ring_4_280_script.in\n",
      "saved files: /Users/joelforster/Projects/optidb/models/run/sp_60_200_data.data, /Users/joelforster/Projects/optidb/models/run/sp_60_200_script.in\n",
      "saved files: /Users/joelforster/Projects/optidb/models/run/cube_7_280_data.data, /Users/joelforster/Projects/optidb/models/run/cube_7_280_script.in\n",
      "saved files: /Users/joelforster/Projects/optidb/models/run/octet_20_280_data.data, /Users/joelforster/Projects/optidb/models/run/octet_20_280_script.in\n",
      "saved files: /Users/joelforster/Projects/optidb/models/run/cube_5_240_data.data, /Users/joelforster/Projects/optidb/models/run/cube_5_240_script.in\n",
      "saved files: /Users/joelforster/Projects/optidb/models/run/sp_24_280_data.data, /Users/joelforster/Projects/optidb/models/run/sp_24_280_script.in\n",
      "saved files: /Users/joelforster/Projects/optidb/models/run/cross_18_160_data.data, /Users/joelforster/Projects/optidb/models/run/cross_18_160_script.in\n",
      "saved files: /Users/joelforster/Projects/optidb/models/run/cube_3_160_data.data, /Users/joelforster/Projects/optidb/models/run/cube_3_160_script.in\n",
      "saved files: /Users/joelforster/Projects/optidb/models/run/ring_4_160_data.data, /Users/joelforster/Projects/optidb/models/run/ring_4_160_script.in\n",
      "saved files: /Users/joelforster/Projects/optidb/models/run/cube_3_240_data.data, /Users/joelforster/Projects/optidb/models/run/cube_3_240_script.in\n",
      "saved files: /Users/joelforster/Projects/optidb/models/run/octet_12_200_data.data, /Users/joelforster/Projects/optidb/models/run/octet_12_200_script.in\n",
      "saved files: /Users/joelforster/Projects/optidb/models/run/cube_6_280_data.data, /Users/joelforster/Projects/optidb/models/run/cube_6_280_script.in\n",
      "saved files: /Users/joelforster/Projects/optidb/models/run/sp_24_200_data.data, /Users/joelforster/Projects/optidb/models/run/sp_24_200_script.in\n",
      "saved files: /Users/joelforster/Projects/optidb/models/run/ring_3_160_data.data, /Users/joelforster/Projects/optidb/models/run/ring_3_160_script.in\n",
      "saved files: /Users/joelforster/Projects/optidb/models/run/cube_6_200_data.data, /Users/joelforster/Projects/optidb/models/run/cube_6_200_script.in\n",
      "saved files: /Users/joelforster/Projects/optidb/models/run/sp_48_280_data.data, /Users/joelforster/Projects/optidb/models/run/sp_48_280_script.in\n",
      "saved files: /Users/joelforster/Projects/optidb/models/run/cube_5_160_data.data, /Users/joelforster/Projects/optidb/models/run/cube_5_160_script.in\n",
      "saved files: /Users/joelforster/Projects/optidb/models/run/sp_54_240_data.data, /Users/joelforster/Projects/optidb/models/run/sp_54_240_script.in\n",
      "saved files: /Users/joelforster/Projects/optidb/models/run/ring_4_200_data.data, /Users/joelforster/Projects/optidb/models/run/ring_4_200_script.in\n",
      "saved files: /Users/joelforster/Projects/optidb/models/run/sp_60_280_data.data, /Users/joelforster/Projects/optidb/models/run/sp_60_280_script.in\n",
      "saved files: /Users/joelforster/Projects/optidb/models/run/cube_4_240_data.data, /Users/joelforster/Projects/optidb/models/run/cube_4_240_script.in\n",
      "saved files: /Users/joelforster/Projects/optidb/models/run/sp_60_160_data.data, /Users/joelforster/Projects/optidb/models/run/sp_60_160_script.in\n",
      "saved files: /Users/joelforster/Projects/optidb/models/run/ring_6_240_data.data, /Users/joelforster/Projects/optidb/models/run/ring_6_240_script.in\n",
      "saved files: /Users/joelforster/Projects/optidb/models/run/cross_8_200_data.data, /Users/joelforster/Projects/optidb/models/run/cross_8_200_script.in\n",
      "saved files: /Users/joelforster/Projects/optidb/models/run/cross_10_160_data.data, /Users/joelforster/Projects/optidb/models/run/cross_10_160_script.in\n",
      "saved files: /Users/joelforster/Projects/optidb/models/run/octet_8_240_data.data, /Users/joelforster/Projects/optidb/models/run/octet_8_240_script.in\n",
      "saved files: /Users/joelforster/Projects/optidb/models/run/cross_12_240_data.data, /Users/joelforster/Projects/optidb/models/run/cross_12_240_script.in\n",
      "saved files: /Users/joelforster/Projects/optidb/models/run/octet_8_280_data.data, /Users/joelforster/Projects/optidb/models/run/octet_8_280_script.in\n",
      "saved files: /Users/joelforster/Projects/optidb/models/run/cross_8_280_data.data, /Users/joelforster/Projects/optidb/models/run/cross_8_280_script.in\n",
      "saved files: /Users/joelforster/Projects/optidb/models/run/sp_36_240_data.data, /Users/joelforster/Projects/optidb/models/run/sp_36_240_script.in\n",
      "saved files: /Users/joelforster/Projects/optidb/models/run/sp_54_160_data.data, /Users/joelforster/Projects/optidb/models/run/sp_54_160_script.in\n",
      "saved files: /Users/joelforster/Projects/optidb/models/run/ring_7_160_data.data, /Users/joelforster/Projects/optidb/models/run/ring_7_160_script.in\n",
      "saved files: /Users/joelforster/Projects/optidb/models/run/octet_12_280_data.data, /Users/joelforster/Projects/optidb/models/run/octet_12_280_script.in\n",
      "saved files: /Users/joelforster/Projects/optidb/models/run/ring_6_160_data.data, /Users/joelforster/Projects/optidb/models/run/ring_6_160_script.in\n",
      "saved files: /Users/joelforster/Projects/optidb/models/run/sp_30_160_data.data, /Users/joelforster/Projects/optidb/models/run/sp_30_160_script.in\n",
      "saved files: /Users/joelforster/Projects/optidb/models/run/sp_30_240_data.data, /Users/joelforster/Projects/optidb/models/run/sp_30_240_script.in\n",
      "saved files: /Users/joelforster/Projects/optidb/models/run/ring_3_240_data.data, /Users/joelforster/Projects/optidb/models/run/ring_3_240_script.in\n",
      "saved files: /Users/joelforster/Projects/optidb/models/run/sp_48_200_data.data, /Users/joelforster/Projects/optidb/models/run/sp_48_200_script.in\n",
      "saved files: /Users/joelforster/Projects/optidb/models/run/ring_5_240_data.data, /Users/joelforster/Projects/optidb/models/run/ring_5_240_script.in\n",
      "saved files: /Users/joelforster/Projects/optidb/models/run/sp_24_240_data.data, /Users/joelforster/Projects/optidb/models/run/sp_24_240_script.in\n",
      "saved files: /Users/joelforster/Projects/optidb/models/run/octet_8_160_data.data, /Users/joelforster/Projects/optidb/models/run/octet_8_160_script.in\n",
      "saved files: /Users/joelforster/Projects/optidb/models/run/ring_7_280_data.data, /Users/joelforster/Projects/optidb/models/run/ring_7_280_script.in\n",
      "saved files: /Users/joelforster/Projects/optidb/models/run/octet_16_240_data.data, /Users/joelforster/Projects/optidb/models/run/octet_16_240_script.in\n",
      "saved files: /Users/joelforster/Projects/optidb/models/run/sp_24_160_data.data, /Users/joelforster/Projects/optidb/models/run/sp_24_160_script.in\n",
      "saved files: /Users/joelforster/Projects/optidb/models/run/octet_20_200_data.data, /Users/joelforster/Projects/optidb/models/run/octet_20_200_script.in\n",
      "saved files: /Users/joelforster/Projects/optidb/models/run/cross_14_240_data.data, /Users/joelforster/Projects/optidb/models/run/cross_14_240_script.in\n",
      "saved files: /Users/joelforster/Projects/optidb/models/run/sp_36_160_data.data, /Users/joelforster/Projects/optidb/models/run/sp_36_160_script.in\n",
      "saved files: /Users/joelforster/Projects/optidb/models/run/cross_14_160_data.data, /Users/joelforster/Projects/optidb/models/run/cross_14_160_script.in\n",
      "saved files: /Users/joelforster/Projects/optidb/models/run/ring_7_200_data.data, /Users/joelforster/Projects/optidb/models/run/ring_7_200_script.in\n",
      "saved files: /Users/joelforster/Projects/optidb/models/run/cross_18_280_data.data, /Users/joelforster/Projects/optidb/models/run/cross_18_280_script.in\n",
      "saved files: /Users/joelforster/Projects/optidb/models/run/sp_42_160_data.data, /Users/joelforster/Projects/optidb/models/run/sp_42_160_script.in\n",
      "saved files: /Users/joelforster/Projects/optidb/models/run/cross_16_240_data.data, /Users/joelforster/Projects/optidb/models/run/cross_16_240_script.in\n",
      "saved files: /Users/joelforster/Projects/optidb/models/run/cross_10_240_data.data, /Users/joelforster/Projects/optidb/models/run/cross_10_240_script.in\n",
      "saved files: /Users/joelforster/Projects/optidb/models/run/sp_42_240_data.data, /Users/joelforster/Projects/optidb/models/run/sp_42_240_script.in\n"
     ]
    },
    {
     "name": "stdout",
     "output_type": "stream",
     "text": [
      "saved files: /Users/joelforster/Projects/optidb/models/run/cross_18_200_data.data, /Users/joelforster/Projects/optidb/models/run/cross_18_200_script.in\n",
      "saved files: /Users/joelforster/Projects/optidb/models/run/cross_8_160_data.data, /Users/joelforster/Projects/optidb/models/run/cross_8_160_script.in\n",
      "saved files: /Users/joelforster/Projects/optidb/models/run/cross_14_280_data.data, /Users/joelforster/Projects/optidb/models/run/cross_14_280_script.in\n",
      "saved files: /Users/joelforster/Projects/optidb/models/run/sp_60_240_data.data, /Users/joelforster/Projects/optidb/models/run/sp_60_240_script.in\n",
      "saved files: /Users/joelforster/Projects/optidb/models/run/octet_16_160_data.data, /Users/joelforster/Projects/optidb/models/run/octet_16_160_script.in\n",
      "saved files: /Users/joelforster/Projects/optidb/models/run/cube_7_160_data.data, /Users/joelforster/Projects/optidb/models/run/cube_7_160_script.in\n",
      "saved files: /Users/joelforster/Projects/optidb/models/run/cube_4_280_data.data, /Users/joelforster/Projects/optidb/models/run/cube_4_280_script.in\n",
      "saved files: /Users/joelforster/Projects/optidb/models/run/cube_4_160_data.data, /Users/joelforster/Projects/optidb/models/run/cube_4_160_script.in\n",
      "saved files: /Users/joelforster/Projects/optidb/models/run/cube_3_200_data.data, /Users/joelforster/Projects/optidb/models/run/cube_3_200_script.in\n",
      "saved files: /Users/joelforster/Projects/optidb/models/run/cube_5_200_data.data, /Users/joelforster/Projects/optidb/models/run/cube_5_200_script.in\n",
      "saved files: /Users/joelforster/Projects/optidb/models/run/cross_14_200_data.data, /Users/joelforster/Projects/optidb/models/run/cross_14_200_script.in\n",
      "saved files: /Users/joelforster/Projects/optidb/models/run/octet_20_160_data.data, /Users/joelforster/Projects/optidb/models/run/octet_20_160_script.in\n",
      "saved files: /Users/joelforster/Projects/optidb/models/run/cube_4_200_data.data, /Users/joelforster/Projects/optidb/models/run/cube_4_200_script.in\n",
      "saved files: /Users/joelforster/Projects/optidb/models/run/cube_3_280_data.data, /Users/joelforster/Projects/optidb/models/run/cube_3_280_script.in\n",
      "saved files: /Users/joelforster/Projects/optidb/models/run/cube_6_160_data.data, /Users/joelforster/Projects/optidb/models/run/cube_6_160_script.in\n",
      "saved files: /Users/joelforster/Projects/optidb/models/run/cube_5_280_data.data, /Users/joelforster/Projects/optidb/models/run/cube_5_280_script.in\n"
     ]
    }
   ],
   "source": [
    "RUNTIME = 25000\n",
    "TIMESTEP = 0.01\n",
    "OUTDIR = \"/Users/joelforster/Projects/optidb/models/out/\"\n",
    "RUNDIR = \"/Users/joelforster/Projects/optidb/models/run/\"\n",
    "TEMPLATEDIR = \"/Users/joelforster/Projects/optihedron/mem/template\"\n",
    "TEMPLATEDATAPATH = os.path.join(TEMPLATEDIR,'data.template')\n",
    "TEMPLATEINPUTPATH = os.path.join(TEMPLATEDIR,'in.template')\n",
    "\n",
    "ensure_dir(OUTDIR)\n",
    "ensure_dir(RUNDIR)\n",
    "\n",
    "for k,v in zoo.iteritems():\n",
    "\n",
    "    sim = MembraneSimulation(\n",
    "            k,\n",
    "            v,\n",
    "            RUNTIME,\n",
    "            TIMESTEP,        \n",
    "            OUTDIR,\n",
    "            RUNDIR,\n",
    "            TEMPLATEDATAPATH,\n",
    "            TEMPLATEINPUTPATH,\n",
    "            rAxis=vectools.randomUnitVector(),\n",
    "            rAmount=random.uniform(0.3141,3.141)        \n",
    "            )\n",
    "    sim.saveFiles()"
   ]
  },
  {
   "cell_type": "code",
   "execution_count": 523,
   "metadata": {},
   "outputs": [
    {
     "data": {
      "text/plain": [
       "[(4, 0.7227342478134157, -1.199981614864327),\n",
       " (4, 1.318116071652818, 2.6832404625866064),\n",
       " (4, 1.8234765819369751, 0.2832772328579506),\n",
       " (4, 2.4188584057763776, -2.1166859968707015)]"
      ]
     },
     "execution_count": 523,
     "metadata": {},
     "output_type": "execute_result"
    }
   ],
   "source": []
  },
  {
   "cell_type": "code",
   "execution_count": null,
   "metadata": {},
   "outputs": [],
   "source": []
  },
  {
   "cell_type": "code",
   "execution_count": null,
   "metadata": {},
   "outputs": [],
   "source": []
  },
  {
   "cell_type": "code",
   "execution_count": null,
   "metadata": {},
   "outputs": [],
   "source": []
  }
 ],
 "metadata": {
  "kernelspec": {
   "display_name": "Python 2",
   "language": "python",
   "name": "python2"
  },
  "language_info": {
   "codemirror_mode": {
    "name": "ipython",
    "version": 2
   },
   "file_extension": ".py",
   "mimetype": "text/x-python",
   "name": "python",
   "nbconvert_exporter": "python",
   "pygments_lexer": "ipython2",
   "version": "2.7.14"
  }
 },
 "nbformat": 4,
 "nbformat_minor": 2
}
