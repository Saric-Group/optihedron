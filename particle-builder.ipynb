{
 "cells": [
  {
   "cell_type": "code",
   "execution_count": 170,
   "metadata": {},
   "outputs": [],
   "source": [
    "from tools import analysistools as atools\n",
    "import nanoparticle\n",
    "from nanoparticle import Ligand, NanoParticle\n",
    "import math\n",
    "from membranesimulation import MembraneSimulation\n",
    "import numpy as np\n",
    "from tools import icosatiler\n",
    "from tools import vectools\n",
    "import k3d"
   ]
  },
  {
   "cell_type": "code",
   "execution_count": 166,
   "metadata": {},
   "outputs": [],
   "source": [
    "def crossProd(u,v):\n",
    "    return ((u[1]*v[2]-u[2]*v[1]),(u[2]*v[0]-u[0]*v[2]),(u[0]*v[1]-u[1]*v[0]))"
   ]
  },
  {
   "cell_type": "code",
   "execution_count": 2,
   "metadata": {},
   "outputs": [],
   "source": [
    "def makeParticleModelFromPhenome(particle):\n",
    "    points = []\n",
    "    plot = k3d.plot()\n",
    "    i = 1\n",
    "    maxEps = 0\n",
    "    for l in particle.ligands:\n",
    "        if l.eps>maxEps:\n",
    "            maxEps = l.eps\n",
    "    for l in particle.ligands:\n",
    "        if l.eps > 0.0:\n",
    "            lx = l.rad*np.sin(l.polAng)*np.cos(l.aziAng)\n",
    "            ly = l.rad*np.sin(l.polAng)*np.sin(l.aziAng)\n",
    "            lz = l.rad*np.cos(l.polAng)\n",
    "            lc = '0x' + ('#%02x%02x%02x' % (0, int((l.eps/maxEps)*255.0), 0))[1:]\n",
    "            \n",
    "            plot += k3d.points([lx,ly,lz],point_size=1,color=int(lc, 16))\n",
    "            #plot += k3d.points([lx,ly,lz],point_size=1,color=int(0x00ffff*(l.eps/maxEps)))\n",
    "            plot += k3d.text(str(i),[lx,ly,lz],color=0xffffff)\n",
    "            i+=1\n",
    "    plot += k3d.points([0,0,0],point_size=7,color=0xff0000)\n",
    "    return plot"
   ]
  },
  {
   "cell_type": "code",
   "execution_count": 3,
   "metadata": {},
   "outputs": [],
   "source": [
    "def buildCoveredParticle(eps,rad):\n",
    "    particle = NanoParticle()\n",
    "    lPos = icosatiler.cover72SpherePolar(rad)\n",
    "    for v in lPos:\n",
    "        particle.addLigand(Ligand(eps,1,v[0],v[1],v[2]))\n",
    "    return particle"
   ]
  },
  {
   "cell_type": "code",
   "execution_count": 4,
   "metadata": {},
   "outputs": [],
   "source": [
    "def spaceIsOccupied(particle,v):\n",
    "    for l in particle.ligands:\n",
    "        d = atools.greatArcDist((l.polAng,l.aziAng),(v[1],v[2]),particle.sig)\n",
    "        if abs(d) < l.size:\n",
    "            return True\n",
    "    return False"
   ]
  },
  {
   "cell_type": "code",
   "execution_count": 106,
   "metadata": {},
   "outputs": [],
   "source": [
    "def getClosestIcos(particle,v):\n",
    "    lPos = icosatiler.cover72SpherePolar(particle.sig)\n",
    "    closest = v\n",
    "    minD = 1e8\n",
    "    for l in lPos:\n",
    "        v1 = icosatiler.sphPol2Crt(l) \n",
    "        v2 = icosatiler.sphPol2Crt(v)\n",
    "        d = np.sum([j*j for j in np.subtract(v1,v2)])\n",
    "        if abs(d) < minD:\n",
    "            minD = d\n",
    "            closest = l\n",
    "    return closest"
   ]
  },
  {
   "cell_type": "code",
   "execution_count": 146,
   "metadata": {},
   "outputs": [
    {
     "name": "stdout",
     "output_type": "stream",
     "text": [
      "1.5990747678128467\n"
     ]
    }
   ],
   "source": [
    "# lPos = icosatiler.cover72SpherePolar(4)\n",
    "# dists = []\n",
    "# minD = 1e8\n",
    "# for v in lPos:\n",
    "#     for l in lPos:\n",
    "#         if l != v:\n",
    "#             v1 = icosatiler.sphPol2Crt(l) \n",
    "#             v2 = icosatiler.sphPol2Crt(v)\n",
    "#             d = np.sum([j*j for j in np.subtract(v1,v2)])\n",
    "#             if abs(d) < minD:\n",
    "#                 minD = d\n",
    "#     dists.append(np.sqrt(minD))\n",
    "# print np.mean(dists)"
   ]
  },
  {
   "cell_type": "code",
   "execution_count": 52,
   "metadata": {},
   "outputs": [],
   "source": [
    "def addLigand(particle,eps,v,lock=False):\n",
    "    if lock:\n",
    "        v = getClosestIcos(particle,v)\n",
    "            \n",
    "    if not spaceIsOccupied(particle,v):\n",
    "        particle.addLigand(Ligand(eps,1,v[0],v[1],v[2]))\n",
    "    return particle"
   ]
  },
  {
   "cell_type": "code",
   "execution_count": 53,
   "metadata": {},
   "outputs": [],
   "source": [
    "def addBelt(particle,eps,rad,n,phi,lock=False):\n",
    "    step = np.pi*2/float(n)\n",
    "    for i in range(n):\n",
    "        v = (rad,step*i,phi)\n",
    "        particle = addLigand(particle,eps,v,lock)\n",
    "    return particle"
   ]
  },
  {
   "cell_type": "code",
   "execution_count": 54,
   "metadata": {},
   "outputs": [],
   "source": [
    "def getArcAngle(dist,rad):\n",
    "    return dist/rad"
   ]
  },
  {
   "cell_type": "code",
   "execution_count": 284,
   "metadata": {},
   "outputs": [],
   "source": [
    "def addRing(particle,eps,rad,pos,n,spacing,lock=False):\n",
    "    step = np.pi*2/float(n)\n",
    "    if lock:\n",
    "        origin = getClosestIcos(particle,(rad,pos[0],pos[1]))\n",
    "        pos = (origin[1],origin[2])\n",
    "    for i in range(n):\n",
    "        tD = getArcAngle(spacing,rad)\n",
    "        tP = step*i\n",
    "        v = (rad,tD,tP)\n",
    "        vC = icosatiler.sphPol2Crt(v)\n",
    "        v1 = icosatiler.sphPol2Crt((rad,0,0))\n",
    "        v2 = icosatiler.sphPol2Crt((rad,pos[0],pos[1]))\n",
    "        v3 = crossProd(v1,v2)\n",
    "        ang = np.arccos((np.dot(v1,v2))/(np.sqrt(np.sum([j*j for j in v1]))*np.sqrt(np.sum([j*j for j in v2]))))\n",
    "        rM = vectools.buildERMatrix(v3, ang)\n",
    "        vC = np.dot(rM,vC)\n",
    "        v = icosatiler.crt2SphPol(vC)\n",
    "        particle = addLigand(particle,eps,v,lock)\n",
    "    return particle"
   ]
  },
  {
   "cell_type": "code",
   "execution_count": 285,
   "metadata": {},
   "outputs": [],
   "source": [
    "def addPatch(particle,eps,rad,pos,n,spacing,lock=False):\n",
    "    if lock:\n",
    "        origin = getClosestIcos(particle,(rad,pos[0],pos[1]))\n",
    "        pos = (origin[1],origin[2])\n",
    "    particle = addLigand(particle,eps,(rad,pos[0],pos[1]),lock)\n",
    "    particle = addRing(particle,eps,rad,pos,n,spacing)\n",
    "    return particle"
   ]
  },
  {
   "cell_type": "code",
   "execution_count": 286,
   "metadata": {},
   "outputs": [
    {
     "name": "stdout",
     "output_type": "stream",
     "text": [
      "(1.2188879348723525, 0.7627921485173454)\n"
     ]
    }
   ],
   "source": [
    "lPos = icosatiler.cover72SpherePolar(4)\n",
    "print (lPos[0][1],lPos[0][2])"
   ]
  },
  {
   "cell_type": "code",
   "execution_count": 305,
   "metadata": {},
   "outputs": [],
   "source": [
    "p = NanoParticle()"
   ]
  },
  {
   "cell_type": "code",
   "execution_count": 306,
   "metadata": {},
   "outputs": [],
   "source": [
    "p = addPatch(p,6,4,(1.0,0),10,1.6,lock=True)\n",
    "# p = addRing(p,10,4,(lPos[0][1],lPos[0][2]),6,0,lock=False)"
   ]
  },
  {
   "cell_type": "code",
   "execution_count": 307,
   "metadata": {},
   "outputs": [
    {
     "data": {
      "application/vnd.jupyter.widget-view+json": {
       "model_id": "c73f46c9f1244c3d97fe1b139347bdb3",
       "version_major": 2,
       "version_minor": 0
      },
      "text/html": [
       "<p>Failed to display Jupyter Widget of type <code>Plot</code>.</p>\n",
       "<p>\n",
       "  If you're reading this message in the Jupyter Notebook or JupyterLab Notebook, it may mean\n",
       "  that the widgets JavaScript is still loading. If this message persists, it\n",
       "  likely means that the widgets JavaScript library is either not installed or\n",
       "  not enabled. See the <a href=\"https://ipywidgets.readthedocs.io/en/stable/user_install.html\">Jupyter\n",
       "  Widgets Documentation</a> for setup instructions.\n",
       "</p>\n",
       "<p>\n",
       "  If you're reading this message in another frontend (for example, a static\n",
       "  rendering on GitHub or <a href=\"https://nbviewer.jupyter.org/\">NBViewer</a>),\n",
       "  it may mean that your frontend doesn't currently support widgets.\n",
       "</p>\n"
      ],
      "text/plain": [
       "Plot(antialias=True, background_color=16777215, grid=[-1, -1, -1, 1, 1, 1], height=512, object_ids=[120955991760, 120955838864, 120955698576, 120955839760, 120955697616, 120955990096, 120955990416, 120955991440, 120955990992, 120955993040, 120955993104, 120955992976, 120955990224])"
      ]
     },
     "metadata": {},
     "output_type": "display_data"
    }
   ],
   "source": [
    "makeParticleModelFromPhenome(p)"
   ]
  },
  {
   "cell_type": "code",
   "execution_count": 141,
   "metadata": {},
   "outputs": [
    {
     "data": {
      "application/vnd.jupyter.widget-view+json": {
       "model_id": "917450dd00014b99a44f9ea4d7b69894",
       "version_major": 2,
       "version_minor": 0
      },
      "text/html": [
       "<p>Failed to display Jupyter Widget of type <code>Plot</code>.</p>\n",
       "<p>\n",
       "  If you're reading this message in the Jupyter Notebook or JupyterLab Notebook, it may mean\n",
       "  that the widgets JavaScript is still loading. If this message persists, it\n",
       "  likely means that the widgets JavaScript library is either not installed or\n",
       "  not enabled. See the <a href=\"https://ipywidgets.readthedocs.io/en/stable/user_install.html\">Jupyter\n",
       "  Widgets Documentation</a> for setup instructions.\n",
       "</p>\n",
       "<p>\n",
       "  If you're reading this message in another frontend (for example, a static\n",
       "  rendering on GitHub or <a href=\"https://nbviewer.jupyter.org/\">NBViewer</a>),\n",
       "  it may mean that your frontend doesn't currently support widgets.\n",
       "</p>\n"
      ],
      "text/plain": [
       "Plot(antialias=True, background_color=16777215, grid=[-1, -1, -1, 1, 1, 1], height=512, object_ids=[120951468368, 120951177680, 120951335312, 120951111504, 120951335184, 120951468688, 120951469904, 120951333136, 120951179344, 120951469712, 120951336784, 120951469456, 120951470736, 120951334800, 120951471312, 120951470288, 120951471632, 120951470416, 120951469584, 120951471696, 120951469648, 120951471120, 120951471824, 120951470608, 120951471376, 120951471760, 120951471952, 120951644752, 120951468496, 120951471440, 120951644624, 120951645648, 120951644880, 120951645072, 120951645520, 120951645008, 120951645968, 120951645264, 120951645392, 120951645840, 120951644496, 120951646224, 120951647632, 120951646608, 120951647760, 120951647568, 120951646480, 120951648080, 120951644560, 120951647952, 120951775440, 120951775376, 120951647888, 120951648208, 120951648016, 120951775952, 120951775888, 120951647504, 120951776016, 120951775504, 120951776464, 120951777744, 120951777808, 120951777552, 120951778448, 120951778000, 120951778768, 120951777232, 120951779024, 120951779088, 120951777296, 120951776208, 120951778256, 120951778384, 120951777936, 120951923728, 120951778512, 120951779152, 120951923664, 120951778896, 120951777488, 120951924304, 120951924176, 120951922768, 120951924240, 120951924752, 120951924560, 120951923472, 120951924368, 120951923856, 120951924624, 120951925328, 120951926352, 120951924816, 120951926672, 120951924944, 120951926544, 120951925648, 120951926032, 120951926160, 120952038288, 120951925392, 120951926736, 120952037520, 120952037776, 120952038480, 120952039248, 120952037456, 120952039568, 120952037584, 120952038544, 120952038608, 120952038160, 120952040208, 120952039440, 120952039632, 120952040848, 120951925136, 120952040720, 120952039504, 120952040144, 120952037648, 120952041040, 120952040912, 120952037904, 120952041168, 120952193360, 120952040080, 120952194384, 120952193296, 120952038800, 120952194576, 120952194192, 120952193488, 120952194704, 120952193424, 120952195664, 120952195216, 120952194896, 120952193808, 120952193936, 120952196176, 120952193744, 120952195408, 120951333520])"
      ]
     },
     "metadata": {},
     "output_type": "display_data"
    }
   ],
   "source": [
    "makeParticleModelFromPhenome(buildCoveredParticle(10,4))"
   ]
  },
  {
   "cell_type": "code",
   "execution_count": null,
   "metadata": {},
   "outputs": [],
   "source": []
  },
  {
   "cell_type": "code",
   "execution_count": null,
   "metadata": {},
   "outputs": [],
   "source": []
  }
 ],
 "metadata": {
  "kernelspec": {
   "display_name": "Python 2",
   "language": "python",
   "name": "python2"
  },
  "language_info": {
   "codemirror_mode": {
    "name": "ipython",
    "version": 2
   },
   "file_extension": ".py",
   "mimetype": "text/x-python",
   "name": "python",
   "nbconvert_exporter": "python",
   "pygments_lexer": "ipython2",
   "version": "2.7.14"
  }
 },
 "nbformat": 4,
 "nbformat_minor": 2
}
