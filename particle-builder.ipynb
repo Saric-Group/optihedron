{
 "cells": [
  {
   "cell_type": "code",
   "execution_count": 513,
   "metadata": {},
   "outputs": [],
   "source": [
    "from tools import analysistools as atools\n",
    "import nanoparticle\n",
    "from nanoparticle import Ligand, NanoParticle\n",
    "import math\n",
    "from membranesimulation import MembraneSimulation\n",
    "import numpy as np\n",
    "from tools import icosatiler\n",
    "from tools import vectools\n",
    "from tools import misctools\n",
    "import k3d\n",
    "import os\n",
    "import random\n",
    "from numpy import pi, cos, sin, arccos, arange"
   ]
  },
  {
   "cell_type": "code",
   "execution_count": 408,
   "metadata": {},
   "outputs": [],
   "source": [
    "mag = lambda v : np.sqrt(np.sum([i*i for i in v]))"
   ]
  },
  {
   "cell_type": "code",
   "execution_count": 522,
   "metadata": {},
   "outputs": [],
   "source": [
    "def goldenSpiral(n,rad):\n",
    "    num_pts = 60\n",
    "    indices = arange(0, n, dtype=float) + 0.5\n",
    "    phi = arccos(1 - 2*indices/n)\n",
    "    theta = pi * (1 + 5**0.5) * indices\n",
    "    x, y, z = cos(theta) * sin(phi), sin(theta) * sin(phi), cos(phi)\n",
    "    sphs = []\n",
    "    for i in range(len(x)):\n",
    "        spp = icosatiler.crt2SphPol((x[i],y[i],z[i]))\n",
    "        spp = (rad,spp[1],spp[2])\n",
    "        sphs.append(spp)\n",
    "    return sphs\n",
    "    "
   ]
  },
  {
   "cell_type": "code",
   "execution_count": 457,
   "metadata": {},
   "outputs": [],
   "source": [
    "def ensure_dir(file_path):\n",
    "    directory = os.path.dirname(file_path)\n",
    "    if not os.path.exists(directory):\n",
    "        os.makedirs(directory)"
   ]
  },
  {
   "cell_type": "code",
   "execution_count": 410,
   "metadata": {},
   "outputs": [],
   "source": [
    "def norm(v):\n",
    "    m = mag(v)\n",
    "    vN = [float(i)/float(m) for i in v]\n",
    "    return vN"
   ]
  },
  {
   "cell_type": "code",
   "execution_count": 385,
   "metadata": {},
   "outputs": [],
   "source": [
    "def crossProd(u,v):\n",
    "    return ((u[1]*v[2]-u[2]*v[1]),(u[2]*v[0]-u[0]*v[2]),(u[0]*v[1]-u[1]*v[0]))"
   ]
  },
  {
   "cell_type": "code",
   "execution_count": 386,
   "metadata": {},
   "outputs": [],
   "source": [
    "def makeParticleModelFromPhenome(particle):\n",
    "    points = []\n",
    "    plot = k3d.plot()\n",
    "    i = 1\n",
    "    maxEps = 0\n",
    "    for l in particle.ligands:\n",
    "        if l.eps>maxEps:\n",
    "            maxEps = l.eps\n",
    "    for l in particle.ligands:\n",
    "        if l.eps > 0.0:\n",
    "            lx = l.rad*np.sin(l.polAng)*np.cos(l.aziAng)\n",
    "            ly = l.rad*np.sin(l.polAng)*np.sin(l.aziAng)\n",
    "            lz = l.rad*np.cos(l.polAng)\n",
    "            lc = '0x' + ('#%02x%02x%02x' % (0, int((l.eps/maxEps)*255.0), 0))[1:]\n",
    "            \n",
    "            plot += k3d.points([lx,ly,lz],point_size=1,color=int(lc, 16))\n",
    "            #plot += k3d.points([lx,ly,lz],point_size=1,color=int(0x00ffff*(l.eps/maxEps)))\n",
    "            plot += k3d.text(str(i),[lx,ly,lz],color=0xffffff)\n",
    "            i+=1\n",
    "    plot += k3d.points([0,0,0],point_size=7,color=0xff0000)\n",
    "    return plot"
   ]
  },
  {
   "cell_type": "code",
   "execution_count": 387,
   "metadata": {},
   "outputs": [],
   "source": [
    "def buildCoveredParticle(eps,rad):\n",
    "    particle = NanoParticle()\n",
    "    lPos = icosatiler.cover72SpherePolar(rad)\n",
    "    for v in lPos:\n",
    "        particle.addLigand(Ligand(eps,1,v[0],v[1],v[2]))\n",
    "    return particle"
   ]
  },
  {
   "cell_type": "code",
   "execution_count": 388,
   "metadata": {},
   "outputs": [],
   "source": [
    "def spaceIsOccupied(particle,v):\n",
    "    for l in particle.ligands:\n",
    "        d = atools.greatArcDist((l.polAng,l.aziAng),(v[1],v[2]),particle.sig)\n",
    "        if abs(d) < l.size:\n",
    "            return True\n",
    "    return False"
   ]
  },
  {
   "cell_type": "code",
   "execution_count": 475,
   "metadata": {},
   "outputs": [],
   "source": [
    "def getClosestIcos(particle,v):\n",
    "    lPos = icosatiler.cover72SpherePolar(particle.sig)\n",
    "    closest = v\n",
    "    minD = 1e8\n",
    "    for l in lPos:\n",
    "        v1 = icosatiler.sphPol2Crt(l) \n",
    "        v2 = icosatiler.sphPol2Crt(v)\n",
    "        d = np.sum([j*j for j in np.subtract(v1,v2)])\n",
    "        if abs(d) < minD:\n",
    "            minD = d\n",
    "            closest = l\n",
    "    return closest"
   ]
  },
  {
   "cell_type": "code",
   "execution_count": 390,
   "metadata": {},
   "outputs": [],
   "source": [
    "# lPos = icosatiler.cover72SpherePolar(4)\n",
    "# dists = []\n",
    "# minD = 1e8\n",
    "# for v in lPos:\n",
    "#     for l in lPos:\n",
    "#         if l != v:\n",
    "#             v1 = icosatiler.sphPol2Crt(l) \n",
    "#             v2 = icosatiler.sphPol2Crt(v)\n",
    "#             d = np.sum([j*j for j in np.subtract(v1,v2)])\n",
    "#             if abs(d) < minD:\n",
    "#                 minD = d\n",
    "#     dists.append(np.sqrt(minD))\n",
    "# print np.mean(dists)"
   ]
  },
  {
   "cell_type": "code",
   "execution_count": 391,
   "metadata": {},
   "outputs": [],
   "source": [
    "def addLigand(particle,eps,v,lock=False):\n",
    "    if lock:\n",
    "        v = getClosestIcos(particle,v)\n",
    "    if not spaceIsOccupied(particle,v):\n",
    "        particle.addLigand(Ligand(eps,1,v[0],v[1],v[2]))\n",
    "    return particle"
   ]
  },
  {
   "cell_type": "code",
   "execution_count": 392,
   "metadata": {},
   "outputs": [],
   "source": [
    "def addBelt(particle,eps,rad,n,phi,lock=False):\n",
    "    step = np.pi*2/float(n)\n",
    "    for i in range(n):\n",
    "        v = (rad,step*i,phi)\n",
    "        particle = addLigand(particle,eps,v,lock)\n",
    "    return particle"
   ]
  },
  {
   "cell_type": "code",
   "execution_count": 393,
   "metadata": {},
   "outputs": [],
   "source": [
    "def getArcAngle(dist,rad):\n",
    "    return dist/rad"
   ]
  },
  {
   "cell_type": "code",
   "execution_count": 426,
   "metadata": {},
   "outputs": [],
   "source": [
    "def addRing(particle,eps,rad,pos,n,spacing,lock=False):\n",
    "    step = np.pi*2/float(n)\n",
    "    if lock:\n",
    "        origin = getClosestIcos(particle,(rad,pos[0],pos[1]))\n",
    "        pos = (origin[1],origin[2])\n",
    "    for i in range(n):\n",
    "        tD = getArcAngle(spacing,rad)\n",
    "        tP = step*i\n",
    "        v = (rad,tD,tP)\n",
    "        vC = icosatiler.sphPol2Crt(v)\n",
    "        v1 = icosatiler.sphPol2Crt((rad,0,0))\n",
    "        v2 = icosatiler.sphPol2Crt((rad,pos[0],pos[1]))\n",
    "        v3 = crossProd(v1,v2)\n",
    "        if np.sum([j*j for j in v3])== 0.0:\n",
    "            #it's parallel!\n",
    "            particle = addLigand(particle,eps,v,lock)\n",
    "            continue\n",
    "        dp = np.dot(v1,v2)\n",
    "        #the magic sauce :)\n",
    "        ang = np.arctan2(mag(np.cross(v1,v2)), np.dot(v1,v2))\n",
    "        rM = vectools.buildERMatrix(v3, ang)\n",
    "        vC = np.dot(rM,vC)\n",
    "        v = icosatiler.crt2SphPol(vC)\n",
    "        particle = addLigand(particle,eps,v,lock)\n",
    "    return particle"
   ]
  },
  {
   "cell_type": "code",
   "execution_count": 492,
   "metadata": {},
   "outputs": [],
   "source": [
    "def addPatch(particle,eps,rad,pos,n,spacing,lock=False):\n",
    "    if lock:\n",
    "        origin = getClosestIcos(particle,(rad,pos[0],pos[1]))\n",
    "        pos = (origin[1],origin[2])\n",
    "    particle = addLigand(particle,eps,(rad,pos[0],pos[1]),lock)\n",
    "    particle = addRing(particle,eps,rad,pos,n,spacing,lock)\n",
    "    return particle"
   ]
  },
  {
   "cell_type": "code",
   "execution_count": 524,
   "metadata": {},
   "outputs": [],
   "source": [
    "def addMesh(particle,eps,rad,n,lock=False):\n",
    "    mesh = goldenSpiral(n,particle.sig)\n",
    "    for point in mesh:\n",
    "        particle = addLigand(particle,eps,point,lock)\n",
    "    return particle"
   ]
  },
  {
   "cell_type": "code",
   "execution_count": 497,
   "metadata": {},
   "outputs": [],
   "source": [
    "#makeParticleModelFromPhenome(buildCoveredParticle(6,4))"
   ]
  },
  {
   "cell_type": "code",
   "execution_count": 538,
   "metadata": {},
   "outputs": [],
   "source": [
    "p = NanoParticle()\n",
    "m = 3\n",
    "step = np.pi*2/float(m)\n",
    "p = addMesh(p,6,4,24,False)\n",
    "# for i in range(m):\n",
    "#     p = addPatch(p,6,4,(i*step,np.pi/2.0),6,1.6,lock=True)\n",
    "# p = addPatch(p,6,4,(np.pi/2.0,0),6,1.6,lock=True)\n",
    "# p = addPatch(p,6,4,(3*np.pi/2.0,0),6,1.6,lock=True)\n",
    "# p = addBelt(p,6,4,29,0,lock=True)"
   ]
  },
  {
   "cell_type": "code",
   "execution_count": null,
   "metadata": {},
   "outputs": [],
   "source": []
  },
  {
   "cell_type": "code",
   "execution_count": 539,
   "metadata": {},
   "outputs": [
    {
     "data": {
      "application/vnd.jupyter.widget-view+json": {
       "model_id": "161807f76d254ce8ae9c873b8e9ead94",
       "version_major": 2,
       "version_minor": 0
      },
      "text/html": [
       "<p>Failed to display Jupyter Widget of type <code>Plot</code>.</p>\n",
       "<p>\n",
       "  If you're reading this message in the Jupyter Notebook or JupyterLab Notebook, it may mean\n",
       "  that the widgets JavaScript is still loading. If this message persists, it\n",
       "  likely means that the widgets JavaScript library is either not installed or\n",
       "  not enabled. See the <a href=\"https://ipywidgets.readthedocs.io/en/stable/user_install.html\">Jupyter\n",
       "  Widgets Documentation</a> for setup instructions.\n",
       "</p>\n",
       "<p>\n",
       "  If you're reading this message in another frontend (for example, a static\n",
       "  rendering on GitHub or <a href=\"https://nbviewer.jupyter.org/\">NBViewer</a>),\n",
       "  it may mean that your frontend doesn't currently support widgets.\n",
       "</p>\n"
      ],
      "text/plain": [
       "Plot(antialias=True, background_color=16777215, grid=[-1, -1, -1, 1, 1, 1], height=512, object_ids=[121033671440, 120969076624, 121033053008, 121033673232, 121033671120, 121033672784, 121033672272, 121033672528, 121033673424, 121033672144, 121033674576, 121033673104, 121033674640, 121033670736, 121033056144, 121033673168, 121033674064, 121033673808, 121033806736, 121033806352, 121033807312, 121033672336, 121033674320, 121033806480, 121033674000, 121033807376, 121033807632, 121033807824, 121033672720, 121033808336, 121033807952, 121033808208, 121033809232, 121033805904, 121033807056, 121033809104, 121033809296, 121033807696, 121033808016, 121033809744, 121033809168, 121033953488, 121033808656, 121033809680, 121033809552, 121033954448, 121033954384, 121033954512, 121032914576])"
      ]
     },
     "metadata": {},
     "output_type": "display_data"
    }
   ],
   "source": [
    "makeParticleModelFromPhenome(p)"
   ]
  },
  {
   "cell_type": "code",
   "execution_count": 510,
   "metadata": {},
   "outputs": [
    {
     "name": "stdout",
     "output_type": "stream",
     "text": [
      "saved files: /Users/joelforster/Projects/optidb/models/run/model_WHPC5DADA4_data.data, /Users/joelforster/Projects/optidb/models/run/model_WHPC5DADA4_script.in\n"
     ]
    }
   ],
   "source": [
    "RUNTIME = 25000\n",
    "TIMESTEP = 0.01\n",
    "OUTDIR = \"/Users/joelforster/Projects/optidb/models/out/\"\n",
    "RUNDIR = \"/Users/joelforster/Projects/optidb/models/run/\"\n",
    "TEMPLATEDIR = \"/Users/joelforster/Projects/optihedron/mem/template\"\n",
    "TEMPLATEDATAPATH = os.path.join(TEMPLATEDIR,'data.template')\n",
    "TEMPLATEINPUTPATH = os.path.join(TEMPLATEDIR,'in.template')\n",
    "\n",
    "ensure_dir(OUTDIR)\n",
    "ensure_dir(RUNDIR)\n",
    "\n",
    "sim = MembraneSimulation(\n",
    "        'model_'+misctools.randomStr(10),\n",
    "        p,\n",
    "        RUNTIME,\n",
    "        TIMESTEP,        \n",
    "        OUTDIR,\n",
    "        RUNDIR,\n",
    "        TEMPLATEDATAPATH,\n",
    "        TEMPLATEINPUTPATH,\n",
    "        rAxis=vectools.randomUnitVector(),\n",
    "        rAmount=random.uniform(0.3141,3.141)        \n",
    "        )\n",
    "sim.saveFiles()"
   ]
  },
  {
   "cell_type": "code",
   "execution_count": 523,
   "metadata": {},
   "outputs": [
    {
     "data": {
      "text/plain": [
       "[(4, 0.7227342478134157, -1.199981614864327),\n",
       " (4, 1.318116071652818, 2.6832404625866064),\n",
       " (4, 1.8234765819369751, 0.2832772328579506),\n",
       " (4, 2.4188584057763776, -2.1166859968707015)]"
      ]
     },
     "execution_count": 523,
     "metadata": {},
     "output_type": "execute_result"
    }
   ],
   "source": []
  },
  {
   "cell_type": "code",
   "execution_count": null,
   "metadata": {},
   "outputs": [],
   "source": []
  },
  {
   "cell_type": "code",
   "execution_count": null,
   "metadata": {},
   "outputs": [],
   "source": []
  },
  {
   "cell_type": "code",
   "execution_count": null,
   "metadata": {},
   "outputs": [],
   "source": []
  }
 ],
 "metadata": {
  "kernelspec": {
   "display_name": "Python 2",
   "language": "python",
   "name": "python2"
  },
  "language_info": {
   "codemirror_mode": {
    "name": "ipython",
    "version": 2
   },
   "file_extension": ".py",
   "mimetype": "text/x-python",
   "name": "python",
   "nbconvert_exporter": "python",
   "pygments_lexer": "ipython2",
   "version": "2.7.14"
  }
 },
 "nbformat": 4,
 "nbformat_minor": 2
}
