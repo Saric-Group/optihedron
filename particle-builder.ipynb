{
 "cells": [
  {
   "cell_type": "code",
   "execution_count": 407,
   "metadata": {},
   "outputs": [],
   "source": [
    "from tools import analysistools as atools\n",
    "import nanoparticle\n",
    "from nanoparticle import Ligand, NanoParticle\n",
    "import math\n",
    "from membranesimulation import MembraneSimulation\n",
    "import numpy as np\n",
    "from tools import icosatiler\n",
    "from tools import vectools\n",
    "import k3d\n",
    "\n"
   ]
  },
  {
   "cell_type": "code",
   "execution_count": 408,
   "metadata": {},
   "outputs": [],
   "source": [
    "mag = lambda v : np.sqrt(np.sum([i*i for i in v]))"
   ]
  },
  {
   "cell_type": "code",
   "execution_count": 410,
   "metadata": {},
   "outputs": [],
   "source": [
    "def norm(v):\n",
    "    m = mag(v)\n",
    "    vN = [float(i)/float(m) for i in v]\n",
    "    return vN"
   ]
  },
  {
   "cell_type": "code",
   "execution_count": 385,
   "metadata": {},
   "outputs": [],
   "source": [
    "def crossProd(u,v):\n",
    "    return ((u[1]*v[2]-u[2]*v[1]),(u[2]*v[0]-u[0]*v[2]),(u[0]*v[1]-u[1]*v[0]))"
   ]
  },
  {
   "cell_type": "code",
   "execution_count": 386,
   "metadata": {},
   "outputs": [],
   "source": [
    "def makeParticleModelFromPhenome(particle):\n",
    "    points = []\n",
    "    plot = k3d.plot()\n",
    "    i = 1\n",
    "    maxEps = 0\n",
    "    for l in particle.ligands:\n",
    "        if l.eps>maxEps:\n",
    "            maxEps = l.eps\n",
    "    for l in particle.ligands:\n",
    "        if l.eps > 0.0:\n",
    "            lx = l.rad*np.sin(l.polAng)*np.cos(l.aziAng)\n",
    "            ly = l.rad*np.sin(l.polAng)*np.sin(l.aziAng)\n",
    "            lz = l.rad*np.cos(l.polAng)\n",
    "            lc = '0x' + ('#%02x%02x%02x' % (0, int((l.eps/maxEps)*255.0), 0))[1:]\n",
    "            \n",
    "            plot += k3d.points([lx,ly,lz],point_size=1,color=int(lc, 16))\n",
    "            #plot += k3d.points([lx,ly,lz],point_size=1,color=int(0x00ffff*(l.eps/maxEps)))\n",
    "            plot += k3d.text(str(i),[lx,ly,lz],color=0xffffff)\n",
    "            i+=1\n",
    "    plot += k3d.points([0,0,0],point_size=7,color=0xff0000)\n",
    "    return plot"
   ]
  },
  {
   "cell_type": "code",
   "execution_count": 387,
   "metadata": {},
   "outputs": [],
   "source": [
    "def buildCoveredParticle(eps,rad):\n",
    "    particle = NanoParticle()\n",
    "    lPos = icosatiler.cover72SpherePolar(rad)\n",
    "    for v in lPos:\n",
    "        particle.addLigand(Ligand(eps,1,v[0],v[1],v[2]))\n",
    "    return particle"
   ]
  },
  {
   "cell_type": "code",
   "execution_count": 388,
   "metadata": {},
   "outputs": [],
   "source": [
    "def spaceIsOccupied(particle,v):\n",
    "    for l in particle.ligands:\n",
    "        d = atools.greatArcDist((l.polAng,l.aziAng),(v[1],v[2]),particle.sig)\n",
    "        if abs(d) < l.size:\n",
    "            return True\n",
    "    return False"
   ]
  },
  {
   "cell_type": "code",
   "execution_count": 389,
   "metadata": {},
   "outputs": [],
   "source": [
    "def getClosestIcos(particle,v):\n",
    "    lPos = icosatiler.cover72SpherePolar(particle.sig)\n",
    "    closest = v\n",
    "    minD = 1e8\n",
    "    for l in lPos:\n",
    "        v1 = icosatiler.sphPol2Crt(l) \n",
    "        v2 = icosatiler.sphPol2Crt(v)\n",
    "        d = np.sum([j*j for j in np.subtract(v1,v2)])\n",
    "        if abs(d) < minD:\n",
    "            minD = d\n",
    "            closest = l\n",
    "    return closest"
   ]
  },
  {
   "cell_type": "code",
   "execution_count": 390,
   "metadata": {},
   "outputs": [],
   "source": [
    "# lPos = icosatiler.cover72SpherePolar(4)\n",
    "# dists = []\n",
    "# minD = 1e8\n",
    "# for v in lPos:\n",
    "#     for l in lPos:\n",
    "#         if l != v:\n",
    "#             v1 = icosatiler.sphPol2Crt(l) \n",
    "#             v2 = icosatiler.sphPol2Crt(v)\n",
    "#             d = np.sum([j*j for j in np.subtract(v1,v2)])\n",
    "#             if abs(d) < minD:\n",
    "#                 minD = d\n",
    "#     dists.append(np.sqrt(minD))\n",
    "# print np.mean(dists)"
   ]
  },
  {
   "cell_type": "code",
   "execution_count": 391,
   "metadata": {},
   "outputs": [],
   "source": [
    "def addLigand(particle,eps,v,lock=False):\n",
    "    if lock:\n",
    "        v = getClosestIcos(particle,v)\n",
    "            \n",
    "    if not spaceIsOccupied(particle,v):\n",
    "        particle.addLigand(Ligand(eps,1,v[0],v[1],v[2]))\n",
    "    return particle"
   ]
  },
  {
   "cell_type": "code",
   "execution_count": 392,
   "metadata": {},
   "outputs": [],
   "source": [
    "def addBelt(particle,eps,rad,n,phi,lock=False):\n",
    "    step = np.pi*2/float(n)\n",
    "    for i in range(n):\n",
    "        v = (rad,step*i,phi)\n",
    "        particle = addLigand(particle,eps,v,lock)\n",
    "    return particle"
   ]
  },
  {
   "cell_type": "code",
   "execution_count": 393,
   "metadata": {},
   "outputs": [],
   "source": [
    "def getArcAngle(dist,rad):\n",
    "    return dist/rad"
   ]
  },
  {
   "cell_type": "code",
   "execution_count": 426,
   "metadata": {},
   "outputs": [],
   "source": [
    "def addRing(particle,eps,rad,pos,n,spacing,lock=False):\n",
    "    step = np.pi*2/float(n)\n",
    "    if lock:\n",
    "        origin = getClosestIcos(particle,(rad,pos[0],pos[1]))\n",
    "        pos = (origin[1],origin[2])\n",
    "    for i in range(n):\n",
    "        tD = getArcAngle(spacing,rad)\n",
    "        tP = step*i\n",
    "        v = (rad,tD,tP)\n",
    "        vC = icosatiler.sphPol2Crt(v)\n",
    "        v1 = icosatiler.sphPol2Crt((rad,0,0))\n",
    "        v2 = icosatiler.sphPol2Crt((rad,pos[0],pos[1]))\n",
    "        v3 = crossProd(v1,v2)\n",
    "        if np.sum([j*j for j in v3])== 0.0:\n",
    "            #it's parallel!\n",
    "            particle = addLigand(particle,eps,v,lock)\n",
    "            continue\n",
    "        dp = np.dot(v1,v2)\n",
    "        #the magic sauce :)\n",
    "        ang = np.arctan2(mag(np.cross(v1,v2)), np.dot(v1,v2))\n",
    "        rM = vectools.buildERMatrix(v3, ang)\n",
    "        vC = np.dot(rM,vC)\n",
    "        v = icosatiler.crt2SphPol(vC)\n",
    "        particle = addLigand(particle,eps,v,lock)\n",
    "    return particle"
   ]
  },
  {
   "cell_type": "code",
   "execution_count": 427,
   "metadata": {},
   "outputs": [],
   "source": [
    "def addPatch(particle,eps,rad,pos,n,spacing,lock=False):\n",
    "    if lock:\n",
    "        origin = getClosestIcos(particle,(rad,pos[0],pos[1]))\n",
    "        pos = (origin[1],origin[2])\n",
    "    particle = addLigand(particle,eps,(rad,pos[0],pos[1]),lock)\n",
    "    particle = addRing(particle,eps,rad,pos,n,spacing)\n",
    "    return particle"
   ]
  },
  {
   "cell_type": "code",
   "execution_count": null,
   "metadata": {},
   "outputs": [],
   "source": []
  },
  {
   "cell_type": "code",
   "execution_count": null,
   "metadata": {},
   "outputs": [],
   "source": []
  },
  {
   "cell_type": "code",
   "execution_count": 438,
   "metadata": {},
   "outputs": [],
   "source": [
    "p = NanoParticle()\n",
    "m = 3\n",
    "step = np.pi*2/float(m)\n",
    "for i in range(m):\n",
    "    p = addPatch(p,6,4,(i*step,np.pi/2.0),5,1.6,lock=True)\n",
    "p = addPatch(p,6,4,(np.pi/2.0,0),5,1.6,lock=True)\n",
    "p = addPatch(p,6,4,(3*np.pi/2.0,0),5,1.6,lock=True)\n",
    "p = addBelt(p,6,4,10,0,lock=True)"
   ]
  },
  {
   "cell_type": "code",
   "execution_count": 439,
   "metadata": {},
   "outputs": [
    {
     "data": {
      "application/vnd.jupyter.widget-view+json": {
       "model_id": "f7fdb015368942819285ff5f5f593e39",
       "version_major": 2,
       "version_minor": 0
      },
      "text/html": [
       "<p>Failed to display Jupyter Widget of type <code>Plot</code>.</p>\n",
       "<p>\n",
       "  If you're reading this message in the Jupyter Notebook or JupyterLab Notebook, it may mean\n",
       "  that the widgets JavaScript is still loading. If this message persists, it\n",
       "  likely means that the widgets JavaScript library is either not installed or\n",
       "  not enabled. See the <a href=\"https://ipywidgets.readthedocs.io/en/stable/user_install.html\">Jupyter\n",
       "  Widgets Documentation</a> for setup instructions.\n",
       "</p>\n",
       "<p>\n",
       "  If you're reading this message in another frontend (for example, a static\n",
       "  rendering on GitHub or <a href=\"https://nbviewer.jupyter.org/\">NBViewer</a>),\n",
       "  it may mean that your frontend doesn't currently support widgets.\n",
       "</p>\n"
      ],
      "text/plain": [
       "Plot(antialias=True, background_color=16777215, grid=[-1, -1, -1, 1, 1, 1], height=512, object_ids=[120968101008, 120967862800, 120968100624, 120968098384, 120968099920, 120968098896, 120968100176, 120967426128, 120968100368, 120967862480, 120968101712, 120967427728, 120968100112, 120968277776, 120968099536, 120968277392, 120968275024, 120968100240, 120968275408, 120967860304, 120968274576, 120968275920, 120968274960, 120968275216, 120968275280, 120968274704, 120968276880, 120968276368, 120968276944, 120968277264, 120968276752, 120968277072, 120968276240, 120968276304, 120968277328, 120968275088, 120968271696, 120968271888, 120968271312, 120968272336, 120968272656, 120968271184, 120968276496, 120968272144, 120968273296, 120968271376, 120968273616, 120968272208, 120968277200, 120968271120, 120968273808, 120968273424, 120968272976, 120968273680, 120968273552, 120968573072, 120968272848, 120968574288, 120968573648, 120968272080, 120968273040, 120968574352, 120968573840, 120968573584, 120968575056, 120968272400, 120968574672, 120968574992, 120968573328, 120968575120, 120968100304])"
      ]
     },
     "metadata": {},
     "output_type": "display_data"
    }
   ],
   "source": [
    "makeParticleModelFromPhenome(p)"
   ]
  },
  {
   "cell_type": "code",
   "execution_count": null,
   "metadata": {},
   "outputs": [],
   "source": []
  },
  {
   "cell_type": "code",
   "execution_count": null,
   "metadata": {},
   "outputs": [],
   "source": []
  },
  {
   "cell_type": "code",
   "execution_count": null,
   "metadata": {},
   "outputs": [],
   "source": []
  },
  {
   "cell_type": "code",
   "execution_count": null,
   "metadata": {},
   "outputs": [],
   "source": []
  },
  {
   "cell_type": "code",
   "execution_count": null,
   "metadata": {},
   "outputs": [],
   "source": []
  }
 ],
 "metadata": {
  "kernelspec": {
   "display_name": "Python 2",
   "language": "python",
   "name": "python2"
  },
  "language_info": {
   "codemirror_mode": {
    "name": "ipython",
    "version": 2
   },
   "file_extension": ".py",
   "mimetype": "text/x-python",
   "name": "python",
   "nbconvert_exporter": "python",
   "pygments_lexer": "ipython2",
   "version": "2.7.14"
  }
 },
 "nbformat": 4,
 "nbformat_minor": 2
}
