{
 "cells": [
  {
   "cell_type": "code",
   "execution_count": 23,
   "metadata": {},
   "outputs": [],
   "source": [
    "from tools import analysistools as atools\n",
    "import nanoparticle\n",
    "from nanoparticle import Ligand, NanoParticle\n",
    "import math\n",
    "from membranesimulation import MembraneSimulation\n",
    "import numpy as np\n",
    "from tools import icosatiler\n",
    "import k3d"
   ]
  },
  {
   "cell_type": "code",
   "execution_count": 21,
   "metadata": {},
   "outputs": [],
   "source": [
    "def makeParticleModelFromPhenome(particle):\n",
    "    points = []\n",
    "    plot = k3d.plot()\n",
    "    i = 1\n",
    "    maxEps = 0\n",
    "    for l in particle.ligands:\n",
    "        if l.eps>maxEps:\n",
    "            maxEps = l.eps\n",
    "    for l in particle.ligands:\n",
    "        if l.eps > 0.0:\n",
    "            lx = l.rad*np.sin(l.polAng)*np.cos(l.aziAng)\n",
    "            ly = l.rad*np.sin(l.polAng)*np.sin(l.aziAng)\n",
    "            lz = l.rad*np.cos(l.polAng)\n",
    "            lc = '0x' + ('#%02x%02x%02x' % (0, int((l.eps/maxEps)*255.0), 0))[1:]\n",
    "            \n",
    "            plot += k3d.points([lx,ly,lz],point_size=1,color=int(lc, 16))\n",
    "            #plot += k3d.points([lx,ly,lz],point_size=1,color=int(0x00ffff*(l.eps/maxEps)))\n",
    "            plot += k3d.text(str(i),[lx,ly,lz],color=0xffffff)\n",
    "            i+=1\n",
    "    plot += k3d.points([0,0,0],point_size=7,color=0xff0000)\n",
    "    return plot"
   ]
  },
  {
   "cell_type": "code",
   "execution_count": 19,
   "metadata": {},
   "outputs": [],
   "source": [
    "def buildCoveredParticle(eps,rad):\n",
    "    particle = NanoParticle()\n",
    "    lPos = icosatiler.cover72SpherePolar(rad)\n",
    "    for v in lPos:\n",
    "        particle.addLigand(Ligand(eps,1,v[0],v[1],v[2]))\n",
    "    return particle"
   ]
  },
  {
   "cell_type": "code",
   "execution_count": 208,
   "metadata": {},
   "outputs": [],
   "source": [
    "def spaceIsOccupied(particle,v):\n",
    "    for l in particle.ligands:\n",
    "        d = atools.greatArcDist((l.polAng,l.aziAng),(v[1],v[2]),particle.sig)\n",
    "        if abs(d) < l.size:\n",
    "            return True\n",
    "    return False"
   ]
  },
  {
   "cell_type": "code",
   "execution_count": 365,
   "metadata": {},
   "outputs": [],
   "source": [
    "def addLigand(particle,eps,v,lock=False):\n",
    "    if lock:\n",
    "        lPos = icosatiler.cover72SpherePolar(particle.sig)\n",
    "        closest = v\n",
    "        minD = 1e8\n",
    "        for l in lPos:\n",
    "            d = atools.greatArcDist((l[1],l[2]),(v[1],v[2]),particle.sig)\n",
    "            if abs(d) < minD:\n",
    "                minD = d\n",
    "                closest = l\n",
    "        v = closest\n",
    "        print minD\n",
    "            \n",
    "    if not spaceIsOccupied(particle,v):\n",
    "        particle.addLigand(Ligand(eps,1,v[0],v[1],v[2]))\n",
    "    return particle"
   ]
  },
  {
   "cell_type": "code",
   "execution_count": 305,
   "metadata": {},
   "outputs": [],
   "source": [
    "def addBelt(particle,eps,rad,n,phi,lock=False):\n",
    "    step = np.pi*2/float(n)\n",
    "    for i in range(n):\n",
    "        v = (rad,step*i,phi)\n",
    "        particle = addLigand(particle,eps,v,lock)\n",
    "    return particle"
   ]
  },
  {
   "cell_type": "code",
   "execution_count": 306,
   "metadata": {},
   "outputs": [],
   "source": [
    "def getArcAngle(dist,rad):\n",
    "    return dist/rad"
   ]
  },
  {
   "cell_type": "code",
   "execution_count": 400,
   "metadata": {},
   "outputs": [],
   "source": [
    "def addRing(particle,eps,rad,pos,n,spacing,lock=False):\n",
    "    step = np.pi*2/float(n)\n",
    "    for i in range(n):\n",
    "        v = (rad,getArcAngle(spacing,rad),step*i)\n",
    "        \n",
    "        v = (v[0],v[1] + pos[0],v[2] + pos[1])\n",
    "        print atools.greatArcDist((pos[0],pos[1]),(v[1],v[2]),4)\n",
    "        particle = addLigand(particle,eps,v,lock)\n",
    "    return particle"
   ]
  },
  {
   "cell_type": "code",
   "execution_count": 401,
   "metadata": {},
   "outputs": [],
   "source": [
    "def addPatch(particle,eps,rad,pos,n,spacing,lock=False):\n",
    "    particle = addLigand(particle,eps,(rad,pos[0],pos[1]),lock)\n",
    "    particle = addRing(particle,eps,rad,pos,n,spacing)\n",
    "    return particle"
   ]
  },
  {
   "cell_type": "code",
   "execution_count": 402,
   "metadata": {},
   "outputs": [
    {
     "name": "stdout",
     "output_type": "stream",
     "text": [
      "(1.2188879348723525, 0.7627921485173454)\n"
     ]
    }
   ],
   "source": [
    "lPos = icosatiler.cover72SpherePolar(4)\n",
    "print (lPos[0][1],lPos[0][2])"
   ]
  },
  {
   "cell_type": "code",
   "execution_count": 403,
   "metadata": {},
   "outputs": [],
   "source": [
    "p = NanoParticle()"
   ]
  },
  {
   "cell_type": "code",
   "execution_count": 404,
   "metadata": {},
   "outputs": [
    {
     "name": "stdout",
     "output_type": "stream",
     "text": [
      "0.49999999999999795\n",
      "4.025766814328572\n",
      "7.841434111241992\n",
      "10.25110347897882\n",
      "7.841434111241993\n",
      "4.025766814328575\n"
     ]
    }
   ],
   "source": [
    "p = addRing(p,10,4,(lPos[0][1],lPos[0][2]),6,0.5,lock=False)\n",
    "# p = addRing(p,10,4,(lPos[0][1],lPos[0][2]),6,0,lock=False)"
   ]
  },
  {
   "cell_type": "code",
   "execution_count": 396,
   "metadata": {},
   "outputs": [
    {
     "data": {
      "application/vnd.jupyter.widget-view+json": {
       "model_id": "fef0e5828dec4922baf214f43d79abdc",
       "version_major": 2,
       "version_minor": 0
      },
      "text/html": [
       "<p>Failed to display Jupyter Widget of type <code>Plot</code>.</p>\n",
       "<p>\n",
       "  If you're reading this message in the Jupyter Notebook or JupyterLab Notebook, it may mean\n",
       "  that the widgets JavaScript is still loading. If this message persists, it\n",
       "  likely means that the widgets JavaScript library is either not installed or\n",
       "  not enabled. See the <a href=\"https://ipywidgets.readthedocs.io/en/stable/user_install.html\">Jupyter\n",
       "  Widgets Documentation</a> for setup instructions.\n",
       "</p>\n",
       "<p>\n",
       "  If you're reading this message in another frontend (for example, a static\n",
       "  rendering on GitHub or <a href=\"https://nbviewer.jupyter.org/\">NBViewer</a>),\n",
       "  it may mean that your frontend doesn't currently support widgets.\n",
       "</p>\n"
      ],
      "text/plain": [
       "Plot(antialias=True, background_color=16777215, grid=[-1, -1, -1, 1, 1, 1], height=512, object_ids=[120921170256, 120921023568, 120920881936, 120920600784, 120921024784, 120920164112, 120921170384, 120921171152, 120921026000, 120921171984, 120921170000, 120920446416, 120920600656])"
      ]
     },
     "metadata": {},
     "output_type": "display_data"
    }
   ],
   "source": [
    "makeParticleModelFromPhenome(p)"
   ]
  },
  {
   "cell_type": "code",
   "execution_count": 327,
   "metadata": {},
   "outputs": [
    {
     "data": {
      "application/vnd.jupyter.widget-view+json": {
       "model_id": "182c7bc4ce1245b983605c33c6390316",
       "version_major": 2,
       "version_minor": 0
      },
      "text/html": [
       "<p>Failed to display Jupyter Widget of type <code>Plot</code>.</p>\n",
       "<p>\n",
       "  If you're reading this message in the Jupyter Notebook or JupyterLab Notebook, it may mean\n",
       "  that the widgets JavaScript is still loading. If this message persists, it\n",
       "  likely means that the widgets JavaScript library is either not installed or\n",
       "  not enabled. See the <a href=\"https://ipywidgets.readthedocs.io/en/stable/user_install.html\">Jupyter\n",
       "  Widgets Documentation</a> for setup instructions.\n",
       "</p>\n",
       "<p>\n",
       "  If you're reading this message in another frontend (for example, a static\n",
       "  rendering on GitHub or <a href=\"https://nbviewer.jupyter.org/\">NBViewer</a>),\n",
       "  it may mean that your frontend doesn't currently support widgets.\n",
       "</p>\n"
      ],
      "text/plain": [
       "Plot(antialias=True, background_color=16777215, grid=[-1, -1, -1, 1, 1, 1], height=512, object_ids=[120916486608, 120915825680, 120914969360, 120916061264, 120916486864, 120916486736, 120916486672, 120916484944, 120916343632, 120916484560, 120916485712, 120916487824, 120916488144, 120916343696, 120916486800, 120916488080, 120916486288, 120916702352, 120916486544, 120916701776, 120916702864, 120916702160, 120916702736, 120916488016, 120916703440, 120916701840, 120916703824, 120916703568, 120916703952, 120916701648, 120916702096, 120916702544, 120916702224, 120916704848, 120916702672, 120916703760, 120916704976, 120916704080, 120916704336, 120916705168, 120916837072, 120916705040, 120916703888, 120916704208, 120916837712, 120916837456, 120916704784, 120916838288, 120916837136, 120916836816, 120916836880, 120916836688, 120916839120, 120916837328, 120916839504, 120916836752, 120916839760, 120916839824, 120916838352, 120916840080, 120916839056, 120916838480, 120916992656, 120916838800, 120916839632, 120916839696, 120916992592, 120916992976, 120916992208, 120916839568, 120916839312, 120916993872, 120916838736, 120916994192, 120916993296, 120916992784, 120916994832, 120916993808, 120916992720, 120916995216, 120916993744, 120916993232, 120916993168, 120916992272, 120916993680, 120916995408, 120916992912, 120916993360, 120916994896, 120916995152, 120917115152, 120917115280, 120917115728, 120916994768, 120916995728, 120916993552, 120917116816, 120917114960, 120917116112, 120917115024, 120917117520, 120917117648, 120917116496, 120917117968, 120917118160, 120917116560, 120917116752, 120917117072, 120916994640, 120917115344, 120917116432, 120917117712, 120917117584, 120917118608, 120917117904, 120917115792, 120917115216, 120917118288, 120917262928, 120917117392, 120917264144, 120917264272, 120917263376, 120917264464, 120917118928, 120917263568, 120917264400, 120917262800, 120917265360, 120917262864, 120917263184, 120917264336, 120917266064, 120917262480, 120917264080, 120917264656, 120917265872, 120917263760, 120917265616, 120917263120, 120917385552, 120917266192, 120917265104, 120917385424, 120916485840])"
      ]
     },
     "metadata": {},
     "output_type": "display_data"
    }
   ],
   "source": [
    "makeParticleModelFromPhenome(buildCoveredParticle(10,4))"
   ]
  },
  {
   "cell_type": "code",
   "execution_count": null,
   "metadata": {},
   "outputs": [],
   "source": []
  }
 ],
 "metadata": {
  "kernelspec": {
   "display_name": "Python 2",
   "language": "python",
   "name": "python2"
  },
  "language_info": {
   "codemirror_mode": {
    "name": "ipython",
    "version": 2
   },
   "file_extension": ".py",
   "mimetype": "text/x-python",
   "name": "python",
   "nbconvert_exporter": "python",
   "pygments_lexer": "ipython2",
   "version": "2.7.14"
  }
 },
 "nbformat": 4,
 "nbformat_minor": 2
}
