{
 "cells": [
  {
   "cell_type": "code",
   "execution_count": 170,
   "metadata": {},
   "outputs": [],
   "source": [
    "from tools import analysistools as atools\n",
    "import nanoparticle\n",
    "from nanoparticle import Ligand, NanoParticle\n",
    "import math\n",
    "from membranesimulation import MembraneSimulation\n",
    "import numpy as np\n",
    "from tools import icosatiler\n",
    "from tools import vectools\n",
    "import k3d"
   ]
  },
  {
   "cell_type": "code",
   "execution_count": 166,
   "metadata": {},
   "outputs": [],
   "source": [
    "def crossProd(u,v):\n",
    "    return ((u[1]*v[2]-u[2]*v[1]),(u[2]*v[0]-u[0]*v[2]),(u[0]*v[1]-u[1]*v[0]))"
   ]
  },
  {
   "cell_type": "code",
   "execution_count": 2,
   "metadata": {},
   "outputs": [],
   "source": [
    "def makeParticleModelFromPhenome(particle):\n",
    "    points = []\n",
    "    plot = k3d.plot()\n",
    "    i = 1\n",
    "    maxEps = 0\n",
    "    for l in particle.ligands:\n",
    "        if l.eps>maxEps:\n",
    "            maxEps = l.eps\n",
    "    for l in particle.ligands:\n",
    "        if l.eps > 0.0:\n",
    "            lx = l.rad*np.sin(l.polAng)*np.cos(l.aziAng)\n",
    "            ly = l.rad*np.sin(l.polAng)*np.sin(l.aziAng)\n",
    "            lz = l.rad*np.cos(l.polAng)\n",
    "            lc = '0x' + ('#%02x%02x%02x' % (0, int((l.eps/maxEps)*255.0), 0))[1:]\n",
    "            \n",
    "            plot += k3d.points([lx,ly,lz],point_size=1,color=int(lc, 16))\n",
    "            #plot += k3d.points([lx,ly,lz],point_size=1,color=int(0x00ffff*(l.eps/maxEps)))\n",
    "            plot += k3d.text(str(i),[lx,ly,lz],color=0xffffff)\n",
    "            i+=1\n",
    "    plot += k3d.points([0,0,0],point_size=7,color=0xff0000)\n",
    "    return plot"
   ]
  },
  {
   "cell_type": "code",
   "execution_count": 3,
   "metadata": {},
   "outputs": [],
   "source": [
    "def buildCoveredParticle(eps,rad):\n",
    "    particle = NanoParticle()\n",
    "    lPos = icosatiler.cover72SpherePolar(rad)\n",
    "    for v in lPos:\n",
    "        particle.addLigand(Ligand(eps,1,v[0],v[1],v[2]))\n",
    "    return particle"
   ]
  },
  {
   "cell_type": "code",
   "execution_count": 4,
   "metadata": {},
   "outputs": [],
   "source": [
    "def spaceIsOccupied(particle,v):\n",
    "    for l in particle.ligands:\n",
    "        d = atools.greatArcDist((l.polAng,l.aziAng),(v[1],v[2]),particle.sig)\n",
    "        if abs(d) < l.size:\n",
    "            return True\n",
    "    return False"
   ]
  },
  {
   "cell_type": "code",
   "execution_count": 106,
   "metadata": {},
   "outputs": [],
   "source": [
    "def getClosestIcos(particle,v):\n",
    "    lPos = icosatiler.cover72SpherePolar(particle.sig)\n",
    "    closest = v\n",
    "    minD = 1e8\n",
    "    for l in lPos:\n",
    "        v1 = icosatiler.sphPol2Crt(l) \n",
    "        v2 = icosatiler.sphPol2Crt(v)\n",
    "        d = np.sum([j*j for j in np.subtract(v1,v2)])\n",
    "        if abs(d) < minD:\n",
    "            minD = d\n",
    "            closest = l\n",
    "    return closest"
   ]
  },
  {
   "cell_type": "code",
   "execution_count": 146,
   "metadata": {},
   "outputs": [
    {
     "name": "stdout",
     "output_type": "stream",
     "text": [
      "1.5990747678128467\n"
     ]
    }
   ],
   "source": [
    "# lPos = icosatiler.cover72SpherePolar(4)\n",
    "# dists = []\n",
    "# minD = 1e8\n",
    "# for v in lPos:\n",
    "#     for l in lPos:\n",
    "#         if l != v:\n",
    "#             v1 = icosatiler.sphPol2Crt(l) \n",
    "#             v2 = icosatiler.sphPol2Crt(v)\n",
    "#             d = np.sum([j*j for j in np.subtract(v1,v2)])\n",
    "#             if abs(d) < minD:\n",
    "#                 minD = d\n",
    "#     dists.append(np.sqrt(minD))\n",
    "# print np.mean(dists)"
   ]
  },
  {
   "cell_type": "code",
   "execution_count": 52,
   "metadata": {},
   "outputs": [],
   "source": [
    "def addLigand(particle,eps,v,lock=False):\n",
    "    if lock:\n",
    "        v = getClosestIcos(particle,v)\n",
    "            \n",
    "    if not spaceIsOccupied(particle,v):\n",
    "        particle.addLigand(Ligand(eps,1,v[0],v[1],v[2]))\n",
    "    return particle"
   ]
  },
  {
   "cell_type": "code",
   "execution_count": 53,
   "metadata": {},
   "outputs": [],
   "source": [
    "def addBelt(particle,eps,rad,n,phi,lock=False):\n",
    "    step = np.pi*2/float(n)\n",
    "    for i in range(n):\n",
    "        v = (rad,step*i,phi)\n",
    "        particle = addLigand(particle,eps,v,lock)\n",
    "    return particle"
   ]
  },
  {
   "cell_type": "code",
   "execution_count": 54,
   "metadata": {},
   "outputs": [],
   "source": [
    "def getArcAngle(dist,rad):\n",
    "    return dist/rad"
   ]
  },
  {
   "cell_type": "code",
   "execution_count": 380,
   "metadata": {},
   "outputs": [],
   "source": [
    "def addRing(particle,eps,rad,pos,n,spacing,lock=False):\n",
    "    step = np.pi*2/float(n)\n",
    "    if lock:\n",
    "        origin = getClosestIcos(particle,(rad,pos[0],pos[1]))\n",
    "        pos = (origin[1],origin[2])\n",
    "    for i in range(n):\n",
    "        tD = getArcAngle(spacing,rad)\n",
    "        tP = step*i\n",
    "        v = (rad,tD,tP)\n",
    "        vC = icosatiler.sphPol2Crt(v)\n",
    "        v1 = icosatiler.sphPol2Crt((rad,0,0))\n",
    "        v2 = icosatiler.sphPol2Crt((rad,pos[0],pos[1]))\n",
    "        v3 = crossProd(v1,v2)\n",
    "        if np.sum([j*j for j in v3])== 0.0:\n",
    "            #it's parallel!\n",
    "            particle = addLigand(particle,eps,v,lock)\n",
    "            continue\n",
    "        dp = np.dot(v1,v2)\n",
    "        print dp\n",
    "        ang = np.arccos((dp)/(np.sqrt(np.sum([j*j for j in v1]))*np.sqrt(np.sum([j*j for j in v2]))))\n",
    "        print ang\n",
    "        rM = vectools.buildERMatrix(v3, ang)\n",
    "        vC = np.dot(rM,vC)\n",
    "        v = icosatiler.crt2SphPol(vC)\n",
    "        particle = addLigand(particle,eps,v,lock)\n",
    "        print v\n",
    "    return particle"
   ]
  },
  {
   "cell_type": "code",
   "execution_count": 381,
   "metadata": {},
   "outputs": [],
   "source": [
    "def addPatch(particle,eps,rad,pos,n,spacing,lock=False):\n",
    "    if lock:\n",
    "        origin = getClosestIcos(particle,(rad,pos[0],pos[1]))\n",
    "        pos = (origin[1],origin[2])\n",
    "    particle = addLigand(particle,eps,(rad,pos[0],pos[1]),lock)\n",
    "    particle = addRing(particle,eps,rad,pos,n,spacing)\n",
    "    return particle"
   ]
  },
  {
   "cell_type": "code",
   "execution_count": null,
   "metadata": {},
   "outputs": [],
   "source": []
  },
  {
   "cell_type": "code",
   "execution_count": null,
   "metadata": {},
   "outputs": [],
   "source": []
  },
  {
   "cell_type": "code",
   "execution_count": 382,
   "metadata": {},
   "outputs": [
    {
     "name": "stdout",
     "output_type": "stream",
     "text": [
      "-7.9999999999999964\n",
      "2.0943951023931953\n",
      "(4.0, 2.0493890789306235, 1.1166335589906586)\n",
      "-7.9999999999999964\n",
      "2.0943951023931953\n",
      "(4.0, 2.467495263213243, 1.376793531201165)\n",
      "-7.9999999999999964\n",
      "2.0943951023931953\n",
      "(4.0, 2.289964173754803, 2.0028614105814286)\n",
      "-7.9999999999999964\n",
      "2.0943951023931953\n",
      "(4.0, 1.836203460053994, 1.9033706869414873)\n",
      "-7.9999999999999964\n",
      "2.0943951023931953\n",
      "(4.0, 1.7110459817649413, 1.4489649875339103)\n",
      "-8.000000000000007\n",
      "2.094395102393196\n",
      "(4.0, 2.0493890789306244, -1.1166335589906584)\n",
      "-8.000000000000007\n",
      "2.094395102393196\n",
      "(4.000000000000001, 1.7110459817649422, -1.4489649875339106)\n",
      "-8.000000000000007\n",
      "2.094395102393196\n",
      "(4.0, 1.8362034600539947, -1.9033706869414875)\n",
      "-8.000000000000007\n",
      "2.094395102393196\n",
      "(4.0, 2.2899641737548038, -2.002861410581429)\n",
      "-8.000000000000007\n",
      "2.094395102393196\n",
      "(4.000000000000001, 2.467495263213244, -1.376793531201165)\n"
     ]
    }
   ],
   "source": [
    "p = NanoParticle()\n",
    "m = 3\n",
    "step = np.pi*2/float(m)\n",
    "for i in range(m):\n",
    "    p = addPatch(p,6,4,(i*step,np.pi/2.0),5,1.6,lock=False)\n",
    "#p = addPatch(p,6,4,(np.pi/2.0,np.pi/2.0),5,1.6,lock=True)\n",
    "# p = addRing(p,10,4,(lPos[0][1],lPos[0][2]),6,0,lock=False)"
   ]
  },
  {
   "cell_type": "code",
   "execution_count": 383,
   "metadata": {},
   "outputs": [
    {
     "data": {
      "application/vnd.jupyter.widget-view+json": {
       "model_id": "e44aff216e0a4c7e95797975352e8c3f",
       "version_major": 2,
       "version_minor": 0
      },
      "text/html": [
       "<p>Failed to display Jupyter Widget of type <code>Plot</code>.</p>\n",
       "<p>\n",
       "  If you're reading this message in the Jupyter Notebook or JupyterLab Notebook, it may mean\n",
       "  that the widgets JavaScript is still loading. If this message persists, it\n",
       "  likely means that the widgets JavaScript library is either not installed or\n",
       "  not enabled. See the <a href=\"https://ipywidgets.readthedocs.io/en/stable/user_install.html\">Jupyter\n",
       "  Widgets Documentation</a> for setup instructions.\n",
       "</p>\n",
       "<p>\n",
       "  If you're reading this message in another frontend (for example, a static\n",
       "  rendering on GitHub or <a href=\"https://nbviewer.jupyter.org/\">NBViewer</a>),\n",
       "  it may mean that your frontend doesn't currently support widgets.\n",
       "</p>\n"
      ],
      "text/plain": [
       "Plot(antialias=True, background_color=16777215, grid=[-1, -1, -1, 1, 1, 1], height=512, object_ids=[120962484752, 120961713872, 120962484560, 120962662224, 120961714640, 120962485200, 120962661200, 120962781840, 120962782032, 120962783888, 120962785168, 120962784656, 120962662032, 120962784528, 120962781456, 120962781264, 120962781968, 120962783056, 120962782096, 120962783440, 120962781520, 120962783632, 120962782288, 120962785040, 120962782928, 120962784400, 120962782544, 120962782992, 120962860048, 120962782864, 120962860112, 120962859536, 120962781584, 120962784144, 120962860496, 120962859792, 120962483600])"
      ]
     },
     "metadata": {},
     "output_type": "display_data"
    }
   ],
   "source": [
    "makeParticleModelFromPhenome(p)"
   ]
  },
  {
   "cell_type": "code",
   "execution_count": null,
   "metadata": {},
   "outputs": [],
   "source": []
  },
  {
   "cell_type": "code",
   "execution_count": null,
   "metadata": {},
   "outputs": [],
   "source": []
  },
  {
   "cell_type": "code",
   "execution_count": null,
   "metadata": {},
   "outputs": [],
   "source": []
  }
 ],
 "metadata": {
  "kernelspec": {
   "display_name": "Python 2",
   "language": "python",
   "name": "python2"
  },
  "language_info": {
   "codemirror_mode": {
    "name": "ipython",
    "version": 2
   },
   "file_extension": ".py",
   "mimetype": "text/x-python",
   "name": "python",
   "nbconvert_exporter": "python",
   "pygments_lexer": "ipython2",
   "version": "2.7.14"
  }
 },
 "nbformat": 4,
 "nbformat_minor": 2
}
