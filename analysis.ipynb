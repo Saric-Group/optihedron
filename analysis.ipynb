{
 "cells": [
  {
   "cell_type": "code",
   "execution_count": null,
   "metadata": {},
   "outputs": [],
   "source": [
    "from db import databaseconnection\n",
    "import numpy as np\n",
    "from ga import networkedgeneticalgorithm as nga\n",
    "from membranesimulation import MembraneSimulation\n",
    "import parlammps\n",
    "from mpl_toolkits.mplot3d import Axes3D\n",
    "import matplotlib.pyplot as plt\n",
    "from sklearn.manifold import TSNE\n",
    "import networkx\n",
    "from tools import vectools\n",
    "import os\n",
    "import tools\n",
    "import copy\n",
    "import random\n",
    "import time\n",
    "%matplotlib inline\n",
    "plt.rcParams['image.interpolation'] = 'nearest'\n",
    "plt.rcParams['image.cmap'] = 'gray'"
   ]
  },
  {
   "cell_type": "code",
   "execution_count": null,
   "metadata": {},
   "outputs": [],
   "source": [
    "dbconn = databaseconnection.DatabaseConnection('db/datastore.db')"
   ]
  },
  {
   "cell_type": "code",
   "execution_count": null,
   "metadata": {},
   "outputs": [],
   "source": [
    "dbconn.whatSessions()"
   ]
  },
  {
   "cell_type": "code",
   "execution_count": null,
   "metadata": {},
   "outputs": [],
   "source": [
    "data = dbconn.loadSession('2018-03-12 08:14:44')\n",
    "print('loaded data:{}'.format(data.keys()))"
   ]
  },
  {
   "cell_type": "code",
   "execution_count": null,
   "metadata": {},
   "outputs": [],
   "source": [
    "dbconn.close()"
   ]
  },
  {
   "cell_type": "markdown",
   "metadata": {},
   "source": [
    "### Helper Fns."
   ]
  },
  {
   "cell_type": "code",
   "execution_count": null,
   "metadata": {},
   "outputs": [],
   "source": [
    "#fitness given genome\n",
    "def genomeFitness(genome):\n",
    "    for individual in data['individuals']:\n",
    "        if np.array_equal(individual['genome'], genome):\n",
    "            return individual['fitness']\n",
    "    return -1"
   ]
  },
  {
   "cell_type": "code",
   "execution_count": null,
   "metadata": {},
   "outputs": [],
   "source": [
    "def trimLigands(inds):\n",
    "    #trim ligands with eps=0 for tiled NP model\n",
    "    inds_tmp = []\n",
    "    for ind in inds:\n",
    "        ligands_tmp = []\n",
    "        for ligand in ind['phenome'].particle.ligands:\n",
    "            if ligand.eps != 0:\n",
    "                ligands_tmp.append(ligand)\n",
    "        ind_tmp = copy.deepcopy(ind)\n",
    "        ind_tmp['phenome'].particle.ligands = ligands_tmp\n",
    "        inds_tmp.append(ind_tmp)\n",
    "    return inds_tmp"
   ]
  },
  {
   "cell_type": "code",
   "execution_count": null,
   "metadata": {},
   "outputs": [],
   "source": [
    "def evaluateSample(nps, gens, inds, rs, RUNTIME=25000, TIMESTEP=0.01, wd_out = 'wetlab/out', wd_run = 'wetlab/run',nprocs=2, timeout=999999, silent=False, DUMP=1000):    \n",
    "    wd = ''\n",
    "    for np,gen,ind in zip(nps,gens,inds):\n",
    "        for rs_i in range(rs):\n",
    "            simName = str(gen) + '_' + str(ind) + '_' +str(rs_i)\n",
    "            sim = MembraneSimulation(\n",
    "                'sim_'+simName,\n",
    "                np.particle,\n",
    "                RUNTIME,\n",
    "                TIMESTEP,                 \n",
    "                os.path.join(wd, wd_out),\n",
    "                os.path.join(wd, wd_run),\n",
    "                os.path.join(wd,'mem/template/data.template'),\n",
    "                os.path.join(wd,'mem/template/in.template'),\n",
    "                rAxis=vectools.randomUnitVector(),\n",
    "                rAmount=random.uniform(1.571,3.141),\n",
    "                dumpres=DUMP\n",
    "                )\n",
    "            sim.saveFiles()\n",
    "            scriptPath=os.path.join(sim.filedir,sim.scriptName)\n",
    "            outFilePath = os.path.join(sim.outdir,sim.outName)\n",
    "            parlammps.runSim(scriptPath,nprocs,timeout,silent)                        \n",
    "            sim.postProcessOutput(outFilePath)                        "
   ]
  },
  {
   "cell_type": "code",
   "execution_count": null,
   "metadata": {},
   "outputs": [],
   "source": [
    "def greatArcDist(Ang1, Ang2, rad=4):\n",
    "    #Ang = (PolarAng,AziAng)\n",
    "    #https://math.stackexchange.com/questions/231221/great-arc-distance-between-two-points-on-a-unit-sphere\n",
    "    arcDist=rad*(np.arccos((np.cos(Ang1[0])*np.cos(Ang2[0]))+((np.sin(Ang1[0])*np.sin(Ang2[0]))*(np.cos(Ang1[1]-Ang2[1])))))\n",
    "    return arcDist"
   ]
  },
  {
   "cell_type": "code",
   "execution_count": null,
   "metadata": {},
   "outputs": [],
   "source": [
    "def cluster(ligands, trimmingDist, silent=True):\n",
    "    if not silent:\n",
    "        startTime = time.time()\n",
    "    #print(greatArcDist((0,0), ((3.14/15.0),0))) #bad at small distances, correct should be 0.8377 but returns 0.8373, willing to accept +- 0.001\n",
    "\n",
    "    ligandsTmp = copy.deepcopy(ligands)\n",
    "\n",
    "    clusters = []\n",
    "    while ligandsTmp:    \n",
    "        #print('progress: {}/{}'.format(len(ligandsTmp),len(ligands)))\n",
    "        nextSeedQueue = [ligandsTmp[0]]    \n",
    "\n",
    "        clusterTmp = []\n",
    "        clusterTmp.append(ligandsTmp[0])\n",
    "        del ligandsTmp[0]\n",
    "        while nextSeedQueue:\n",
    "            seed = nextSeedQueue.pop()\n",
    "            for ligand in ligandsTmp:\n",
    "                if greatArcDist((seed.polAng, seed.aziAng),(ligand.polAng,ligand.aziAng)) <= trimmingDist:                \n",
    "                    nextSeedQueue.append(ligand)\n",
    "                    clusterTmp.append(ligand)\n",
    "                    ligandsTmp.remove(ligand)\n",
    "        clusters.append(clusterTmp)                  \n",
    "    if not silent:\n",
    "        print('ligands: {}'.format(len(ligands)))\n",
    "        print('clusters: {}'.format(len(clusters)))\n",
    "        print('clustered in {}s'.format(time.time()-startTime))\n",
    "    return clusters"
   ]
  },
  {
   "cell_type": "code",
   "execution_count": null,
   "metadata": {},
   "outputs": [],
   "source": [
    "def avgClusterDist(clusters, silent=True):\n",
    "    ###find average position of each cluster\n",
    "    if not silent:\n",
    "        startTime = time.time()\n",
    "    avgClusterPos = []    \n",
    "    for i in clusters:\n",
    "        ligandCount = 0\n",
    "        totalPol = 0\n",
    "        totalAzi = 0\n",
    "        for j in i:\n",
    "            totalPol += j.polAng\n",
    "            totalAzi += j.aziAng\n",
    "            ligandCount += 1.0\n",
    "        avgClusterPos.append(((totalPol/ligandCount),(totalAzi/ligandCount)))\n",
    "    ###\n",
    "    ###find distances to next nearest for each\n",
    "    avgClusterNxtDistances = []\n",
    "    for i in avgClusterPos:\n",
    "        tmp = []\n",
    "        for j in avgClusterPos:\n",
    "            if i != j:\n",
    "                tmp.append(greatArcDist(i,j))\n",
    "        avgClusterNxtDistances.append(np.min(tmp))\n",
    "#     avgClusterNxtDistances = []    \n",
    "#     avgClusterPosTmp = copy.deepcopy(avgClusterPos)\n",
    "#     while avgClusterPosTmp:\n",
    "#         cClusterPos = avgClusterPosTmp.pop()        \n",
    "#         if len(avgClusterPosTmp) > 0:\n",
    "#             tmp = []\n",
    "#             for i in avgClusterPosTmp:\n",
    "#                 if i != cClusterPos:\n",
    "#                     tmp.append(greatArcDist(i,cClusterPos))\n",
    "#             avgClusterNxtDistances.append(np.min(tmp))\n",
    "    ###\n",
    "    ###return an average of those distances   \n",
    "    if not silent:\n",
    "        print('avg cluster distance found in {}s'.format(time.time() - startTime))    \n",
    "    return sum(avgClusterNxtDistances)/len(avgClusterNxtDistances)\n",
    "    ###"
   ]
  },
  {
   "cell_type": "code",
   "execution_count": null,
   "metadata": {},
   "outputs": [],
   "source": [
    "def avgLigandDist(ligands, silent=True):\n",
    "    if not silent:\n",
    "        startTime = time.time()\n",
    "    LigandNxtDistances = []\n",
    "    for i in ligands:\n",
    "        tmp = []\n",
    "        for j in ligands:\n",
    "            if i != j:\n",
    "                tmp.append(greatArcDist((i.polAng,i.aziAng),(j.polAng,j.aziAng)))\n",
    "        LigandNxtDistances.append(np.min(tmp))\n",
    "#     ligandsTmp = copy.deepcopy(ligands)\n",
    "#     while ligandsTmp:\n",
    "#         cLigand = ligandsTmp.pop()\n",
    "#         if len(ligandsTmp) > 0:\n",
    "#             tmp = []\n",
    "#             for i in ligandsTmp:\n",
    "#                 if i != cLigand:\n",
    "#                     tmp.append(greatArcDist((i.polAng,i.aziAng),(cLigand.polAng,cLigand.aziAng)))\n",
    "#             LigandNxtDistances.append(np.min(tmp))\n",
    "    if not silent:\n",
    "        print('avg ligand distance found in {}s'.format(time.time() - startTime))\n",
    "    return sum(LigandNxtDistances)/len(LigandNxtDistances)"
   ]
  },
  {
   "cell_type": "code",
   "execution_count": null,
   "metadata": {},
   "outputs": [],
   "source": [
    "def numNN(ligands, cutoff):\n",
    "    #number of ligands that are nearest neighbours ligand-wise\n",
    "    numNNs = []\n",
    "    for i in ligands:\n",
    "        numNN_i = 0\n",
    "        for j in ligands:\n",
    "            if i != j:\n",
    "                if greatArcDist((i.polAng,i.aziAng),(j.polAng,j.aziAng)) <= cutoff:\n",
    "                    numNN_i += 1\n",
    "        numNNs.append(numNN_i)\n",
    "    return numNNs"
   ]
  },
  {
   "cell_type": "code",
   "execution_count": null,
   "metadata": {},
   "outputs": [],
   "source": [
    "def numMinNumNN(ligands,cutoff,minligands):\n",
    "    #number of ligands which have at least minligands ligands that are within cutoff range ligand-wise\n",
    "    numMinNumNNs = 0\n",
    "    for i in ligands:\n",
    "        numNNs = 0\n",
    "        for j in ligands:\n",
    "            if i != j:\n",
    "                if greatArcDist((i.polAng,i.aziAng),(j.polAng,j.aziAng)) <= cutoff:\n",
    "                    numNNs += 1\n",
    "        if numNNs >= minligands:\n",
    "            numMinNumNNs += 1\n",
    "    return numMinNumNNs"
   ]
  },
  {
   "cell_type": "code",
   "execution_count": null,
   "metadata": {},
   "outputs": [],
   "source": [
    "def totalEps(ligands):\n",
    "    return np.sum([ligand.eps for ligand in ligands])    "
   ]
  },
  {
   "cell_type": "code",
   "execution_count": null,
   "metadata": {},
   "outputs": [],
   "source": [
    "def plotNP(ligands=None, rad=4):\n",
    "    fig = plt.figure(figsize=(40.0,16.0))\n",
    "    ax = fig.gca(projection='3d')\n",
    "    ax.set_aspect(\"equal\")\n",
    "\n",
    "    u, v = np.mgrid[0:2*np.pi:25j, 0:np.pi:25j]\n",
    "    x = np.cos(u)*np.sin(v)*rad\n",
    "    y = np.sin(u)*np.sin(v)*rad\n",
    "    z = np.cos(v)*rad\n",
    "    #ax.scatter(x, y, z, color=\"r\", alpha=0.2)    \n",
    "    ax.plot_wireframe(x, y, z, color=\"r\", alpha=0.2)\n",
    "    if ligands:\n",
    "        for ligand in ligands:\n",
    "            v = tools.vectools.polarToCartesianVector(rad,ligand.polAng,ligand.aziAng)\n",
    "            ax.scatter(v[0],v[1],v[2],s=[200]*len(ligands),color=\"g\")"
   ]
  },
  {
   "cell_type": "markdown",
   "metadata": {},
   "source": [
    "# GA Metrics"
   ]
  },
  {
   "cell_type": "code",
   "execution_count": null,
   "metadata": {},
   "outputs": [],
   "source": [
    "#print(data['metrics'])\n",
    "plt.rcParams['figure.figsize'] = (10.0, 8.0)\n",
    "fitAvg = [metric['avg'] for metric in data['metrics']]\n",
    "fitMin = [metric['min'] for metric in data['metrics']]\n",
    "fitMax = [metric['max'] for metric in data['metrics']]\n",
    "plt.plot(fitAvg, '.',label='Average Fitness');\n",
    "plt.plot(fitMax, '.',label='Max Fitness');\n",
    "plt.plot(fitMin, '.',label='Min Fitness');\n",
    "plt.xlabel('generation number')\n",
    "plt.ylabel('fitness')\n",
    "plt.legend();"
   ]
  },
  {
   "cell_type": "markdown",
   "metadata": {},
   "source": [
    "# Genealogy"
   ]
  },
  {
   "cell_type": "code",
   "execution_count": null,
   "metadata": {},
   "outputs": [],
   "source": [
    "plt.rcParams['figure.figsize'] = (40.0, 16.0)\n",
    "graph = networkx.DiGraph(data['genealogy']['tree'])\n",
    "graph = graph.reverse()\n",
    "colors = [genomeFitness(data['genealogy']['history'][i]) for i in graph]\n",
    "positions = networkx.drawing.nx_agraph.graphviz_layout(graph, prog=\"dot\")\n",
    "networkx.draw(graph, positions, node_color = colors, s=40, cmap=plt.cm.Spectral)\n",
    "fits = [ individual['fitness'] for individual in data['individuals']]\n",
    "sm = plt.cm.ScalarMappable(cmap=plt.cm.Spectral, norm=plt.Normalize(vmin=float(min(fits)), vmax=float(max(fits))))\n",
    "sm._A = []\n",
    "plt.colorbar(sm)\n",
    "plt.savefig('genealogy.png')\n",
    "plt.show()"
   ]
  },
  {
   "cell_type": "markdown",
   "metadata": {},
   "source": [
    "# Generate Local Samples"
   ]
  },
  {
   "cell_type": "code",
   "execution_count": null,
   "metadata": {},
   "outputs": [],
   "source": [
    "#generate your samples\n",
    "hof = []\n",
    "for i in data['individuals']:\n",
    "    if i['fitness'] == 400.0: #400 means all rotations budded in!\n",
    "        hof.append(i)\n",
    "\n",
    "# #best performers in gen X (gen=X)\n",
    "# curr_best_fitness = -1\n",
    "# best = None\n",
    "# genS = 29\n",
    "# for i in data['individuals']:\n",
    "#     if i['gen'] == genS:\n",
    "#         if i['fitness'] > curr_best_fitness:    \n",
    "#             best = i\n",
    "#             curr_best_fitness = i['fitness']\n",
    "# for i in data['individuals']:\n",
    "#     if i['gen'] == genS:\n",
    "#         if i ['fitness'] == curr_best_fitness:            \n",
    "#             hof.append(i)\n",
    "# #hof.append(best)        \n",
    "    \n",
    "print('samples length:{}'.format(len(hof)))\n",
    "print('samples generations:{}'.format([i['gen'] for i in hof]))"
   ]
  },
  {
   "cell_type": "code",
   "execution_count": null,
   "metadata": {},
   "outputs": [],
   "source": [
    "phenomes = [i['phenome'] for i in hof]\n",
    "gens = [i['gen'] for i in hof]\n",
    "inds = [i['ind'] for i in hof]\n",
    "evaluateSample(phenomes, gens, inds,rs=2,nprocs=4,silent=False)\n",
    "#evaluateSample(phenomes, gens, inds,rs=2,nprocs=4,silent=False,DUMP=250)\n",
    "#evaluateSample(phenomes, gens, inds,rs=1,silent=True,RUNTIME=100)"
   ]
  },
  {
   "cell_type": "markdown",
   "metadata": {},
   "source": [
    "# Ligand Clustering"
   ]
  },
  {
   "cell_type": "code",
   "execution_count": null,
   "metadata": {},
   "outputs": [],
   "source": [
    "# clusters = cluster(hof[0]['phenome'].particle.ligands,1.8,silent=False)\n",
    "# plotNP(clusters[9])"
   ]
  },
  {
   "cell_type": "code",
   "execution_count": null,
   "metadata": {},
   "outputs": [],
   "source": [
    "#NNcutoff = 1.345 #for int. range 1.8\n",
    "NNcutoff = 1.559 #for int. range 2.0\n",
    "for i in data['individuals']:    \n",
    "    i['ligand_clusters'] = cluster(i['phenome'].particle.ligands,NNcutoff,silent=True)"
   ]
  },
  {
   "cell_type": "code",
   "execution_count": null,
   "metadata": {},
   "outputs": [],
   "source": [
    "##for tiled NP, removed ligands with eps=0\n",
    "##data['individuals'] = trimLigands(data['individuals'])"
   ]
  },
  {
   "cell_type": "markdown",
   "metadata": {},
   "source": [
    "## v. Gen"
   ]
  },
  {
   "cell_type": "code",
   "execution_count": null,
   "metadata": {},
   "outputs": [],
   "source": [
    "#individuals sorted by gen\n",
    "ind_tmp = copy.deepcopy(data['individuals'])\n",
    "ind_tmp.sort(key=lambda x:x['gen'])"
   ]
  },
  {
   "cell_type": "code",
   "execution_count": null,
   "metadata": {},
   "outputs": [],
   "source": [
    "#number of ligand by gen\n",
    "plt.rcParams['figure.figsize'] = (10.0, 8.0)\n",
    "totalNumberLigands = 0\n",
    "totalNPCount = 0\n",
    "currentGen = 0\n",
    "genNumberLigandsAverage= []\n",
    "for i in ind_tmp:\n",
    "    if i['gen'] != currentGen:      \n",
    "        genNumberLigandsAverage.append(((currentGen),(float(totalNumberLigands)/totalNPCount)))\n",
    "        currentGen = i['gen']\n",
    "        totalNumberLigands = len(i['phenome'].particle.ligands)        \n",
    "        totalNPCount = 1\n",
    "    else:\n",
    "        totalNumberLigands += len(i['phenome'].particle.ligands)\n",
    "        totalNPCount += 1\n",
    "    \n",
    "plt.plot([i[0] for i in genNumberLigandsAverage],[i[1] for i in genNumberLigandsAverage],'.',label='avg. num ligands per np')    \n",
    "plt.xlabel('generation number')\n",
    "plt.ylabel('average number of ligands')\n",
    "plt.title('average number of ligands per nanoparticle against generation number')\n",
    "plt.legend();"
   ]
  },
  {
   "cell_type": "code",
   "execution_count": null,
   "metadata": {},
   "outputs": [],
   "source": [
    "#number of ligand clusters by gen\n",
    "plt.rcParams['figure.figsize'] = (10.0, 8.0)\n",
    "totalNumberClusters = 0\n",
    "totalNPCount = 0\n",
    "currentGen = 0\n",
    "genNumberClustersAverage= []\n",
    "for i in ind_tmp:\n",
    "    if i['gen'] != currentGen:    \n",
    "        genNumberClustersAverage.append(((currentGen),(float(totalNumberClusters)/totalNPCount)))\n",
    "        currentGen = i['gen']\n",
    "        totalNumberClusters = float(len(i['ligand_clusters']))\n",
    "        totalNPCount = 1\n",
    "    else:\n",
    "        totalNumberClusters += float(len(i['ligand_clusters']))\n",
    "        totalNPCount += 1\n",
    "    \n",
    "plt.plot([i[0] for i in genNumberClustersAverage],[i[1] for i in genNumberClustersAverage],'.',label='cluster cutoff: {} (ligand interaction range)'.format(NNcutoff))    \n",
    "plt.xlabel('generation number')\n",
    "plt.ylabel('average number of ligand clusters')\n",
    "plt.title('average number of ligand clusters per nanoparticle against generation number')\n",
    "plt.legend();"
   ]
  },
  {
   "cell_type": "code",
   "execution_count": null,
   "metadata": {},
   "outputs": [],
   "source": [
    "#number of ligand clusters by gen\n",
    "plt.rcParams['figure.figsize'] = (10.0, 8.0)\n",
    "totalClusterLigandAvg = 0\n",
    "totalNPCount = 0\n",
    "currentGen = 0\n",
    "genNumberClusterLigandAvgAverage= []\n",
    "for i in ind_tmp:\n",
    "    if i['gen'] != currentGen:    \n",
    "        genNumberClusterLigandAvgAverage.append(((currentGen),(totalClusterLigandAvg/totalNPCount)))\n",
    "        currentGen = i['gen']\n",
    "        totalClusterLigandAvg = float(len(i['phenome'].particle.ligands))/float(len(i['ligand_clusters']))        \n",
    "        totalNPCount = 1\n",
    "    else:                \n",
    "        totalClusterLigandAvg += float(len(i['phenome'].particle.ligands))/float(len(i['ligand_clusters']))        \n",
    "        totalNPCount += 1\n",
    "    \n",
    "plt.plot([i[0] for i in genNumberClusterLigandAvgAverage],[i[1] for i in genNumberClusterLigandAvgAverage],'.',label='cluster cutoff: {} (ligand interaction range)'.format(NNcutoff))    \n",
    "plt.xlabel('generation number')\n",
    "plt.ylabel('average number of ligands in each cluster')\n",
    "plt.title('average number of ligands in each cluster per nanoparticle against generation number')\n",
    "plt.legend();"
   ]
  },
  {
   "cell_type": "code",
   "execution_count": null,
   "metadata": {},
   "outputs": [],
   "source": [
    "#avg distance to next ligand by gen\n",
    "plt.rcParams['figure.figsize'] = (10.0, 8.0)\n",
    "totalNeighLigandDistAvg = 0\n",
    "totalNPCount = 0\n",
    "currentGen = 0\n",
    "genNumberNeighLigandDistAverage= []\n",
    "for i in ind_tmp:\n",
    "    if i['gen'] != currentGen:            \n",
    "        genNumberNeighLigandDistAverage.append(((currentGen),(totalNeighLigandDistAvg/totalNPCount)))\n",
    "        currentGen = i['gen']\n",
    "        totalNeighLigandDistAvg = avgLigandDist(i['phenome'].particle.ligands)        \n",
    "        totalNPCount = 1\n",
    "    else:                        \n",
    "        totalNeighLigandDistAvg += avgLigandDist(i['phenome'].particle.ligands)        \n",
    "        totalNPCount += 1\n",
    "    \n",
    "plt.plot([i[0] for i in genNumberNeighLigandDistAverage],[i[1] for i in genNumberNeighLigandDistAverage],'.',label='avg. dist. to next nearest ligand')    \n",
    "plt.xlabel('generation number')\n",
    "plt.ylabel('average distance to next nearest ligand')\n",
    "plt.title('average distance to next nearest ligand per nanoparticle against generation number')\n",
    "plt.legend();"
   ]
  },
  {
   "cell_type": "code",
   "execution_count": null,
   "metadata": {},
   "outputs": [],
   "source": [
    "#avg distance to next ligand cluster by gen\n",
    "plt.rcParams['figure.figsize'] = (10.0, 8.0)\n",
    "totalNeighClustDistAvg = 0\n",
    "totalNPCount = 0\n",
    "currentGen = 0\n",
    "genNumberNeighClustDistAverage= []\n",
    "for i in ind_tmp:\n",
    "    if i['gen'] != currentGen:            \n",
    "        genNumberNeighClustDistAverage.append(((currentGen),(totalNeighClustDistAvg/totalNPCount)))\n",
    "        currentGen = i['gen']\n",
    "        totalNeighClustDistAvg = avgClusterDist(i['ligand_clusters'])                \n",
    "        totalNPCount = 1\n",
    "    else:                        \n",
    "        totalNeighClustDistAvg += avgClusterDist(i['ligand_clusters'])        \n",
    "        totalNPCount += 1\n",
    "    \n",
    "plt.plot([i[0] for i in genNumberNeighClustDistAverage],[i[1] for i in genNumberNeighClustDistAverage],'.',label='cluster cutoff: {} (ligand interaction range)'.format(NNcutoff))    \n",
    "plt.xlabel('generation number')\n",
    "plt.ylabel('average distance to next nearest cluster')\n",
    "plt.title('average distance to next nearest cluster per nanoparticle against generation number')\n",
    "plt.legend();"
   ]
  },
  {
   "cell_type": "code",
   "execution_count": null,
   "metadata": {},
   "outputs": [],
   "source": [
    "#avg total ligand affinity by gen\n",
    "plt.rcParams['figure.figsize'] = (10.0, 8.0)\n",
    "totalAffinity = 0.0\n",
    "totalNPCount = 0.0\n",
    "currentGen = 0.0\n",
    "genTotalAffinityAverage = []\n",
    "for i in ind_tmp:\n",
    "    if i['gen'] != currentGen:\n",
    "        genTotalAffinityAverage.append((currentGen, totalAffinity/totalNPCount))\n",
    "        currentGen = i['gen']\n",
    "        totalAffinity = totalEps(i['phenome'].particle.ligands)\n",
    "        totalNPCount = 1\n",
    "    else:\n",
    "        totalAffinity += totalEps(i['phenome'].particle.ligands)\n",
    "        totalNPCount += 1\n",
    "plt.plot([i[0] for i in genTotalAffinityAverage], [i[1] for i in genTotalAffinityAverage],'.',label='avg. total aff. of ligands per np')\n",
    "plt.xlabel('generation number')\n",
    "plt.ylabel('average total affinity of ligands')\n",
    "plt.title('average total affinity of ligands per nanoparticle against generation number')\n",
    "plt.legend();"
   ]
  },
  {
   "cell_type": "code",
   "execution_count": null,
   "metadata": {},
   "outputs": [],
   "source": [
    "#avg number of nearest neighbours by gen\n",
    "plt.rcParams['figure.figsize'] = (10.0, 8.0)\n",
    "totalAvgNumberNN = 0.0\n",
    "totalNPCount = 0.0\n",
    "currentGen = 0.0\n",
    "genTotalAvgNumberNNAverage = []\n",
    "for i in ind_tmp:\n",
    "    if i['gen'] != currentGen:\n",
    "        genTotalAvgNumberNNAverage.append((currentGen, totalAvgNumberNN/totalNPCount))\n",
    "        currentGen = i['gen']\n",
    "        totalAvgNumberNN = np.average(numNN(i['phenome'].particle.ligands, NNcutoff))    \n",
    "        totalNPCount = 1\n",
    "    else:\n",
    "        totalAvgNumberNN += np.average(numNN(i['phenome'].particle.ligands, NNcutoff))        \n",
    "        totalNPCount += 1\n",
    "plt.plot([i[0] for i in genTotalAvgNumberNNAverage], [i[1] for i in genTotalAvgNumberNNAverage],'.',label='avg. num. ligands within NN cutoff {}'.format(NNcutoff))\n",
    "plt.xlabel('generation number')\n",
    "plt.ylabel('average number of ligand neighbours')\n",
    "plt.title('average number of ligand neighbours per nanoparticle against generation number')\n",
    "plt.legend();"
   ]
  },
  {
   "cell_type": "code",
   "execution_count": null,
   "metadata": {},
   "outputs": [],
   "source": [
    "#avg number of ligands with 3 or more neighbours\n",
    "NNcount = 3\n",
    "plt.rcParams['figure.figsize'] = (10.0, 8.0)\n",
    "totalNumberLigands = 0.0\n",
    "totalNPCount = 0.0\n",
    "currentGen = 0.0\n",
    "genTotalNumberLigandsAverage = []\n",
    "for i in ind_tmp:\n",
    "    if i['gen'] != currentGen:\n",
    "        genTotalNumberLigandsAverage.append((currentGen, totalNumberLigands/totalNPCount))        \n",
    "        currentGen = i['gen']\n",
    "        totalNumberLigands = float(numMinNumNN(i['phenome'].particle.ligands, NNcutoff, NNcount))\n",
    "        totalNPCount = 1\n",
    "    else:\n",
    "        totalNumberLigands += float(numMinNumNN(i['phenome'].particle.ligands, NNcutoff, NNcount))\n",
    "        totalNPCount += 1\n",
    "plt.plot([i[0] for i in genTotalNumberLigandsAverage], [i[1] for i in genTotalNumberLigandsAverage],'.',label='avg. num. ligands with {} or more neighbours'.format(NNcount))\n",
    "plt.xlabel('generation number')\n",
    "plt.ylabel('average number of ligands with {} or more neighbours'.format(NNcount))\n",
    "plt.title('average number of ligands with {} or more neighbours per nanoparticle against generation number'.format(NNcount))\n",
    "plt.legend();"
   ]
  },
  {
   "cell_type": "code",
   "execution_count": null,
   "metadata": {},
   "outputs": [],
   "source": []
  },
  {
   "cell_type": "code",
   "execution_count": null,
   "metadata": {},
   "outputs": [],
   "source": []
  },
  {
   "cell_type": "code",
   "execution_count": null,
   "metadata": {},
   "outputs": [],
   "source": []
  },
  {
   "cell_type": "code",
   "execution_count": null,
   "metadata": {},
   "outputs": [],
   "source": []
  },
  {
   "cell_type": "code",
   "execution_count": null,
   "metadata": {},
   "outputs": [],
   "source": []
  },
  {
   "cell_type": "code",
   "execution_count": null,
   "metadata": {},
   "outputs": [],
   "source": []
  },
  {
   "cell_type": "markdown",
   "metadata": {},
   "source": [
    "## v. Fitness"
   ]
  },
  {
   "cell_type": "code",
   "execution_count": null,
   "metadata": {},
   "outputs": [],
   "source": [
    "#individuals sorted by fitness\n",
    "ind_tmp = copy.deepcopy(data['individuals'])\n",
    "ind_tmp.sort(key=lambda x:x['fitness'])"
   ]
  },
  {
   "cell_type": "code",
   "execution_count": null,
   "metadata": {},
   "outputs": [],
   "source": [
    "#number of ligand by fitness\n",
    "plt.rcParams['figure.figsize'] = (10.0, 8.0)\n",
    "totalNumberLigands = 0\n",
    "totalNPCount = 0\n",
    "currentFitness = ind_tmp[0]['fitness']\n",
    "fitnessNumberLigandsAverage= []\n",
    "for i in ind_tmp:\n",
    "    if np.abs(i['fitness'] - currentFitness) > 5.0:                      \n",
    "        fitnessNumberLigandsAverage.append(((currentFitness),(float(totalNumberLigands)/totalNPCount)))\n",
    "        currentFitness = i['fitness']\n",
    "        totalNumberLigands = len(i['phenome'].particle.ligands)        \n",
    "        totalNPCount = 1\n",
    "    else:\n",
    "        totalNumberLigands += len(i['phenome'].particle.ligands)\n",
    "        totalNPCount += 1\n",
    "    \n",
    "plt.plot([i[0] for i in fitnessNumberLigandsAverage],[i[1] for i in fitnessNumberLigandsAverage],'.',label='avg. num ligands per np')    \n",
    "plt.xlabel('fitness')\n",
    "plt.ylabel('average number of ligands (within +- 5 fitness)')\n",
    "plt.title('average number of ligands per nanoparticle against fitness (within +- 5 fitness)')\n",
    "plt.legend();"
   ]
  },
  {
   "cell_type": "code",
   "execution_count": null,
   "metadata": {},
   "outputs": [],
   "source": [
    "#number of ligand clusters by fitness\n",
    "plt.rcParams['figure.figsize'] = (10.0, 8.0)\n",
    "totalNumberClusters = 0\n",
    "totalNPCount = 0\n",
    "currentFitness = ind_tmp[0]['fitness']\n",
    "fitnessNumberClustersAverage= []\n",
    "for i in ind_tmp:\n",
    "    if np.abs(i['fitness'] - currentFitness) > 5.0:    \n",
    "        fitnessNumberClustersAverage.append(((currentFitness),(float(totalNumberClusters)/totalNPCount)))\n",
    "        currentFitness = i['fitness']\n",
    "        totalNumberClusters = len(i['ligand_clusters'])\n",
    "        totalNPCount = 1\n",
    "    else:\n",
    "        totalNumberClusters += len(i['ligand_clusters'])\n",
    "        totalNPCount += 1\n",
    "    \n",
    "plt.plot([i[0] for i in fitnessNumberClustersAverage],[i[1] for i in fitnessNumberClustersAverage],'.',label='cluster cutoff: {} (ligand interaction range)'.format(NNcutoff))    \n",
    "plt.xlabel('fitness')\n",
    "plt.ylabel('average number of ligand clusters (within +- 5 fitness)')\n",
    "plt.title('average number of ligand clusters per nanoparticle against fitness (within +- 5 fitness)')\n",
    "plt.legend();"
   ]
  },
  {
   "cell_type": "code",
   "execution_count": null,
   "metadata": {},
   "outputs": [],
   "source": [
    "#number of ligand clusters by fitness\n",
    "plt.rcParams['figure.figsize'] = (10.0, 8.0)\n",
    "totalClusterLigandAvg = 0\n",
    "totalNPCount = 0\n",
    "currentFitness = ind_tmp[0]['fitness']\n",
    "fitnessNumberClusterLigandAvgAverage= []\n",
    "for i in ind_tmp:\n",
    "    if np.abs(i['fitness'] - currentFitness) > 5.0:    \n",
    "        fitnessNumberClusterLigandAvgAverage.append(((currentFitness),(totalClusterLigandAvg/totalNPCount)))\n",
    "        currentFitness = i['fitness']\n",
    "        totalClusterLigandAvg = float(len(i['phenome'].particle.ligands))/float(len(i['ligand_clusters']))        \n",
    "        totalNPCount = 1\n",
    "    else:                \n",
    "        totalClusterLigandAvg += float(len(i['phenome'].particle.ligands))/float(len(i['ligand_clusters']))        \n",
    "        totalNPCount += 1\n",
    "    \n",
    "plt.plot([i[0] for i in fitnessNumberClusterLigandAvgAverage],[i[1] for i in fitnessNumberClusterLigandAvgAverage],'.',label='cluster cutoff: {} (ligand interaction range)'.format(NNcutoff))    \n",
    "plt.xlabel('fitness')\n",
    "plt.ylabel('average number of ligands in each cluster (within +- 5 fitness)')\n",
    "plt.title('average number of ligands in each cluster per nanoparticle against fitness (within +- 5 fitness)')\n",
    "plt.legend();"
   ]
  },
  {
   "cell_type": "code",
   "execution_count": null,
   "metadata": {},
   "outputs": [],
   "source": [
    "#avg distance to next ligand\n",
    "plt.rcParams['figure.figsize'] = (10.0, 8.0)\n",
    "totalNeighLigandDistAvg = 0\n",
    "totalNPCount = 0\n",
    "currentFitness = ind_tmp[0]['fitness']\n",
    "fitnessNumberNeighLigandDistAverage= []\n",
    "for i in ind_tmp:\n",
    "    if np.abs(i['fitness'] - currentFitness) > 5.0:            \n",
    "        fitnessNumberNeighLigandDistAverage.append(((currentFitness),(totalNeighLigandDistAvg/totalNPCount)))\n",
    "        currentFitness = i['fitness']\n",
    "        totalNeighLigandDistAvg = avgLigandDist(i['phenome'].particle.ligands)        \n",
    "        totalNPCount = 1\n",
    "    else:                        \n",
    "        totalNeighLigandDistAvg += avgLigandDist(i['phenome'].particle.ligands)        \n",
    "        totalNPCount += 1\n",
    "    \n",
    "plt.plot([i[0] for i in fitnessNumberNeighLigandDistAverage],[i[1] for i in fitnessNumberNeighLigandDistAverage],'.',label='avg. dist. to next nearest ligand')    \n",
    "plt.xlabel('fitness')\n",
    "plt.ylabel('average distance to next nearest ligand (within +- 5 fitness)')\n",
    "plt.title('average distance to next nearest ligand per nanoparticle against fitness (within +- 5 fitness)')\n",
    "plt.legend();"
   ]
  },
  {
   "cell_type": "code",
   "execution_count": null,
   "metadata": {},
   "outputs": [],
   "source": [
    "#avg distance to next ligand cluster\n",
    "plt.rcParams['figure.figsize'] = (10.0, 8.0)\n",
    "totalNeighClustDistAvg = 0\n",
    "totalNPCount = 0\n",
    "currentFitness = ind_tmp[0]['fitness']\n",
    "fitnessNumberNeighClustDistAverage= []\n",
    "for i in ind_tmp:\n",
    "    if np.abs(i['fitness'] - currentFitness) > 5.0:            \n",
    "        fitnessNumberNeighClustDistAverage.append(((currentFitness),(totalNeighClustDistAvg/totalNPCount)))\n",
    "        currentFitness = i['fitness']\n",
    "        totalNeighClustDistAvg = avgClusterDist(i['ligand_clusters'])                \n",
    "        totalNPCount = 1\n",
    "    else:                        \n",
    "        totalNeighClustDistAvg += avgClusterDist(i['ligand_clusters'])        \n",
    "        totalNPCount += 1\n",
    "    \n",
    "plt.plot([i[0] for i in fitnessNumberNeighClustDistAverage],[i[1] for i in fitnessNumberNeighClustDistAverage],'.',label='cluster cutoff: {} (ligand interaction range)'.format(NNcutoff))    \n",
    "plt.xlabel('fitness')\n",
    "plt.ylabel('average distance to next nearest cluster (within +- 5 fitness)')\n",
    "plt.title('average distance to next nearest cluster per nanoparticle against fitness (within +- 5 fitness)')\n",
    "plt.legend();"
   ]
  },
  {
   "cell_type": "code",
   "execution_count": null,
   "metadata": {},
   "outputs": [],
   "source": [
    "#avg total ligand affinity by fitness\n",
    "plt.rcParams['figure.figsize'] = (10.0, 8.0)\n",
    "totalAffinity = 0.0\n",
    "totalNPCount = 0.0\n",
    "currentFitness = ind_tmp[0]['fitness']\n",
    "fitnessTotalAffinityAverage = []\n",
    "for i in ind_tmp:\n",
    "    if np.abs(i['fitness'] - currentFitness) > 5.0:\n",
    "        fitnessTotalAffinityAverage.append((currentFitness, totalAffinity/totalNPCount))\n",
    "        currentFitness = i['fitness']\n",
    "        totalAffinity = totalEps(i['phenome'].particle.ligands)\n",
    "        totalNPCount = 1\n",
    "    else:\n",
    "        totalAffinity += totalEps(i['phenome'].particle.ligands)\n",
    "        totalNPCount += 1\n",
    "plt.plot([i[0] for i in fitnessTotalAffinityAverage], [i[1] for i in fitnessTotalAffinityAverage],'.',label='avg. total aff. of ligands per np')\n",
    "plt.xlabel('fitness')\n",
    "plt.ylabel('average total affinity of ligands (within +- 5 fitness)')\n",
    "plt.title('average total affinity of ligands per nanoparticle against fitness (within +- 5 fitness)')\n",
    "plt.legend();"
   ]
  },
  {
   "cell_type": "code",
   "execution_count": null,
   "metadata": {},
   "outputs": [],
   "source": [
    "#avg number of nearest neighbours by fitness\n",
    "plt.rcParams['figure.figsize'] = (10.0, 8.0)\n",
    "totalAvgNumberNN = 0.0\n",
    "totalNPCount = 0.0\n",
    "currentFitness = ind_tmp[0]['fitness']\n",
    "fitnessTotalAvgNumberNNAverage = []\n",
    "for i in ind_tmp:\n",
    "    if np.abs(i['fitness'] - currentFitness) > 5.0:\n",
    "        fitnessTotalAvgNumberNNAverage.append((currentFitness, totalAvgNumberNN/totalNPCount))\n",
    "        currentFitness = i['fitness']\n",
    "        totalAvgNumberNN = np.average(numNN(i['phenome'].particle.ligands, NNcutoff))    \n",
    "        totalNPCount = 1\n",
    "    else:\n",
    "        totalAvgNumberNN += np.average(numNN(i['phenome'].particle.ligands, NNcutoff))        \n",
    "        totalNPCount += 1\n",
    "plt.plot([i[0] for i in fitnessTotalAvgNumberNNAverage], [i[1] for i in fitnessTotalAvgNumberNNAverage],'.',label='avg. num. ligands within NN cutoff {}'.format(NNcutoff))\n",
    "plt.xlabel('fitness')\n",
    "plt.ylabel('average number of ligand neighbours (within +- 5 fitness)')\n",
    "plt.title('average number of ligand neighbours per nanoparticle against fitness (within +- 5 fitness)')\n",
    "plt.legend();"
   ]
  },
  {
   "cell_type": "code",
   "execution_count": null,
   "metadata": {},
   "outputs": [],
   "source": [
    "#avg number of ligands with 3 or more neighbours\n",
    "NNcount = 3\n",
    "plt.rcParams['figure.figsize'] = (10.0, 8.0)\n",
    "totalNumberLigands = 0.0\n",
    "totalNPCount = 0.0\n",
    "currentFitness = ind_tmp[0]['fitness']\n",
    "fitnessTotalNumberLigandsAverage = []\n",
    "for i in ind_tmp:\n",
    "    if np.abs(i['fitness'] - currentFitness) > 5.0:\n",
    "        fitnessTotalNumberLigandsAverage.append((currentFitness, totalNumberLigands/totalNPCount))        \n",
    "        currentFitness = i['fitness']\n",
    "        totalNumberLigands = float(numMinNumNN(i['phenome'].particle.ligands, NNcutoff, NNcount))\n",
    "        totalNPCount = 1\n",
    "    else:\n",
    "        totalNumberLigands += float(numMinNumNN(i['phenome'].particle.ligands, NNcutoff, NNcount))\n",
    "        totalNPCount += 1\n",
    "plt.plot([i[0] for i in fitnessTotalNumberLigandsAverage], [i[1] for i in fitnessTotalNumberLigandsAverage],'.',label='avg. num. ligands with {} or more neighbours'.format(NNcount))\n",
    "plt.xlabel('fitness')\n",
    "plt.ylabel('average number of ligands with {} or more neighbours (within +- 5 fitness)'.format(NNcount))\n",
    "plt.title('average number of ligands with {} or more neighbours per nanoparticle against fitness (within +- 5 fitness)'.format(NNcount))\n",
    "plt.legend();"
   ]
  },
  {
   "cell_type": "code",
   "execution_count": null,
   "metadata": {},
   "outputs": [],
   "source": []
  },
  {
   "cell_type": "code",
   "execution_count": null,
   "metadata": {},
   "outputs": [],
   "source": []
  },
  {
   "cell_type": "code",
   "execution_count": null,
   "metadata": {},
   "outputs": [],
   "source": []
  },
  {
   "cell_type": "code",
   "execution_count": null,
   "metadata": {},
   "outputs": [],
   "source": []
  },
  {
   "cell_type": "code",
   "execution_count": null,
   "metadata": {},
   "outputs": [],
   "source": []
  },
  {
   "cell_type": "markdown",
   "metadata": {},
   "source": [
    "# t-SNE"
   ]
  },
  {
   "cell_type": "code",
   "execution_count": null,
   "metadata": {},
   "outputs": [],
   "source": [
    "#see\n",
    "#https://github.com/oreillymedia/t-SNE-tutorial\n",
    "#https://distill.pub/2016/misread-tsne/"
   ]
  },
  {
   "cell_type": "code",
   "execution_count": null,
   "metadata": {},
   "outputs": [],
   "source": [
    "maxLigands = max([len(i['phenome'].particle.ligands) for i in data['individuals']])\n",
    "ligandFeatures = 3 #polAng,aziAng,eps\n",
    "indCount = len(data['individuals'])\n",
    "features = np.zeros((indCount,maxLigands*ligandFeatures))\n",
    "labels = np.zeros((indCount,))\n",
    "\n",
    "print('features shape:{}'.format(features.shape))\n",
    "print('labels shape:{}'.format(labels.shape))"
   ]
  },
  {
   "cell_type": "code",
   "execution_count": null,
   "metadata": {},
   "outputs": [],
   "source": [
    "#populate features\n",
    "for idx in range(len(data['individuals'])):\n",
    "    ligands = copy.deepcopy(data['individuals'][idx]['phenome'].particle.ligands)\n",
    "    #this does not do anything for tiled model, but for untiled it's a 0th order attempt at a proper ordering scheme\n",
    "    ligands = sorted(ligands, key = lambda x: (x.polAng, x.aziAng, x.eps))\n",
    "    ligDat = []\n",
    "    for ligand in ligands:\n",
    "        ligDat.append(ligand.polAng)\n",
    "        ligDat.append(ligand.aziAng)\n",
    "        ligDat.append(ligand.eps)\n",
    "    #pad features with (pol,azi,eps) = (0,0,0) if < required num of dimensions\n",
    "    while len(ligDat) < features.shape[1]:\n",
    "        ligDat.append(0)\n",
    "    features[idx] = ligDat"
   ]
  },
  {
   "cell_type": "code",
   "execution_count": null,
   "metadata": {},
   "outputs": [],
   "source": [
    "#populate labels\n",
    "for idx in range(len(data['individuals'])):\n",
    "    fit = data['individuals'][idx]['fitness']\n",
    "    if fit == 400:\n",
    "        labels[idx] = 2 #budded in under all GA test rotations\n",
    "    elif fit >= 320:\n",
    "        labels[idx] = 1 #probably budded in under some rotations\n",
    "    else:\n",
    "        labels[idx] = 0 #probably no budding"
   ]
  },
  {
   "cell_type": "code",
   "execution_count": null,
   "metadata": {},
   "outputs": [],
   "source": [
    "perplexities = [i for i in range(5,51,10)]\n",
    "perplexities.append(2)\n",
    "perplexities.append(100)\n",
    "\n",
    "ligProjs = []\n",
    "for p_i in perplexities:\n",
    "    ligProj = TSNE(random_state=1234567890, perplexity=p_i).fit_transform(features)\n",
    "    ligProjs.append((ligProj, p_i))"
   ]
  },
  {
   "cell_type": "code",
   "execution_count": null,
   "metadata": {},
   "outputs": [],
   "source": [
    "for ligProj, p_i in ligProjs:\n",
    "    plt.rcParams['figure.figsize'] = (10.0, 8.0)\n",
    "    plt.scatter(ligProj[:,0], ligProj[:,1], s=40, c=labels, cmap=plt.cm.Spectral)\n",
    "    plt.xticks([])\n",
    "    plt.yticks([])\n",
    "    plt.colorbar()\n",
    "    plt.title('t-SNE perplexity={}'.format(p_i))\n",
    "    plt.show()"
   ]
  },
  {
   "cell_type": "markdown",
   "metadata": {},
   "source": [
    "# ?"
   ]
  },
  {
   "cell_type": "code",
   "execution_count": null,
   "metadata": {},
   "outputs": [],
   "source": [
    "# print(data['metrics'])\n",
    "# print(len(data['genealogy']['tree']))\n",
    "# print(len(data['genealogy']['history']))\n",
    "# print(len(data['individuals']))\n",
    "# print(data['genealogy']['tree'][1])\n",
    "# print(data['genealogy']['history'][1])\n",
    "#print(data['individuals'][0]['genome'])\n",
    "#print(data['individuals'][0]['fitness'])\n",
    "#print(genomeFitness(data['individuals'][0]['genome']))\n",
    "print(len(data['individuals']))"
   ]
  }
 ],
 "metadata": {
  "kernelspec": {
   "display_name": "Python 2",
   "language": "python",
   "name": "python2"
  },
  "language_info": {
   "codemirror_mode": {
    "name": "ipython",
    "version": 2
   },
   "file_extension": ".py",
   "mimetype": "text/x-python",
   "name": "python",
   "nbconvert_exporter": "python",
   "pygments_lexer": "ipython2",
   "version": "2.7.6"
  }
 },
 "nbformat": 4,
 "nbformat_minor": 2
}
