{
 "cells": [
  {
   "cell_type": "code",
   "execution_count": null,
   "metadata": {},
   "outputs": [],
   "source": [
    "from tools import analysistools as atools\n",
    "from functools import partial as partial\n",
    "from ga import networkedgeneticalgorithm as nga\n",
    "from db import databaseconnection as dbconn\n",
    "import matplotlib.pyplot as plt\n",
    "import seaborn as sns\n",
    "import numpy as np"
   ]
  },
  {
   "cell_type": "markdown",
   "metadata": {},
   "source": [
    "# DATA"
   ]
  },
  {
   "cell_type": "code",
   "execution_count": null,
   "metadata": {},
   "outputs": [],
   "source": [
    "epsIndices = range(4, 5)\n",
    "epsDBs = ['db/GP{}.db'.format(i) for i in epsIndices]"
   ]
  },
  {
   "cell_type": "code",
   "execution_count": null,
   "metadata": {},
   "outputs": [],
   "source": [
    "dropIndProps = partial(atools.dropChildren, parentKey = 'individuals', childKeys = ['genome', 'gh'])\n",
    "dropGens = partial(atools.dropParentsConditional, parentKey = 'individuals', condition = lambda ind: ind['gen'] <= 30)\n",
    "dropMetrics = partial(atools.dropParents, parentKey='metrics')\n",
    "dropGenealogy = partial(atools.dropParents, parentKey='genealogy')"
   ]
  },
  {
   "cell_type": "code",
   "execution_count": null,
   "metadata": {},
   "outputs": [],
   "source": [
    "dropTasks = [dropMetrics, dropGenealogy, dropIndProps, dropGens]\n",
    "cleanTasks = [atools.cleanLigands, atools.cleanFits]\n",
    "sortTasks = [atools.sortIndGens]\n",
    "\n",
    "epsData = atools.load(epsDBs, dbconn, clean = cleanTasks, drop = dropTasks, sort = sortTasks)"
   ]
  },
  {
   "cell_type": "markdown",
   "metadata": {},
   "source": [
    "# PLOTS"
   ]
  },
  {
   "cell_type": "code",
   "execution_count": null,
   "metadata": {},
   "outputs": [],
   "source": [
    "epsLabel = 'ligand strength'\n",
    "purpleMap = sns.cubehelix_palette(as_cmap=True)\n",
    "BlueRedMap = 'RdBu_r'\n",
    "\n",
    "%matplotlib inline\n",
    "plt.rcParams['figure.figsize'] = (10.0, 8.0)"
   ]
  },
  {
   "cell_type": "code",
   "execution_count": null,
   "metadata": {},
   "outputs": [],
   "source": [
    "# # vs. gen\n",
    "# sortedData = []\n",
    "# for epsDatum in epsData:\n",
    "#     sortedData.append(atools.sortIndGens(epsDatum))\n",
    "# epsData = sortedData\n",
    "# plotScan = partial(atools.plotScanGen, scanData=epsData, scanLabel=epsLabel, scanIndices=epsIndices, indexOffset=epsIndices[0], annotate=True)"
   ]
  },
  {
   "cell_type": "code",
   "execution_count": null,
   "metadata": {},
   "outputs": [],
   "source": [
    "# # vs. fitness\n",
    "# sortedData = []\n",
    "# for epsDatum in epsData:\n",
    "#     sortedData.append(atools.sortIndFits(epsDatum))\n",
    "# epsData = sortedData\n",
    "# plotScan = partial(atools.plotScanCustom, scanData=epsData, scanLabel=epsLabel, scanIndices=epsIndices, indexOffset=epsIndices[0], interestKey=lambda ind: float(ind['fitness']), interestKeyLabel='fitness',tickerRange=40,tickerBlockSize=25,tickerBlockOffset=25,annotate=True)"
   ]
  },
  {
   "cell_type": "code",
   "execution_count": null,
   "metadata": {},
   "outputs": [],
   "source": [
    "# # vs. no. ligands\n",
    "# sortedData = []\n",
    "# for epsDatum in epsData:\n",
    "#     sortedData.append(atools.sortIndLigandCount(epsDatum))\n",
    "# epsData = sortedData\n",
    "# plotScan = partial(atools.plotScanCustom, scanData=epsData, scanLabel=epsLabel, scanIndices=epsIndices, indexOffset=epsIndices[0], interestKey=lambda ind: float(len(ind['phenome'].particle.ligands)), interestKeyLabel='number of ligands',tickerRange=36,tickerBlockSize=2,tickerBlockOffset=2,annotate=True)"
   ]
  },
  {
   "cell_type": "code",
   "execution_count": null,
   "metadata": {},
   "outputs": [],
   "source": [
    "#plotScan(interest=atools.characterScore, aggregateMode='AVG', plotName='character score - avg', cmap=BlueRedMap, vmin=-1, vmax=1)\n",
    "#plotScan(interest=atools.characterScore, aggregateMode='MAX', plotName='character score - max', cmap=BlueRedMap, vmin=-1, vmax=1)\n",
    "#plotScan(interest=atools.characterScore, aggregateMode='MIN', plotName='character score - min', cmap=BlueRedMap, vmin=-1, vmax=1)\n",
    "\n",
    "#plotScan(interest=atools.lineyABS, aggregateMode='AVG', plotName='number of liney ligands - avg', cmap=purpleMap)\n",
    "#plotScan(interest=atools.lineyABS, aggregateMode='MAX', plotName='number of liney ligands - max', cmap=purpleMap)\n",
    "#plotScan(interest=atools.lineyABS, aggregateMode='MIN', plotName='number of liney ligands - min', cmap=purpleMap)\n",
    "\n",
    "#plotScan(interest=atools.lineyREL, aggregateMode='AVG', plotName='fraction of liney ligands - avg', cmap=purpleMap)\n",
    "#plotScan(interest=atools.lineyREL, aggregateMode='MAX', plotName='fraction of liney ligands - max', cmap=purpleMap)\n",
    "#plotScan(interest=atools.lineyREL, aggregateMode='MIN', plotName='fraction of liney ligands - min', cmap=purpleMap)\n",
    "\n",
    "#plotScan(interest=atools.spottyABS, aggregateMode='AVG', plotName='number of spotty ligands - avg', cmap=purpleMap)\n",
    "#plotScan(interest=atools.spottyABS, aggregateMode='MAX', plotName='number of spotty ligands - max', cmap=purpleMap)\n",
    "#plotScan(interest=atools.spottyABS, aggregateMode='MIN', plotName='number of spotty ligands - min', cmap=purpleMap)\n",
    "\n",
    "#plotScan(interest=atools.spottyREL, aggregateMode='AVG', plotName='fraction of spotty ligands - avg', cmap=purpleMap)\n",
    "#plotScan(interest=atools.spottyREL, aggregateMode='MAX', plotName='fraction of spotty ligands - max', cmap=purpleMap)\n",
    "#plotScan(interest=atools.spottyREL, aggregateMode='MIN', plotName='fraction of spotty ligands - min', cmap=purpleMap)\n",
    "\n",
    "#plotScan(interest=atools.patchyABS, aggregateMode='AVG', plotName='number of patchy ligands - avg', cmap=purpleMap)\n",
    "#plotScan(interest=atools.patchyABS, aggregateMode='MAX', plotName='number of patchy ligands - max', cmap=purpleMap)\n",
    "#plotScan(interest=atools.patchyABS, aggregateMode='MIN', plotName='number of patchy ligands - min', cmap=purpleMap)\n",
    "\n",
    "#plotScan(interest=atools.patchyREL, aggregateMode='AVG', plotName='fraction of patchy ligands - avg', cmap=purpleMap)\n",
    "#plotScan(interest=atools.patchyREL, aggregateMode='MAX', plotName='fraction of patchy ligands - max', cmap=purpleMap)\n",
    "#plotScan(interest=atools.patchyREL, aggregateMode='MIN', plotName='fraction of patchy ligands - min', cmap=purpleMap)\n",
    "\n",
    "#plotScan(interest=lambda ind: float(ind['fitness']), aggregateMode='AVG', plotName='fitness - avg', fmt='.2f', cmap=purpleMap)\n",
    "#plotScan(interest=lambda ind: float(ind['fitness']), aggregateMode='MAX', plotName='fitness - max', fmt='.2f', cmap=purpleMap)\n",
    "#plotScan(interest=lambda ind: float(ind['fitness']), aggregateMode='MIN', plotName='fitness - min', fmt='.2f', cmap=purpleMap)\n",
    "\n",
    "#plotScan(interest=lambda ind: float(len(ind['phenome'].particle.ligands)), aggregateMode='AVG', plotName='number of ligands - avg', cmap=purpleMap)\n",
    "#plotScan(interest=lambda ind: float(len(ind['phenome'].particle.ligands)), aggregateMode='MAX', plotName='number of ligands - max', cmap=purpleMap)\n",
    "#plotScan(interest=lambda ind: float(len(ind['phenome'].particle.ligands)), aggregateMode='MIN', plotName='number of ligands - min', cmap=purpleMap)\n",
    "\n",
    "#plotScan(interest=lambda ind: float(np.sum([lig.eps for lig in ind['phenome'].particle.ligands])), aggregateMode='AVG', plotName='total ligand affinity - avg', fmt='.2f', cmap=purpleMap)\n",
    "#plotScan(interest=lambda ind: float(np.sum([lig.eps for lig in ind['phenome'].particle.ligands])), aggregateMode='MAX', plotName='total ligand affinity - max', fmt='.2f', cmap=purpleMap)\n",
    "#plotScan(interest=lambda ind: float(np.sum([lig.eps for lig in ind['phenome'].particle.ligands])), aggregateMode='MIN', plotName='total ligand affinity - min', fmt='.2f', cmap=purpleMap)\n",
    "\n",
    "#plotScan(interest=atools.NNCountAVG, aggregateMode='AVG', plotName='average number of NNs - avg', cmap=purpleMap)\n",
    "#plotScan(interest=atools.NNCountAVG, aggregateMode='MAX', plotName='average number of NNs - max', cmap=purpleMap)\n",
    "#plotScan(interest=atools.NNCountAVG, aggregateMode='MIN', plotName='average number of NNs - min', cmap=purpleMap)\n",
    "\n",
    "#plotScan(interest=atools.lineyChainCount, aggregateMode='AVG', plotName='number of liney chains - avg', cmap=purpleMap)\n",
    "#plotScan(interest=atools.lineyChainCount, aggregateMode='MAX', plotName='number of liney chains - max', cmap=purpleMap)\n",
    "#plotScan(interest=atools.lineyChainCount, aggregateMode='MIN', plotName='number of liney chains - min', cmap=purpleMap)\n",
    "\n",
    "#plotScan(interest=atools.lineyChainSizeAVG, aggregateMode='AVG', plotName='average size of liney chains - avg', cmap=purpleMap)\n",
    "#plotScan(interest=atools.lineyChainSizeAVG, aggregateMode='MAX', plotName='average size of liney chains - max', cmap=purpleMap)\n",
    "#plotScan(interest=atools.lineyChainSizeAVG, aggregateMode='MIN', plotName='average size of liney chains - min', cmap=purpleMap)\n",
    "\n",
    "#plotScan(interest=atools.lineyChainSizeMAX, aggregateMode='AVG', plotName='size of largest liney chain - avg', cmap=purpleMap)\n",
    "#plotScan(interest=atools.lineyChainSizeMAX, aggregateMode='MAX', plotName='size of largest liney chain - max', cmap=purpleMap)\n",
    "#plotScan(interest=atools.lineyChainSizeMAX, aggregateMode='MIN', plotName='size of largest liney chain - min', cmap=purpleMap)\n",
    "\n",
    "#plotScan(interest=atools.lineyChainSizeMIN, aggregateMode='AVG', plotName='size of smallest liney chain - avg', cmap=purpleMap)\n",
    "#plotScan(interest=atools.lineyChainSizeMIN, aggregateMode='MAX', plotName='size of smallest liney chain - max', cmap=purpleMap)\n",
    "#plotScan(interest=atools.lineyChainSizeMIN, aggregateMode='MIN', plotName='size of smallest liney chain - min', cmap=purpleMap)\n",
    "\n",
    "#plotScan(interest=atools.lineyLineCount, aggregateMode='AVG', plotName='number of liney lines - avg', cmap=purpleMap)\n",
    "#plotScan(interest=atools.lineyLineCount, aggregateMode='MAX', plotName='number of liney lines - max', cmap=purpleMap)\n",
    "#plotScan(interest=atools.lineyLineCount, aggregateMode='MIN', plotName='number of liney lines - min', cmap=purpleMap)\n",
    "\n",
    "#plotScan(interest=atools.lineyLineSizeAVG, aggregateMode='AVG', plotName='average size of liney lines - avg', cmap=purpleMap)\n",
    "#plotScan(interest=atools.lineyLineSizeAVG, aggregateMode='MAX', plotName='average size of liney lines - max', cmap=purpleMap)\n",
    "#plotScan(interest=atools.lineyLineSizeAVG, aggregateMode='MIN', plotName='average size of liney lines - min', cmap=purpleMap)\n",
    "\n",
    "#plotScan(interest=atools.lineyLineSizeMAX, aggregateMode='AVG', plotName='size of largest liney lines - avg', cmap=purpleMap)\n",
    "#plotScan(interest=atools.lineyLineSizeMAX, aggregateMode='MAX', plotName='size of largest liney lines - max', cmap=purpleMap)\n",
    "#plotScan(interest=atools.lineyLineSizeMAX, aggregateMode='MIN', plotName='size of largest liney lines - min', cmap=purpleMap)\n",
    "\n",
    "#plotScan(interest=atools.lineyLineSizeMIN, aggregateMode='AVG', plotName='size of smallest liney lines - avg', cmap=purpleMap)\n",
    "#plotScan(interest=atools.lineyLineSizeMIN, aggregateMode='MAX', plotName='size of smallest liney lines - max', cmap=purpleMap)\n",
    "#plotScan(interest=atools.lineyLineSizeMIN, aggregateMode='MIN', plotName='size of smallest liney lines - min', cmap=purpleMap)\n",
    "\n",
    "#plotScan(interest=atools.genomeConvergence, aggregateMode='POP', plotName='genetic convergence', cmap=purpleMap)"
   ]
  },
  {
   "cell_type": "code",
   "execution_count": null,
   "metadata": {},
   "outputs": [],
   "source": []
  }
 ],
 "metadata": {
  "kernelspec": {
   "display_name": "Python 2",
   "language": "python",
   "name": "python2"
  },
  "language_info": {
   "codemirror_mode": {
    "name": "ipython",
    "version": 2
   },
   "file_extension": ".py",
   "mimetype": "text/x-python",
   "name": "python",
   "nbconvert_exporter": "python",
   "pygments_lexer": "ipython2",
   "version": "2.7.14"
  }
 },
 "nbformat": 4,
 "nbformat_minor": 2
}
