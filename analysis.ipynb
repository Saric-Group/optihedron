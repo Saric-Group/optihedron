{
 "cells": [
  {
   "cell_type": "code",
   "execution_count": 1,
   "metadata": {},
   "outputs": [],
   "source": [
    "from db import databaseconnection\n",
    "import numpy as np\n",
    "from ga import networkedgeneticalgorithm as nga\n",
    "from membranesimulation import MembraneSimulation\n",
    "import parlammps\n",
    "from mpl_toolkits.mplot3d import Axes3D\n",
    "import matplotlib.pyplot as plt\n",
    "#from sklearn.manifold import TSNE\n",
    "import networkx\n",
    "from tools import vectools\n",
    "import os\n",
    "import tools\n",
    "import copy\n",
    "import random\n",
    "import time\n",
    "%matplotlib inline\n",
    "plt.rcParams['image.interpolation'] = 'nearest'\n",
    "plt.rcParams['image.cmap'] = 'gray'\n",
    "plt.rcParams['figure.figsize'] = (10.0, 8.0)"
   ]
  },
  {
   "cell_type": "code",
   "execution_count": 2,
   "metadata": {},
   "outputs": [],
   "source": [
    "dbconn = databaseconnection.DatabaseConnection('/Users/joelforster/Projects/optihedron/db/datastore.db')"
   ]
  },
  {
   "cell_type": "code",
   "execution_count": 3,
   "metadata": {},
   "outputs": [
    {
     "data": {
      "text/plain": [
       "[1]"
      ]
     },
     "execution_count": 3,
     "metadata": {},
     "output_type": "execute_result"
    }
   ],
   "source": [
    "dbconn.whatSessions()"
   ]
  },
  {
   "cell_type": "code",
   "execution_count": 4,
   "metadata": {},
   "outputs": [
    {
     "name": "stderr",
     "output_type": "stream",
     "text": [
      "/Users/joelforster/anaconda2/lib/python2.7/site-packages/sqlalchemy/sql/sqltypes.py:603: SAWarning: Dialect sqlite+pysqlite does *not* support Decimal objects natively, and SQLAlchemy must convert from floating point - rounding errors and other issues may occur. Please consider storing Decimal numbers as strings or integers on this platform for lossless storage.\n",
      "  'storage.' % (dialect.name, dialect.driver))\n"
     ]
    },
    {
     "name": "stdout",
     "output_type": "stream",
     "text": [
      "loaded data:['metrics', 'individuals', 'genealogy']\n"
     ]
    }
   ],
   "source": [
    "data = dbconn.loadSession('1')\n",
    "\n",
    "print('loaded data:{}'.format(data.keys()))"
   ]
  },
  {
   "cell_type": "code",
   "execution_count": 30,
   "metadata": {},
   "outputs": [
    {
     "name": "stdout",
     "output_type": "stream",
     "text": [
      "[]\n"
     ]
    }
   ],
   "source": [
    "#individuals sorted by gen\n",
    "print data['individuals']\n",
    "ind_tmp = copy.deepcopy(data['individuals'])\n",
    "ind_tmp.sort(key=lambda x:x['gen'])"
   ]
  },
  {
   "cell_type": "code",
   "execution_count": 6,
   "metadata": {},
   "outputs": [],
   "source": [
    "dbconn.close()"
   ]
  },
  {
   "cell_type": "markdown",
   "metadata": {},
   "source": [
    "### Helper Fns."
   ]
  },
  {
   "cell_type": "code",
   "execution_count": 7,
   "metadata": {},
   "outputs": [],
   "source": [
    "#fitness given genome\n",
    "def genomeFitness(genome):\n",
    "    for individual in data['individuals']:\n",
    "        if np.array_equal(individual['genome'], genome):\n",
    "            return individual['fitness']\n",
    "    return -1"
   ]
  },
  {
   "cell_type": "code",
   "execution_count": 8,
   "metadata": {},
   "outputs": [],
   "source": [
    "def trimLigands(inds):\n",
    "    #trim ligands with eps=0 for tiled NP model\n",
    "    inds_tmp = []\n",
    "    for ind in inds:\n",
    "        ligands_tmp = []\n",
    "        for ligand in ind['phenome'].particle.ligands:\n",
    "            if ligand.eps != 0:\n",
    "                ligands_tmp.append(ligand)\n",
    "        ind_tmp = copy.deepcopy(ind)\n",
    "        ind_tmp['phenome'].particle.ligands = ligands_tmp\n",
    "        inds_tmp.append(ind_tmp)\n",
    "    return inds_tmp"
   ]
  },
  {
   "cell_type": "code",
   "execution_count": 9,
   "metadata": {},
   "outputs": [],
   "source": [
    "def evaluateSample(nps, gens, inds, rs, RUNTIME=25000, TIMESTEP=0.01, wd_out = 'wetlab/out', wd_run = 'wetlab/run',nprocs=2, timeout=999999, silent=False, DUMP=1000):    \n",
    "    wd = ''\n",
    "    for np,gen,ind in zip(nps,gens,inds):\n",
    "        for rs_i in range(rs):\n",
    "            simName = str(gen) + '_' + str(ind) + '_' +str(rs_i)\n",
    "            sim = MembraneSimulation(\n",
    "                'sim_'+simName,\n",
    "                np.particle,\n",
    "                RUNTIME,\n",
    "                TIMESTEP,                 \n",
    "                os.path.join(wd, wd_out),\n",
    "                os.path.join(wd, wd_run),\n",
    "                os.path.join(wd,'mem/template/data.template'),\n",
    "                os.path.join(wd,'mem/template/in.template'),\n",
    "                rAxis=vectools.randomUnitVector(),\n",
    "                rAmount=random.uniform(1.571,3.141),\n",
    "                dumpres=DUMP\n",
    "                )\n",
    "            sim.saveFiles()\n",
    "            scriptPath=os.path.join(sim.filedir,sim.scriptName)\n",
    "            outFilePath = os.path.join(sim.outdir,sim.outName)\n",
    "            parlammps.runSim(scriptPath,nprocs,timeout,silent)                        \n",
    "            sim.postProcessOutput(outFilePath)                        "
   ]
  },
  {
   "cell_type": "code",
   "execution_count": 10,
   "metadata": {},
   "outputs": [],
   "source": [
    "def greatArcDist(Ang1, Ang2, rad=4):\n",
    "    #Ang = (PolarAng,AziAng)\n",
    "    #https://math.stackexchange.com/questions/231221/great-arc-distance-between-two-points-on-a-unit-sphere\n",
    "    arcDist=rad*(np.arccos((np.cos(Ang1[0])*np.cos(Ang2[0]))+((np.sin(Ang1[0])*np.sin(Ang2[0]))*(np.cos(Ang1[1]-Ang2[1])))))\n",
    "    return arcDist"
   ]
  },
  {
   "cell_type": "code",
   "execution_count": 11,
   "metadata": {},
   "outputs": [],
   "source": [
    "def cluster(ligands, trimmingDist, silent=True):\n",
    "    if not silent:\n",
    "        startTime = time.time()\n",
    "    #print(greatArcDist((0,0), ((3.14/15.0),0))) #bad at small distances, correct should be 0.8377 but returns 0.8373, willing to accept +- 0.001\n",
    "\n",
    "    ligandsTmp = copy.deepcopy(ligands)\n",
    "\n",
    "    clusters = []\n",
    "    while ligandsTmp:    \n",
    "        #print('progress: {}/{}'.format(len(ligandsTmp),len(ligands)))\n",
    "        nextSeedQueue = [ligandsTmp[0]]    \n",
    "\n",
    "        clusterTmp = []\n",
    "        clusterTmp.append(ligandsTmp[0])\n",
    "        del ligandsTmp[0]\n",
    "        while nextSeedQueue:\n",
    "            seed = nextSeedQueue.pop()\n",
    "            for ligand in ligandsTmp:\n",
    "                if greatArcDist((seed.polAng, seed.aziAng),(ligand.polAng,ligand.aziAng)) <= trimmingDist:                \n",
    "                    nextSeedQueue.append(ligand)\n",
    "                    clusterTmp.append(ligand)\n",
    "                    ligandsTmp.remove(ligand)\n",
    "        clusters.append(clusterTmp)                  \n",
    "    if not silent:\n",
    "        print('ligands: {}'.format(len(ligands)))\n",
    "        print('clusters: {}'.format(len(clusters)))\n",
    "        print('clustered in {}s'.format(time.time()-startTime))\n",
    "    return clusters"
   ]
  },
  {
   "cell_type": "code",
   "execution_count": 12,
   "metadata": {},
   "outputs": [],
   "source": [
    "def avgClusterDist(clusters, silent=True):\n",
    "    ###find average position of each cluster\n",
    "    if not silent:\n",
    "        startTime = time.time()\n",
    "    avgClusterPos = []    \n",
    "    for i in clusters:\n",
    "        ligandCount = 0\n",
    "        totalPol = 0\n",
    "        totalAzi = 0\n",
    "        for j in i:\n",
    "            totalPol += j.polAng\n",
    "            totalAzi += j.aziAng\n",
    "            ligandCount += 1.0\n",
    "        avgClusterPos.append(((totalPol/ligandCount),(totalAzi/ligandCount)))\n",
    "    ###\n",
    "    ###find distances to next nearest for each\n",
    "    avgClusterNxtDistances = []\n",
    "    for i in avgClusterPos:\n",
    "        tmp = []\n",
    "        for j in avgClusterPos:\n",
    "            if i != j:\n",
    "                tmp.append(greatArcDist(i,j))\n",
    "        avgClusterNxtDistances.append(np.min(tmp))\n",
    "#     avgClusterNxtDistances = []    \n",
    "#     avgClusterPosTmp = copy.deepcopy(avgClusterPos)\n",
    "#     while avgClusterPosTmp:\n",
    "#         cClusterPos = avgClusterPosTmp.pop()        \n",
    "#         if len(avgClusterPosTmp) > 0:\n",
    "#             tmp = []\n",
    "#             for i in avgClusterPosTmp:\n",
    "#                 if i != cClusterPos:\n",
    "#                     tmp.append(greatArcDist(i,cClusterPos))\n",
    "#             avgClusterNxtDistances.append(np.min(tmp))\n",
    "    ###\n",
    "    ###return an average of those distances   \n",
    "    if not silent:\n",
    "        print('avg cluster distance found in {}s'.format(time.time() - startTime))    \n",
    "    return sum(avgClusterNxtDistances)/len(avgClusterNxtDistances)\n",
    "    ###"
   ]
  },
  {
   "cell_type": "code",
   "execution_count": 13,
   "metadata": {},
   "outputs": [],
   "source": [
    "def buildLigandNetwork(ligands, silent=True):\n",
    "    if not silent:\n",
    "        startTime = time.time()\n",
    "    G=networkx.Graph()\n",
    "    \n",
    "    nIndex = 1\n",
    "    for i in ligands:\n",
    "        if i.eps > 0.0:\n",
    "            G.add_node(nIndex,weight=i.eps,polAng=i.polAng,aziAng=i.aziAng)\n",
    "        nIndex += 1\n",
    "    \n",
    "    iIndex = 1\n",
    "    for i in ligands:\n",
    "        jIndex = 1\n",
    "        for j in ligands:\n",
    "            if i < j:\n",
    "                cartDist = 1.0/greatArcDist((i.polAng,i.aziAng),(j.polAng,j.aziAng))\n",
    "                #affDist = abs(i.eps - j.eps)\n",
    "                if i.eps > 0.0 and j.eps > 0.0:\n",
    "                    G.add_edge(iIndex, jIndex, weight=cartDist)\n",
    "            jIndex += 1\n",
    "        iIndex += 1\n",
    "    return G"
   ]
  },
  {
   "cell_type": "code",
   "execution_count": 14,
   "metadata": {},
   "outputs": [],
   "source": [
    "def avgLigandDist(ligands, silent=True):\n",
    "    if not silent:\n",
    "        startTime = time.time()\n",
    "    LigandNxtDistances = []\n",
    "    for i in ligands:\n",
    "        tmp = []\n",
    "        for j in ligands:\n",
    "            if i != j:\n",
    "                tmp.append(greatArcDist((i.polAng,i.aziAng),(j.polAng,j.aziAng)))\n",
    "        LigandNxtDistances.append(np.min(tmp))\n",
    "#     ligandsTmp = copy.deepcopy(ligands)\n",
    "#     while ligandsTmp:\n",
    "#         cLigand = ligandsTmp.pop()\n",
    "#         if len(ligandsTmp) > 0:\n",
    "#             tmp = []\n",
    "#             for i in ligandsTmp:\n",
    "#                 if i != cLigand:\n",
    "#                     tmp.append(greatArcDist((i.polAng,i.aziAng),(cLigand.polAng,cLigand.aziAng)))\n",
    "#             LigandNxtDistances.append(np.min(tmp))\n",
    "    if not silent:\n",
    "        print('avg ligand distance found in {}s'.format(time.time() - startTime))\n",
    "    return sum(LigandNxtDistances)/len(LigandNxtDistances)"
   ]
  },
  {
   "cell_type": "code",
   "execution_count": 15,
   "metadata": {},
   "outputs": [],
   "source": [
    "def numNN(ligands, cutoff):\n",
    "    #number of ligands that are nearest neighbours ligand-wise\n",
    "    numNNs = []\n",
    "    for i in ligands:\n",
    "        numNN_i = 0\n",
    "        for j in ligands:\n",
    "            if i != j:\n",
    "                if greatArcDist((i.polAng,i.aziAng),(j.polAng,j.aziAng)) <= cutoff:\n",
    "                    numNN_i += 1\n",
    "        numNNs.append(numNN_i)\n",
    "    return numNNs"
   ]
  },
  {
   "cell_type": "code",
   "execution_count": 16,
   "metadata": {},
   "outputs": [],
   "source": [
    "def numMinNumNN(ligands,cutoff,minligands):\n",
    "    #number of ligands which have at least minligands ligands that are within cutoff range ligand-wise\n",
    "    numMinNumNNs = 0\n",
    "    for i in ligands:\n",
    "        numNNs = 0\n",
    "        for j in ligands:\n",
    "            if i != j:\n",
    "                if greatArcDist((i.polAng,i.aziAng),(j.polAng,j.aziAng)) <= cutoff:\n",
    "                    numNNs += 1\n",
    "        if numNNs >= minligands:\n",
    "            numMinNumNNs += 1\n",
    "    return numMinNumNNs"
   ]
  },
  {
   "cell_type": "code",
   "execution_count": 17,
   "metadata": {},
   "outputs": [],
   "source": [
    "def totalEps(ligands):\n",
    "    return np.sum([ligand.eps for ligand in ligands])    "
   ]
  },
  {
   "cell_type": "code",
   "execution_count": 18,
   "metadata": {},
   "outputs": [],
   "source": [
    "def plotNP(ligands=None, rad=4):\n",
    "    fig = plt.figure(figsize=(40.0,16.0))\n",
    "    ax = fig.gca(projection='3d')\n",
    "    ax.set_aspect(\"equal\")\n",
    "\n",
    "    u, v = np.mgrid[0:2*np.pi:25j, 0:np.pi:25j]\n",
    "    x = np.cos(u)*np.sin(v)*rad\n",
    "    y = np.sin(u)*np.sin(v)*rad\n",
    "    z = np.cos(v)*rad\n",
    "    #ax.scatter(x, y, z, color=\"r\", alpha=0.2)    \n",
    "    ax.plot_wireframe(x, y, z, color=\"r\", alpha=0.2)\n",
    "    if ligands:\n",
    "        for ligand in ligands:\n",
    "            v = tools.vectools.polarToCartesianVector(rad,ligand.polAng,ligand.aziAng)\n",
    "            ax.scatter(v[0],v[1],v[2],s=[200]*len(ligands),color=\"g\")"
   ]
  },
  {
   "cell_type": "markdown",
   "metadata": {},
   "source": [
    "# GA Metrics"
   ]
  },
  {
   "cell_type": "code",
   "execution_count": 19,
   "metadata": {},
   "outputs": [
    {
     "data": {
      "image/png": "[encoded data removed]",
      "text/plain": [
       "<matplotlib.figure.Figure at 0x11463d1d0>"
      ]
     },
     "metadata": {},
     "output_type": "display_data"
    }
   ],
   "source": [
    "#print(data['metrics'])\n",
    "\n",
    "fitAvg = [metric['avg'] for metric in data['metrics']]\n",
    "fitMin = [metric['min'] for metric in data['metrics']]\n",
    "fitMax = [metric['max'] for metric in data['metrics']]\n",
    "plt.plot(fitAvg, '.',label='Average Fitness');\n",
    "plt.plot(fitMax, '.',label='Max Fitness');\n",
    "plt.plot(fitMin, '.',label='Min Fitness');\n",
    "plt.xlabel('generation number')\n",
    "plt.ylabel('fitness')\n",
    "plt.legend();"
   ]
  },
  {
   "cell_type": "markdown",
   "metadata": {},
   "source": [
    "# Genealogy"
   ]
  },
  {
   "cell_type": "code",
   "execution_count": 20,
   "metadata": {},
   "outputs": [
    {
     "ename": "ImportError",
     "evalue": "('requires pygraphviz ', 'http://pygraphviz.github.io/')",
     "output_type": "error",
     "traceback": [
      "\u001b[0;31m---------------------------------------------------------------------------\u001b[0m",
      "\u001b[0;31mImportError\u001b[0m                               Traceback (most recent call last)",
      "\u001b[0;32m<ipython-input-20-1efd2fe9e45b>\u001b[0m in \u001b[0;36m<module>\u001b[0;34m()\u001b[0m\n\u001b[1;32m      3\u001b[0m \u001b[0mgraph\u001b[0m \u001b[0;34m=\u001b[0m \u001b[0mgraph\u001b[0m\u001b[0;34m.\u001b[0m\u001b[0mreverse\u001b[0m\u001b[0;34m(\u001b[0m\u001b[0;34m)\u001b[0m\u001b[0;34m\u001b[0m\u001b[0m\n\u001b[1;32m      4\u001b[0m \u001b[0mcolors\u001b[0m \u001b[0;34m=\u001b[0m \u001b[0;34m[\u001b[0m\u001b[0mgenomeFitness\u001b[0m\u001b[0;34m(\u001b[0m\u001b[0mdata\u001b[0m\u001b[0;34m[\u001b[0m\u001b[0;34m'genealogy'\u001b[0m\u001b[0;34m]\u001b[0m\u001b[0;34m[\u001b[0m\u001b[0;34m'history'\u001b[0m\u001b[0;34m]\u001b[0m\u001b[0;34m[\u001b[0m\u001b[0mi\u001b[0m\u001b[0;34m]\u001b[0m\u001b[0;34m)\u001b[0m \u001b[0;32mfor\u001b[0m \u001b[0mi\u001b[0m \u001b[0;32min\u001b[0m \u001b[0mgraph\u001b[0m\u001b[0;34m]\u001b[0m\u001b[0;34m\u001b[0m\u001b[0m\n\u001b[0;32m----> 5\u001b[0;31m \u001b[0mpositions\u001b[0m \u001b[0;34m=\u001b[0m \u001b[0mnetworkx\u001b[0m\u001b[0;34m.\u001b[0m\u001b[0mdrawing\u001b[0m\u001b[0;34m.\u001b[0m\u001b[0mnx_agraph\u001b[0m\u001b[0;34m.\u001b[0m\u001b[0mgraphviz_layout\u001b[0m\u001b[0;34m(\u001b[0m\u001b[0mgraph\u001b[0m\u001b[0;34m,\u001b[0m \u001b[0mprog\u001b[0m\u001b[0;34m=\u001b[0m\u001b[0;34m\"dot\"\u001b[0m\u001b[0;34m)\u001b[0m\u001b[0;34m\u001b[0m\u001b[0m\n\u001b[0m\u001b[1;32m      6\u001b[0m \u001b[0mnetworkx\u001b[0m\u001b[0;34m.\u001b[0m\u001b[0mdraw\u001b[0m\u001b[0;34m(\u001b[0m\u001b[0mgraph\u001b[0m\u001b[0;34m,\u001b[0m \u001b[0mpositions\u001b[0m\u001b[0;34m,\u001b[0m \u001b[0mnode_color\u001b[0m \u001b[0;34m=\u001b[0m \u001b[0mcolors\u001b[0m\u001b[0;34m,\u001b[0m \u001b[0ms\u001b[0m\u001b[0;34m=\u001b[0m\u001b[0;36m40\u001b[0m\u001b[0;34m,\u001b[0m \u001b[0mcmap\u001b[0m\u001b[0;34m=\u001b[0m\u001b[0mplt\u001b[0m\u001b[0;34m.\u001b[0m\u001b[0mcm\u001b[0m\u001b[0;34m.\u001b[0m\u001b[0mSpectral\u001b[0m\u001b[0;34m)\u001b[0m\u001b[0;34m\u001b[0m\u001b[0m\n\u001b[1;32m      7\u001b[0m \u001b[0mfits\u001b[0m \u001b[0;34m=\u001b[0m \u001b[0;34m[\u001b[0m \u001b[0mindividual\u001b[0m\u001b[0;34m[\u001b[0m\u001b[0;34m'fitness'\u001b[0m\u001b[0;34m]\u001b[0m \u001b[0;32mfor\u001b[0m \u001b[0mindividual\u001b[0m \u001b[0;32min\u001b[0m \u001b[0mdata\u001b[0m\u001b[0;34m[\u001b[0m\u001b[0;34m'individuals'\u001b[0m\u001b[0;34m]\u001b[0m\u001b[0;34m]\u001b[0m\u001b[0;34m\u001b[0m\u001b[0m\n",
      "\u001b[0;32m/Users/joelforster/anaconda2/lib/python2.7/site-packages/networkx/drawing/nx_agraph.pyc\u001b[0m in \u001b[0;36mgraphviz_layout\u001b[0;34m(G, prog, root, args)\u001b[0m\n\u001b[1;32m    241\u001b[0m \u001b[0;34m\u001b[0m\u001b[0m\n\u001b[1;32m    242\u001b[0m     \"\"\"\n\u001b[0;32m--> 243\u001b[0;31m     \u001b[0;32mreturn\u001b[0m \u001b[0mpygraphviz_layout\u001b[0m\u001b[0;34m(\u001b[0m\u001b[0mG\u001b[0m\u001b[0;34m,\u001b[0m \u001b[0mprog\u001b[0m\u001b[0;34m=\u001b[0m\u001b[0mprog\u001b[0m\u001b[0;34m,\u001b[0m \u001b[0mroot\u001b[0m\u001b[0;34m=\u001b[0m\u001b[0mroot\u001b[0m\u001b[0;34m,\u001b[0m \u001b[0margs\u001b[0m\u001b[0;34m=\u001b[0m\u001b[0margs\u001b[0m\u001b[0;34m)\u001b[0m\u001b[0;34m\u001b[0m\u001b[0m\n\u001b[0m\u001b[1;32m    244\u001b[0m \u001b[0;34m\u001b[0m\u001b[0m\n\u001b[1;32m    245\u001b[0m \u001b[0;34m\u001b[0m\u001b[0m\n",
      "\u001b[0;32m/Users/joelforster/anaconda2/lib/python2.7/site-packages/networkx/drawing/nx_agraph.pyc\u001b[0m in \u001b[0;36mpygraphviz_layout\u001b[0;34m(G, prog, root, args)\u001b[0m\n\u001b[1;32m    272\u001b[0m     \u001b[0;32mexcept\u001b[0m \u001b[0mImportError\u001b[0m\u001b[0;34m:\u001b[0m\u001b[0;34m\u001b[0m\u001b[0m\n\u001b[1;32m    273\u001b[0m         raise ImportError('requires pygraphviz ',\n\u001b[0;32m--> 274\u001b[0;31m                           'http://pygraphviz.github.io/')\n\u001b[0m\u001b[1;32m    275\u001b[0m     \u001b[0;32mif\u001b[0m \u001b[0mroot\u001b[0m \u001b[0;32mis\u001b[0m \u001b[0;32mnot\u001b[0m \u001b[0mNone\u001b[0m\u001b[0;34m:\u001b[0m\u001b[0;34m\u001b[0m\u001b[0m\n\u001b[1;32m    276\u001b[0m         \u001b[0margs\u001b[0m \u001b[0;34m+=\u001b[0m \u001b[0;34m\"-Groot=%s\"\u001b[0m \u001b[0;34m%\u001b[0m \u001b[0mroot\u001b[0m\u001b[0;34m\u001b[0m\u001b[0m\n",
      "\u001b[0;31mImportError\u001b[0m: ('requires pygraphviz ', 'http://pygraphviz.github.io/')"
     ]
    }
   ],
   "source": [
    "plt.rcParams['figure.figsize'] = (40.0, 16.0)\n",
    "graph = networkx.DiGraph(data['genealogy']['tree'])\n",
    "graph = graph.reverse()\n",
    "colors = [genomeFitness(data['genealogy']['history'][i]) for i in graph]\n",
    "positions = networkx.drawing.nx_agraph.graphviz_layout(graph, prog=\"dot\")\n",
    "networkx.draw(graph, positions, node_color = colors, s=40, cmap=plt.cm.Spectral)\n",
    "fits = [ individual['fitness'] for individual in data['individuals']]\n",
    "sm = plt.cm.ScalarMappable(cmap=plt.cm.Spectral, norm=plt.Normalize(vmin=float(min(fits)), vmax=float(max(fits))))\n",
    "sm._A = []\n",
    "plt.colorbar(sm)\n",
    "plt.savefig('genealogy.png')\n",
    "plt.show()"
   ]
  },
  {
   "cell_type": "markdown",
   "metadata": {},
   "source": [
    "# Generate Local Samples"
   ]
  },
  {
   "cell_type": "code",
   "execution_count": 21,
   "metadata": {},
   "outputs": [
    {
     "name": "stdout",
     "output_type": "stream",
     "text": [
      "samples length:0\n",
      "samples generations:[]\n"
     ]
    }
   ],
   "source": [
    "#generate your samples\n",
    "hof = []\n",
    "for i in data['individuals']:\n",
    "    if i['fitness'] == 400.0: #400 means all rotations budded in!\n",
    "        hof.append(i)\n",
    "\n",
    "# #best performers in gen X (gen=X)\n",
    "# curr_best_fitness = -1\n",
    "# best = None\n",
    "# genS = 29\n",
    "# for i in data['individuals']:\n",
    "#     if i['gen'] == genS:\n",
    "#         if i['fitness'] > curr_best_fitness:    \n",
    "#             best = i\n",
    "#             curr_best_fitness = i['fitness']\n",
    "# for i in data['individuals']:\n",
    "#     if i['gen'] == genS:\n",
    "#         if i ['fitness'] == curr_best_fitness:            \n",
    "#             hof.append(i)\n",
    "# #hof.append(best)        \n",
    "    \n",
    "print('samples length:{}'.format(len(hof)))\n",
    "print('samples generations:{}'.format([i['gen'] for i in hof]))"
   ]
  },
  {
   "cell_type": "code",
   "execution_count": 22,
   "metadata": {},
   "outputs": [],
   "source": [
    "phenomes = [i['phenome'] for i in hof]\n",
    "gens = [i['gen'] for i in hof]\n",
    "inds = [i['ind'] for i in hof]\n",
    "evaluateSample(phenomes, gens, inds,rs=2,nprocs=4,silent=False)\n",
    "#evaluateSample(phenomes, gens, inds,rs=2,nprocs=4,silent=False,DUMP=250)\n",
    "#evaluateSample(phenomes, gens, inds,rs=1,silent=True,RUNTIME=100)"
   ]
  },
  {
   "cell_type": "markdown",
   "metadata": {},
   "source": [
    "# Ligand Clustering"
   ]
  },
  {
   "cell_type": "code",
   "execution_count": 23,
   "metadata": {},
   "outputs": [],
   "source": [
    "# clusters = cluster(hof[0]['phenome'].particle.ligands,1.8,silent=False)\n",
    "# plotNP(clusters[9])"
   ]
  },
  {
   "cell_type": "code",
   "execution_count": 24,
   "metadata": {},
   "outputs": [],
   "source": [
    "#NNcutoff = 1.345 #for int. range 1.8\n",
    "NNcutoff = 1.559 #for int. range 2.0\n",
    "for i in data['individuals']:    \n",
    "    i['ligand_clusters'] = cluster(i['phenome'].particle.ligands,NNcutoff,silent=True)"
   ]
  },
  {
   "cell_type": "code",
   "execution_count": 25,
   "metadata": {},
   "outputs": [],
   "source": [
    "##for tiled NP, removed ligands with eps=0\n",
    "##data['individuals'] = trimLigands(data['individuals'])"
   ]
  },
  {
   "cell_type": "markdown",
   "metadata": {},
   "source": [
    "## v. Gen"
   ]
  },
  {
   "cell_type": "code",
   "execution_count": 28,
   "metadata": {},
   "outputs": [
    {
     "name": "stdout",
     "output_type": "stream",
     "text": [
      "[]\n"
     ]
    }
   ],
   "source": [
    "print ind_tmp"
   ]
  },
  {
   "cell_type": "code",
   "execution_count": 26,
   "metadata": {},
   "outputs": [
    {
     "data": {
      "image/png": "[encoded data removed]",
      "text/plain": [
       "<matplotlib.figure.Figure at 0x114522a10>"
      ]
     },
     "metadata": {},
     "output_type": "display_data"
    }
   ],
   "source": [
    "#number of ligand by gen\n",
    "plt.rcParams['figure.figsize'] = (10.0, 8.0)\n",
    "totalNumberLigands = 0\n",
    "totalNPCount = 0\n",
    "currentGen = 0\n",
    "genNumberLigandsAverage= []\n",
    "for i in ind_tmp:\n",
    "    if i['gen'] != currentGen:      \n",
    "        genNumberLigandsAverage.append(((currentGen),(float(totalNumberLigands)/totalNPCount)))\n",
    "        currentGen = i['gen']\n",
    "        totalNumberLigands = len(i['phenome'].particle.ligands)        \n",
    "        totalNPCount = 1\n",
    "    else:\n",
    "        totalNumberLigands += len(i['phenome'].particle.ligands)\n",
    "        totalNPCount += 1\n",
    "    \n",
    "plt.plot([i[0] for i in genNumberLigandsAverage],[i[1] for i in genNumberLigandsAverage],'.',label='avg. num ligands per np')    \n",
    "plt.xlabel('generation number')\n",
    "plt.ylabel('average number of ligands')\n",
    "plt.title('average number of ligands per nanoparticle against generation number')\n",
    "plt.legend();"
   ]
  },
  {
   "cell_type": "code",
   "execution_count": 27,
   "metadata": {},
   "outputs": [
    {
     "data": {
      "image/png": "[encoded data removed]",
      "text/plain": [
       "<matplotlib.figure.Figure at 0x1148d7f90>"
      ]
     },
     "metadata": {},
     "output_type": "display_data"
    }
   ],
   "source": [
    "#number of ligand clusters by gen\n",
    "plt.rcParams['figure.figsize'] = (10.0, 8.0)\n",
    "totalNumberClusters = 0\n",
    "totalNPCount = 0\n",
    "currentGen = 0\n",
    "genNumberClustersAverage= []\n",
    "for i in ind_tmp:\n",
    "    if i['gen'] != currentGen:    \n",
    "        genNumberClustersAverage.append(((currentGen),(float(totalNumberClusters)/totalNPCount)))\n",
    "        currentGen = i['gen']\n",
    "        totalNumberClusters = float(len(i['ligand_clusters']))\n",
    "        totalNPCount = 1\n",
    "    else:\n",
    "        totalNumberClusters += float(len(i['ligand_clusters']))\n",
    "        totalNPCount += 1\n",
    "    \n",
    "plt.plot([i[0] for i in genNumberClustersAverage],[i[1] for i in genNumberClustersAverage],'.',label='cluster cutoff: {} (ligand interaction range)'.format(NNcutoff))    \n",
    "plt.xlabel('generation number')\n",
    "plt.ylabel('average number of ligand clusters')\n",
    "plt.title('average number of ligand clusters per nanoparticle against generation number')\n",
    "plt.legend();"
   ]
  },
  {
   "cell_type": "code",
   "execution_count": 29,
   "metadata": {},
   "outputs": [
    {
     "data": {
      "image/png": "[encoded data removed]",
      "text/plain": [
       "<matplotlib.figure.Figure at 0x119f6cb50>"
      ]
     },
     "metadata": {},
     "output_type": "display_data"
    }
   ],
   "source": [
    "#number of ligand clusters by gen\n",
    "plt.rcParams['figure.figsize'] = (10.0, 8.0)\n",
    "totalClusterLigandAvg = 0\n",
    "totalNPCount = 0\n",
    "currentGen = 0\n",
    "genNumberClusterLigandAvgAverage= []\n",
    "for i in ind_tmp:\n",
    "    if i['gen'] != currentGen:    \n",
    "        genNumberClusterLigandAvgAverage.append(((currentGen),(totalClusterLigandAvg/totalNPCount)))\n",
    "        currentGen = i['gen']\n",
    "        totalClusterLigandAvg = float(len(i['phenome'].particle.ligands))/float(len(i['ligand_clusters']))        \n",
    "        totalNPCount = 1\n",
    "    else:                \n",
    "        totalClusterLigandAvg += float(len(i['phenome'].particle.ligands))/float(len(i['ligand_clusters']))        \n",
    "        totalNPCount += 1\n",
    "    \n",
    "plt.plot([i[0] for i in genNumberClusterLigandAvgAverage],[i[1] for i in genNumberClusterLigandAvgAverage],'.',label='cluster cutoff: {} (ligand interaction range)'.format(NNcutoff))    \n",
    "plt.xlabel('generation number')\n",
    "plt.ylabel('average number of ligands in each cluster')\n",
    "plt.title('average number of ligands in each cluster per nanoparticle against generation number')\n",
    "plt.legend();"
   ]
  },
  {
   "cell_type": "code",
   "execution_count": 30,
   "metadata": {},
   "outputs": [
    {
     "data": {
      "image/png": "[encoded data removed]",
      "text/plain": [
       "<matplotlib.figure.Figure at 0x119caae90>"
      ]
     },
     "metadata": {},
     "output_type": "display_data"
    }
   ],
   "source": [
    "#avg distance to next ligand by gen\n",
    "plt.rcParams['figure.figsize'] = (10.0, 8.0)\n",
    "totalNeighLigandDistAvg = 0\n",
    "totalNPCount = 0\n",
    "currentGen = 0\n",
    "genNumberNeighLigandDistAverage= []\n",
    "for i in ind_tmp:\n",
    "    if i['gen'] != currentGen:            \n",
    "        genNumberNeighLigandDistAverage.append(((currentGen),(totalNeighLigandDistAvg/totalNPCount)))\n",
    "        currentGen = i['gen']\n",
    "        totalNeighLigandDistAvg = avgLigandDist(i['phenome'].particle.ligands)        \n",
    "        totalNPCount = 1\n",
    "    else:                        \n",
    "        totalNeighLigandDistAvg += avgLigandDist(i['phenome'].particle.ligands)        \n",
    "        totalNPCount += 1\n",
    "    \n",
    "plt.plot([i[0] for i in genNumberNeighLigandDistAverage],[i[1] for i in genNumberNeighLigandDistAverage],'.',label='avg. dist. to next nearest ligand')    \n",
    "plt.xlabel('generation number')\n",
    "plt.ylabel('average distance to next nearest ligand')\n",
    "plt.title('average distance to next nearest ligand per nanoparticle against generation number')\n",
    "plt.legend();"
   ]
  },
  {
   "cell_type": "code",
   "execution_count": null,
   "metadata": {},
   "outputs": [],
   "source": [
    "#avg distance to next ligand cluster by gen\n",
    "plt.rcParams['figure.figsize'] = (10.0, 8.0)\n",
    "totalNeighClustDistAvg = 0\n",
    "totalNPCount = 0\n",
    "currentGen = 0\n",
    "genNumberNeighClustDistAverage= []\n",
    "for i in ind_tmp:\n",
    "    if i['gen'] != currentGen:            \n",
    "        genNumberNeighClustDistAverage.append(((currentGen),(totalNeighClustDistAvg/totalNPCount)))\n",
    "        currentGen = i['gen']\n",
    "        totalNeighClustDistAvg = avgClusterDist(i['ligand_clusters'])                \n",
    "        totalNPCount = 1\n",
    "    else:                        \n",
    "        totalNeighClustDistAvg += avgClusterDist(i['ligand_clusters'])        \n",
    "        totalNPCount += 1\n",
    "    \n",
    "plt.plot([i[0] for i in genNumberNeighClustDistAverage],[i[1] for i in genNumberNeighClustDistAverage],'.',label='cluster cutoff: {} (ligand interaction range)'.format(NNcutoff))    \n",
    "plt.xlabel('generation number')\n",
    "plt.ylabel('average distance to next nearest cluster')\n",
    "plt.title('average distance to next nearest cluster per nanoparticle against generation number')\n",
    "plt.legend();"
   ]
  },
  {
   "cell_type": "code",
   "execution_count": null,
   "metadata": {},
   "outputs": [],
   "source": [
    "#avg total ligand affinity by gen\n",
    "plt.rcParams['figure.figsize'] = (10.0, 8.0)\n",
    "totalAffinity = 0.0\n",
    "totalNPCount = 0.0\n",
    "currentGen = 0.0\n",
    "genTotalAffinityAverage = []\n",
    "for i in ind_tmp:\n",
    "    if i['gen'] != currentGen:\n",
    "        genTotalAffinityAverage.append((currentGen, totalAffinity/totalNPCount))\n",
    "        currentGen = i['gen']\n",
    "        totalAffinity = totalEps(i['phenome'].particle.ligands)\n",
    "        totalNPCount = 1\n",
    "    else:\n",
    "        totalAffinity += totalEps(i['phenome'].particle.ligands)\n",
    "        totalNPCount += 1\n",
    "plt.plot([i[0] for i in genTotalAffinityAverage], [i[1] for i in genTotalAffinityAverage],'.',label='avg. total aff. of ligands per np')\n",
    "plt.xlabel('generation number')\n",
    "plt.ylabel('average total affinity of ligands')\n",
    "plt.title('average total affinity of ligands per nanoparticle against generation number')\n",
    "plt.legend();"
   ]
  },
  {
   "cell_type": "code",
   "execution_count": null,
   "metadata": {},
   "outputs": [],
   "source": [
    "#avg number of nearest neighbours by gen\n",
    "plt.rcParams['figure.figsize'] = (10.0, 8.0)\n",
    "totalAvgNumberNN = 0.0\n",
    "totalNPCount = 0.0\n",
    "currentGen = 0.0\n",
    "genTotalAvgNumberNNAverage = []\n",
    "for i in ind_tmp:\n",
    "    if i['gen'] != currentGen:\n",
    "        genTotalAvgNumberNNAverage.append((currentGen, totalAvgNumberNN/totalNPCount))\n",
    "        currentGen = i['gen']\n",
    "        totalAvgNumberNN = np.average(numNN(i['phenome'].particle.ligands, NNcutoff))    \n",
    "        totalNPCount = 1\n",
    "    else:\n",
    "        totalAvgNumberNN += np.average(numNN(i['phenome'].particle.ligands, NNcutoff))        \n",
    "        totalNPCount += 1\n",
    "plt.plot([i[0] for i in genTotalAvgNumberNNAverage], [i[1] for i in genTotalAvgNumberNNAverage],'.',label='avg. num. ligands within NN cutoff {}'.format(NNcutoff))\n",
    "plt.xlabel('generation number')\n",
    "plt.ylabel('average number of ligand neighbours')\n",
    "plt.title('average number of ligand neighbours per nanoparticle against generation number')\n",
    "plt.legend();"
   ]
  },
  {
   "cell_type": "code",
   "execution_count": null,
   "metadata": {},
   "outputs": [],
   "source": [
    "#avg number of ligands with 3 or more neighbours\n",
    "NNcount = 3\n",
    "plt.rcParams['figure.figsize'] = (10.0, 8.0)\n",
    "totalNumberLigands = 0.0\n",
    "totalNPCount = 0.0\n",
    "currentGen = 0.0\n",
    "genTotalNumberLigandsAverage = []\n",
    "for i in ind_tmp:\n",
    "    if i['gen'] != currentGen:\n",
    "        genTotalNumberLigandsAverage.append((currentGen, totalNumberLigands/totalNPCount))        \n",
    "        currentGen = i['gen']\n",
    "        totalNumberLigands = float(numMinNumNN(i['phenome'].particle.ligands, NNcutoff, NNcount))\n",
    "        totalNPCount = 1\n",
    "    else:\n",
    "        totalNumberLigands += float(numMinNumNN(i['phenome'].particle.ligands, NNcutoff, NNcount))\n",
    "        totalNPCount += 1\n",
    "plt.plot([i[0] for i in genTotalNumberLigandsAverage], [i[1] for i in genTotalNumberLigandsAverage],'.',label='avg. num. ligands with {} or more neighbours'.format(NNcount))\n",
    "plt.xlabel('generation number')\n",
    "plt.ylabel('average number of ligands with {} or more neighbours'.format(NNcount))\n",
    "plt.title('average number of ligands with {} or more neighbours per nanoparticle against generation number'.format(NNcount))\n",
    "plt.legend();"
   ]
  },
  {
   "cell_type": "code",
   "execution_count": null,
   "metadata": {},
   "outputs": [],
   "source": []
  },
  {
   "cell_type": "code",
   "execution_count": null,
   "metadata": {},
   "outputs": [],
   "source": []
  },
  {
   "cell_type": "code",
   "execution_count": null,
   "metadata": {},
   "outputs": [],
   "source": []
  },
  {
   "cell_type": "code",
   "execution_count": null,
   "metadata": {},
   "outputs": [],
   "source": []
  },
  {
   "cell_type": "code",
   "execution_count": null,
   "metadata": {},
   "outputs": [],
   "source": []
  },
  {
   "cell_type": "code",
   "execution_count": null,
   "metadata": {},
   "outputs": [],
   "source": []
  },
  {
   "cell_type": "markdown",
   "metadata": {},
   "source": [
    "## v. Fitness"
   ]
  },
  {
   "cell_type": "code",
   "execution_count": null,
   "metadata": {},
   "outputs": [],
   "source": [
    "#individuals sorted by fitness\n",
    "ind_tmp = copy.deepcopy(data['individuals'])\n",
    "ind_tmp.sort(key=lambda x:x['fitness'])"
   ]
  },
  {
   "cell_type": "code",
   "execution_count": null,
   "metadata": {},
   "outputs": [],
   "source": [
    "#number of ligand by fitness\n",
    "plt.rcParams['figure.figsize'] = (10.0, 8.0)\n",
    "totalNumberLigands = 0\n",
    "totalNPCount = 0\n",
    "currentFitness = ind_tmp[0]['fitness']\n",
    "fitnessNumberLigandsAverage= []\n",
    "for i in ind_tmp:\n",
    "    if np.abs(i['fitness'] - currentFitness) > 5.0:                      \n",
    "        fitnessNumberLigandsAverage.append(((currentFitness),(float(totalNumberLigands)/totalNPCount)))\n",
    "        currentFitness = i['fitness']\n",
    "        totalNumberLigands = len(i['phenome'].particle.ligands)        \n",
    "        totalNPCount = 1\n",
    "    else:\n",
    "        totalNumberLigands += len(i['phenome'].particle.ligands)\n",
    "        totalNPCount += 1\n",
    "    \n",
    "plt.plot([i[0] for i in fitnessNumberLigandsAverage],[i[1] for i in fitnessNumberLigandsAverage],'.',label='avg. num ligands per np')    \n",
    "plt.xlabel('fitness')\n",
    "plt.ylabel('average number of ligands (within +- 5 fitness)')\n",
    "plt.title('average number of ligands per nanoparticle against fitness (within +- 5 fitness)')\n",
    "plt.legend();"
   ]
  },
  {
   "cell_type": "code",
   "execution_count": null,
   "metadata": {},
   "outputs": [],
   "source": [
    "#number of ligand clusters by fitness\n",
    "plt.rcParams['figure.figsize'] = (10.0, 8.0)\n",
    "totalNumberClusters = 0\n",
    "totalNPCount = 0\n",
    "currentFitness = ind_tmp[0]['fitness']\n",
    "fitnessNumberClustersAverage= []\n",
    "for i in ind_tmp:\n",
    "    if np.abs(i['fitness'] - currentFitness) > 5.0:    \n",
    "        fitnessNumberClustersAverage.append(((currentFitness),(float(totalNumberClusters)/totalNPCount)))\n",
    "        currentFitness = i['fitness']\n",
    "        totalNumberClusters = len(i['ligand_clusters'])\n",
    "        totalNPCount = 1\n",
    "    else:\n",
    "        totalNumberClusters += len(i['ligand_clusters'])\n",
    "        totalNPCount += 1\n",
    "    \n",
    "plt.plot([i[0] for i in fitnessNumberClustersAverage],[i[1] for i in fitnessNumberClustersAverage],'.',label='cluster cutoff: {} (ligand interaction range)'.format(NNcutoff))    \n",
    "plt.xlabel('fitness')\n",
    "plt.ylabel('average number of ligand clusters (within +- 5 fitness)')\n",
    "plt.title('average number of ligand clusters per nanoparticle against fitness (within +- 5 fitness)')\n",
    "plt.legend();"
   ]
  },
  {
   "cell_type": "code",
   "execution_count": null,
   "metadata": {},
   "outputs": [],
   "source": [
    "#number of ligand clusters by fitness\n",
    "plt.rcParams['figure.figsize'] = (10.0, 8.0)\n",
    "totalClusterLigandAvg = 0\n",
    "totalNPCount = 0\n",
    "currentFitness = ind_tmp[0]['fitness']\n",
    "fitnessNumberClusterLigandAvgAverage= []\n",
    "for i in ind_tmp:\n",
    "    if np.abs(i['fitness'] - currentFitness) > 5.0:    \n",
    "        fitnessNumberClusterLigandAvgAverage.append(((currentFitness),(totalClusterLigandAvg/totalNPCount)))\n",
    "        currentFitness = i['fitness']\n",
    "        totalClusterLigandAvg = float(len(i['phenome'].particle.ligands))/float(len(i['ligand_clusters']))        \n",
    "        totalNPCount = 1\n",
    "    else:                \n",
    "        totalClusterLigandAvg += float(len(i['phenome'].particle.ligands))/float(len(i['ligand_clusters']))        \n",
    "        totalNPCount += 1\n",
    "    \n",
    "plt.plot([i[0] for i in fitnessNumberClusterLigandAvgAverage],[i[1] for i in fitnessNumberClusterLigandAvgAverage],'.',label='cluster cutoff: {} (ligand interaction range)'.format(NNcutoff))    \n",
    "plt.xlabel('fitness')\n",
    "plt.ylabel('average number of ligands in each cluster (within +- 5 fitness)')\n",
    "plt.title('average number of ligands in each cluster per nanoparticle against fitness (within +- 5 fitness)')\n",
    "plt.legend();"
   ]
  },
  {
   "cell_type": "code",
   "execution_count": null,
   "metadata": {},
   "outputs": [],
   "source": [
    "#avg distance to next ligand\n",
    "plt.rcParams['figure.figsize'] = (10.0, 8.0)\n",
    "totalNeighLigandDistAvg = 0\n",
    "totalNPCount = 0\n",
    "currentFitness = ind_tmp[0]['fitness']\n",
    "fitnessNumberNeighLigandDistAverage= []\n",
    "for i in ind_tmp:\n",
    "    if np.abs(i['fitness'] - currentFitness) > 5.0:            \n",
    "        fitnessNumberNeighLigandDistAverage.append(((currentFitness),(totalNeighLigandDistAvg/totalNPCount)))\n",
    "        currentFitness = i['fitness']\n",
    "        totalNeighLigandDistAvg = avgLigandDist(i['phenome'].particle.ligands)        \n",
    "        totalNPCount = 1\n",
    "    else:                        \n",
    "        totalNeighLigandDistAvg += avgLigandDist(i['phenome'].particle.ligands)        \n",
    "        totalNPCount += 1\n",
    "    \n",
    "plt.plot([i[0] for i in fitnessNumberNeighLigandDistAverage],[i[1] for i in fitnessNumberNeighLigandDistAverage],'.',label='avg. dist. to next nearest ligand')    \n",
    "plt.xlabel('fitness')\n",
    "plt.ylabel('average distance to next nearest ligand (within +- 5 fitness)')\n",
    "plt.title('average distance to next nearest ligand per nanoparticle against fitness (within +- 5 fitness)')\n",
    "plt.legend();"
   ]
  },
  {
   "cell_type": "code",
   "execution_count": null,
   "metadata": {},
   "outputs": [],
   "source": [
    "#avg distance to next ligand cluster\n",
    "plt.rcParams['figure.figsize'] = (10.0, 8.0)\n",
    "totalNeighClustDistAvg = 0\n",
    "totalNPCount = 0\n",
    "currentFitness = ind_tmp[0]['fitness']\n",
    "fitnessNumberNeighClustDistAverage= []\n",
    "for i in ind_tmp:\n",
    "    if np.abs(i['fitness'] - currentFitness) > 5.0:            \n",
    "        fitnessNumberNeighClustDistAverage.append(((currentFitness),(totalNeighClustDistAvg/totalNPCount)))\n",
    "        currentFitness = i['fitness']\n",
    "        totalNeighClustDistAvg = avgClusterDist(i['ligand_clusters'])                \n",
    "        totalNPCount = 1\n",
    "    else:                        \n",
    "        totalNeighClustDistAvg += avgClusterDist(i['ligand_clusters'])        \n",
    "        totalNPCount += 1\n",
    "    \n",
    "plt.plot([i[0] for i in fitnessNumberNeighClustDistAverage],[i[1] for i in fitnessNumberNeighClustDistAverage],'.',label='cluster cutoff: {} (ligand interaction range)'.format(NNcutoff))    \n",
    "plt.xlabel('fitness')\n",
    "plt.ylabel('average distance to next nearest cluster (within +- 5 fitness)')\n",
    "plt.title('average distance to next nearest cluster per nanoparticle against fitness (within +- 5 fitness)')\n",
    "plt.legend();"
   ]
  },
  {
   "cell_type": "code",
   "execution_count": null,
   "metadata": {},
   "outputs": [],
   "source": [
    "#avg total ligand affinity by fitness\n",
    "plt.rcParams['figure.figsize'] = (10.0, 8.0)\n",
    "totalAffinity = 0.0\n",
    "totalNPCount = 0.0\n",
    "currentFitness = ind_tmp[0]['fitness']\n",
    "fitnessTotalAffinityAverage = []\n",
    "for i in ind_tmp:\n",
    "    if np.abs(i['fitness'] - currentFitness) > 5.0:\n",
    "        fitnessTotalAffinityAverage.append((currentFitness, totalAffinity/totalNPCount))\n",
    "        currentFitness = i['fitness']\n",
    "        totalAffinity = totalEps(i['phenome'].particle.ligands)\n",
    "        totalNPCount = 1\n",
    "    else:\n",
    "        totalAffinity += totalEps(i['phenome'].particle.ligands)\n",
    "        totalNPCount += 1\n",
    "plt.plot([i[0] for i in fitnessTotalAffinityAverage], [i[1] for i in fitnessTotalAffinityAverage],'.',label='avg. total aff. of ligands per np')\n",
    "plt.xlabel('fitness')\n",
    "plt.ylabel('average total affinity of ligands (within +- 5 fitness)')\n",
    "plt.title('average total affinity of ligands per nanoparticle against fitness (within +- 5 fitness)')\n",
    "plt.legend();"
   ]
  },
  {
   "cell_type": "code",
   "execution_count": null,
   "metadata": {},
   "outputs": [],
   "source": [
    "#avg number of nearest neighbours by fitness\n",
    "plt.rcParams['figure.figsize'] = (10.0, 8.0)\n",
    "totalAvgNumberNN = 0.0\n",
    "totalNPCount = 0.0\n",
    "currentFitness = ind_tmp[0]['fitness']\n",
    "fitnessTotalAvgNumberNNAverage = []\n",
    "for i in ind_tmp:\n",
    "    if np.abs(i['fitness'] - currentFitness) > 5.0:\n",
    "        fitnessTotalAvgNumberNNAverage.append((currentFitness, totalAvgNumberNN/totalNPCount))\n",
    "        currentFitness = i['fitness']\n",
    "        totalAvgNumberNN = np.average(numNN(i['phenome'].particle.ligands, NNcutoff))    \n",
    "        totalNPCount = 1\n",
    "    else:\n",
    "        totalAvgNumberNN += np.average(numNN(i['phenome'].particle.ligands, NNcutoff))        \n",
    "        totalNPCount += 1\n",
    "plt.plot([i[0] for i in fitnessTotalAvgNumberNNAverage], [i[1] for i in fitnessTotalAvgNumberNNAverage],'.',label='avg. num. ligands within NN cutoff {}'.format(NNcutoff))\n",
    "plt.xlabel('fitness')\n",
    "plt.ylabel('average number of ligand neighbours (within +- 5 fitness)')\n",
    "plt.title('average number of ligand neighbours per nanoparticle against fitness (within +- 5 fitness)')\n",
    "plt.legend();"
   ]
  },
  {
   "cell_type": "code",
   "execution_count": null,
   "metadata": {},
   "outputs": [],
   "source": [
    "#avg number of ligands with 3 or more neighbours\n",
    "NNcount = 3\n",
    "plt.rcParams['figure.figsize'] = (10.0, 8.0)\n",
    "totalNumberLigands = 0.0\n",
    "totalNPCount = 0.0\n",
    "currentFitness = ind_tmp[0]['fitness']\n",
    "fitnessTotalNumberLigandsAverage = []\n",
    "for i in ind_tmp:\n",
    "    if np.abs(i['fitness'] - currentFitness) > 5.0:\n",
    "        fitnessTotalNumberLigandsAverage.append((currentFitness, totalNumberLigands/totalNPCount))        \n",
    "        currentFitness = i['fitness']\n",
    "        totalNumberLigands = float(numMinNumNN(i['phenome'].particle.ligands, NNcutoff, NNcount))\n",
    "        totalNPCount = 1\n",
    "    else:\n",
    "        totalNumberLigands += float(numMinNumNN(i['phenome'].particle.ligands, NNcutoff, NNcount))\n",
    "        totalNPCount += 1\n",
    "plt.plot([i[0] for i in fitnessTotalNumberLigandsAverage], [i[1] for i in fitnessTotalNumberLigandsAverage],'.',label='avg. num. ligands with {} or more neighbours'.format(NNcount))\n",
    "plt.xlabel('fitness')\n",
    "plt.ylabel('average number of ligands with {} or more neighbours (within +- 5 fitness)'.format(NNcount))\n",
    "plt.title('average number of ligands with {} or more neighbours per nanoparticle against fitness (within +- 5 fitness)'.format(NNcount))\n",
    "plt.legend();"
   ]
  },
  {
   "cell_type": "code",
   "execution_count": null,
   "metadata": {},
   "outputs": [],
   "source": []
  },
  {
   "cell_type": "code",
   "execution_count": null,
   "metadata": {},
   "outputs": [],
   "source": []
  },
  {
   "cell_type": "code",
   "execution_count": null,
   "metadata": {},
   "outputs": [],
   "source": []
  },
  {
   "cell_type": "code",
   "execution_count": null,
   "metadata": {},
   "outputs": [],
   "source": []
  },
  {
   "cell_type": "code",
   "execution_count": null,
   "metadata": {},
   "outputs": [],
   "source": []
  },
  {
   "cell_type": "markdown",
   "metadata": {},
   "source": []
  },
  {
   "cell_type": "markdown",
   "metadata": {},
   "source": [
    "# Ligand Networks"
   ]
  },
  {
   "cell_type": "code",
   "execution_count": 1,
   "metadata": {},
   "outputs": [
    {
     "name": "stdout",
     "output_type": "stream",
     "text": [
      "WARNING: param.Version now supports PEP440 and a new tag based workflow. See param/version.py for more details\n"
     ]
    }
   ],
   "source": [
    "import pandas as pd\n",
    "import holoviews as hv"
   ]
  },
  {
   "cell_type": "code",
   "execution_count": 118,
   "metadata": {},
   "outputs": [
    {
     "data": {
      "text/html": [
       "<div style='display: table; margin: 0 auto;'>\n",
       "\n",
       "<div class=\"bk-root\">\n",
       "    <div class=\"bk-plotdiv\" id=\"e7293446-8e03-4560-a533-9fd62afd0d90\"></div>\n",
       "</div>\n",
       "<script type=\"text/javascript\">\n",
       "  (function(root) {\n",
       "  function embed_document(root) {\n",
       "    \n",
       "  var docs_json = {\"4eabc16c-1ed0-46b1-923b-84f28f51e9b1\":{\"roots\":{\"references\":[{\"attributes\":{},\"id\":\"f92adc6a-5fb7-482a-bfe3-259600fff06f\",\"type\":\"ResetTool\"},{\"attributes\":{\"active_drag\":\"auto\",\"active_inspect\":\"auto\",\"active_scroll\":\"auto\",\"active_tap\":\"auto\",\"tools\":[{\"id\":\"b5bf71bc-d896-4747-ba01-6588fe916135\",\"type\":\"HoverTool\"},{\"id\":\"ecd9c461-c964-4610-8314-d3634ad8d228\",\"type\":\"SaveTool\"},{\"id\":\"8cfb380f-4d01-45f9-9f74-9543b9efd876\",\"type\":\"PanTool\"},{\"id\":\"a1122211-0e95-4b6b-9d45-efe50f17995a\",\"type\":\"WheelZoomTool\"},{\"id\":\"27f5e3e5-a94b-4212-aed8-d848e9ac4ca8\",\"type\":\"BoxZoomTool\"},{\"id\":\"f92adc6a-5fb7-482a-bfe3-259600fff06f\",\"type\":\"ResetTool\"},{\"id\":\"a093ca1d-2854-41a5-b562-093c2b878c84\",\"type\":\"TapTool\"}]},\"id\":\"c5c9a3ca-be66-477f-9bc2-97a4f89a9d33\",\"type\":\"Toolbar\"},{\"attributes\":{},\"id\":\"affb04a7-c498-4bd8-ba5b-65ec6b86eab5\",\"type\":\"LinearScale\"},{\"attributes\":{},\"id\":\"601bf9cd-0a59-43a7-b806-0b32ed588b01\",\"type\":\"BasicTicker\"},{\"attributes\":{\"plot\":null,\"text\":\"\",\"text_color\":{\"value\":\"black\"},\"text_font_size\":{\"value\":\"12pt\"}},\"id\":\"8b911cfa-c8ea-4756-8674-51630a41198f\",\"type\":\"Title\"},{\"attributes\":{},\"id\":\"ee48f449-2142-4f0f-81d2-4d93f1eb583a\",\"type\":\"BasicTicker\"},{\"attributes\":{\"callback\":null,\"end\":1.2,\"start\":-1.2},\"id\":\"10c580f4-7830-474e-9fe6-58ccc8aa76ba\",\"type\":\"Range1d\"},{\"attributes\":{\"callback\":null,\"renderers\":[{\"id\":\"8c79cf7e-ee13-4b2e-aa7e-75386ee587a3\",\"type\":\"GraphRenderer\"}],\"tooltips\":[[\"index\",\"@{index_hover}\"]]},\"id\":\"b5bf71bc-d896-4747-ba01-6588fe916135\",\"type\":\"HoverTool\"},{\"attributes\":{\"line_alpha\":{\"value\":0.2},\"line_width\":{\"value\":2}},\"id\":\"ece45014-34ec-450c-8edc-696f6906630c\",\"type\":\"MultiLine\"},{\"attributes\":{\"line_color\":{\"value\":\"limegreen\"},\"line_width\":{\"value\":2}},\"id\":\"ffe52c70-7455-4197-a279-7ad8c62c63f1\",\"type\":\"MultiLine\"},{\"attributes\":{\"callback\":null,\"end\":1.2,\"start\":-1.2},\"id\":\"2aff7317-1e2b-4aa8-8237-2d7b9bdc84e7\",\"type\":\"Range1d\"},{\"attributes\":{\"axis_label\":\"y\",\"bounds\":\"auto\",\"formatter\":{\"id\":\"85f5476e-bae6-47c4-9a5c-f856d6f75360\",\"type\":\"BasicTickFormatter\"},\"major_label_orientation\":\"horizontal\",\"plot\":{\"id\":\"2f2a2958-2022-4b64-b42c-243814b593b7\",\"subtype\":\"Figure\",\"type\":\"Plot\"},\"ticker\":{\"id\":\"ee48f449-2142-4f0f-81d2-4d93f1eb583a\",\"type\":\"BasicTicker\"}},\"id\":\"9fa4e691-0ce9-402f-bac2-f926ea2192f5\",\"type\":\"LinearAxis\"},{\"attributes\":{\"source\":{\"id\":\"d5c1851b-9edb-4f9b-9cac-bd8dc3ec3809\",\"type\":\"ColumnDataSource\"}},\"id\":\"db2e23bc-48e0-4168-a80f-315314eac3a3\",\"type\":\"CDSView\"},{\"attributes\":{},\"id\":\"a480d2ec-4317-4c10-b024-74b533573de3\",\"type\":\"NodesAndLinkedEdges\"},{\"attributes\":{\"callback\":null,\"column_names\":[\"index_hover\",\"index\"],\"data\":{\"index\":{\"__ndarray__\":\"AQAAAAIAAAADAAAABAAAAAgAAAAKAAAADAAAAA0AAAAOAAAADwAAABAAAAARAAAAFAAAABUAAAAWAAAAFwAAABoAAAAeAAAAIAAAACEAAAAiAAAAJgAAACcAAAAqAAAAKwAAACwAAAAtAAAAMAAAADMAAAA0AAAANQAAADcAAAA4AAAAOgAAADsAAAA8AAAAPgAAAD8AAABAAAAAQQAAAEUAAABGAAAARwAAAA==\",\"dtype\":\"int32\",\"shape\":[43]},\"index_hover\":[\"1\",\"2\",\"3\",\"4\",\"8\",\"10\",\"12\",\"13\",\"14\",\"15\",\"16\",\"17\",\"20\",\"21\",\"22\",\"23\",\"26\",\"30\",\"32\",\"33\",\"34\",\"38\",\"39\",\"42\",\"43\",\"44\",\"45\",\"48\",\"51\",\"52\",\"53\",\"55\",\"56\",\"58\",\"59\",\"60\",\"62\",\"63\",\"64\",\"65\",\"69\",\"70\",\"71\"]},\"selected\":null,\"selection_policy\":null},\"id\":\"83f62798-7120-4dcb-9493-b492c2d08507\",\"type\":\"ColumnDataSource\"},{\"attributes\":{\"graph_layout\":{\"1\":[-0.24603648554515348,0.873654323781345],\"10\":[0.2888826409046363,-0.8835686701529746],\"12\":[0.9478844135455131,-0.3319810650562588],\"13\":[0.3488967063154255,-0.2261887945155404],\"14\":[0.15242188919462962,0.24036909882781995],\"15\":[-0.6203950164007246,-0.10216159484711283],\"16\":[-0.3720408890330344,0.09877850920533437],\"17\":[0.04679394063150211,0.9654320129394577],\"2\":[-0.3876591777601708,0.9722115378161598],\"20\":[0.6830454352142891,0.14582193432661558],\"21\":[-0.2664906577601032,-0.8769522150935195],\"22\":[-0.15607291753707883,0.9576910900871213],\"23\":[-0.8600773902233525,0.6040959136899551],\"26\":[-0.6197871055870536,0.706306727609991],\"3\":[-0.1749946595491869,0.3363156332988493],\"30\":[-0.058649091895843934,-0.3361855906478057],\"32\":[-1.0,0.26516550633644187],\"33\":[-0.3110427999951783,-0.20605481297188627],\"34\":[0.6390761959002772,-0.8490795692092562],\"38\":[-0.07869476095348538,0.5638756454952633],\"39\":[0.7477535789158147,0.4007966934255579],\"4\":[-0.7668917564665105,0.21053307517916328],\"42\":[-0.6824644848791562,-0.6039982828302989],\"43\":[0.8178842335732169,-0.6555008692766549],\"44\":[-0.8925587760532158,-0.16966154144981893],\"45\":[0.27080255659177477,-0.718725661376977],\"48\":[0.7168444363082769,-0.505478742054185],\"51\":[0.29802131955043354,0.514757526212805],\"52\":[-0.06128351956370282,-0.8641882124255401],\"53\":[0.8404651648855286,-0.2808774307424322],\"55\":[0.0963464029523783,0.5784545435371231],\"56\":[-0.019095876533598375,-0.6590103028549718],\"58\":[-0.34360501208354033,0.5761627094173347],\"59\":[0.5958558119325154,-0.17908599941530742],\"60\":[-0.42384021966915963,-0.7134406934699901],\"62\":[0.35993739112651335,0.7533944060734963],\"63\":[0.49938426178980594,-0.6046246650485374],\"64\":[0.19593759367189204,0.9749127378006289],\"65\":[-0.6161552134825438,-0.40092207927847207],\"69\":[0.5079985654130754,-0.9199304533172944],\"70\":[-0.6013436111154203,0.8528081687752338],\"71\":[0.09752613420896304,-0.08451977150588155],\"8\":[0.4074207494607457,-0.4194007762949806]}},\"id\":\"709275d6-675a-4382-b19b-45a2c8c26107\",\"type\":\"StaticLayoutProvider\"},{\"attributes\":{},\"id\":\"8cfb380f-4d01-45f9-9f74-9543b9efd876\",\"type\":\"PanTool\"},{\"attributes\":{\"data_source\":{\"id\":\"d5c1851b-9edb-4f9b-9cac-bd8dc3ec3809\",\"type\":\"ColumnDataSource\"},\"glyph\":{\"id\":\"d53ea823-f00f-44d0-b1b3-0394e8a13dc8\",\"type\":\"MultiLine\"},\"hover_glyph\":{\"id\":\"ffe52c70-7455-4197-a279-7ad8c62c63f1\",\"type\":\"MultiLine\"},\"muted_glyph\":null,\"nonselection_glyph\":{\"id\":\"ece45014-34ec-450c-8edc-696f6906630c\",\"type\":\"MultiLine\"},\"selection_glyph\":null,\"view\":{\"id\":\"db2e23bc-48e0-4168-a80f-315314eac3a3\",\"type\":\"CDSView\"}},\"id\":\"f9f92bf5-4504-4702-b695-a10de37bb280\",\"type\":\"GlyphRenderer\"},{\"attributes\":{\"overlay\":{\"id\":\"c215ed88-b98e-49f5-bbba-eab1be87a8a2\",\"type\":\"BoxAnnotation\"}},\"id\":\"27f5e3e5-a94b-4212-aed8-d848e9ac4ca8\",\"type\":\"BoxZoomTool\"},{\"attributes\":{\"source\":{\"id\":\"83f62798-7120-4dcb-9493-b492c2d08507\",\"type\":\"ColumnDataSource\"}},\"id\":\"6f30f8f3-b7df-476b-9af5-86c877226068\",\"type\":\"CDSView\"},{\"attributes\":{\"line_width\":{\"value\":2}},\"id\":\"d53ea823-f00f-44d0-b1b3-0394e8a13dc8\",\"type\":\"MultiLine\"},{\"attributes\":{\"callback\":null},\"id\":\"a093ca1d-2854-41a5-b562-093c2b878c84\",\"type\":\"TapTool\"},{\"attributes\":{\"grid_line_color\":{\"value\":null},\"plot\":{\"id\":\"2f2a2958-2022-4b64-b42c-243814b593b7\",\"subtype\":\"Figure\",\"type\":\"Plot\"},\"ticker\":{\"id\":\"601bf9cd-0a59-43a7-b806-0b32ed588b01\",\"type\":\"BasicTicker\"}},\"id\":\"4743a901-9d2e-4d5c-af86-27da5d48ceb3\",\"type\":\"Grid\"},{\"attributes\":{},\"id\":\"a1122211-0e95-4b6b-9d45-efe50f17995a\",\"type\":\"WheelZoomTool\"},{\"attributes\":{},\"id\":\"f72194dd-aa98-4181-b58b-eec4c7cf3307\",\"type\":\"BasicTickFormatter\"},{\"attributes\":{\"bottom_units\":\"screen\",\"fill_alpha\":{\"value\":0.5},\"fill_color\":{\"value\":\"lightgrey\"},\"left_units\":\"screen\",\"level\":\"overlay\",\"line_alpha\":{\"value\":1.0},\"line_color\":{\"value\":\"black\"},\"line_dash\":[4,4],\"line_width\":{\"value\":2},\"plot\":null,\"render_mode\":\"css\",\"right_units\":\"screen\",\"top_units\":\"screen\"},\"id\":\"c215ed88-b98e-49f5-bbba-eab1be87a8a2\",\"type\":\"BoxAnnotation\"},{\"attributes\":{\"fill_color\":{\"value\":\"#30a2da\"},\"size\":{\"units\":\"screen\",\"value\":15}},\"id\":\"10bdc601-14e0-40b7-a488-50635569f774\",\"type\":\"Circle\"},{\"attributes\":{\"fill_color\":{\"value\":\"limegreen\"},\"size\":{\"units\":\"screen\",\"value\":15}},\"id\":\"d489adbe-3ae4-4c2c-a43a-2b553019ad31\",\"type\":\"Circle\"},{\"attributes\":{\"below\":[{\"id\":\"4673ec04-ea5b-44f6-a9fd-3ef1df5c3baa\",\"type\":\"LinearAxis\"}],\"left\":[{\"id\":\"9fa4e691-0ce9-402f-bac2-f926ea2192f5\",\"type\":\"LinearAxis\"}],\"min_border_bottom\":10,\"min_border_left\":10,\"min_border_right\":10,\"min_border_top\":10,\"plot_height\":300,\"plot_width\":300,\"renderers\":[{\"id\":\"4673ec04-ea5b-44f6-a9fd-3ef1df5c3baa\",\"type\":\"LinearAxis\"},{\"id\":\"4743a901-9d2e-4d5c-af86-27da5d48ceb3\",\"type\":\"Grid\"},{\"id\":\"9fa4e691-0ce9-402f-bac2-f926ea2192f5\",\"type\":\"LinearAxis\"},{\"id\":\"fd59789e-d172-4f94-878b-a2e6c852e88e\",\"type\":\"Grid\"},{\"id\":\"c215ed88-b98e-49f5-bbba-eab1be87a8a2\",\"type\":\"BoxAnnotation\"},{\"id\":\"8c79cf7e-ee13-4b2e-aa7e-75386ee587a3\",\"type\":\"GraphRenderer\"}],\"title\":{\"id\":\"8b911cfa-c8ea-4756-8674-51630a41198f\",\"type\":\"Title\"},\"toolbar\":{\"id\":\"c5c9a3ca-be66-477f-9bc2-97a4f89a9d33\",\"type\":\"Toolbar\"},\"x_range\":{\"id\":\"2aff7317-1e2b-4aa8-8237-2d7b9bdc84e7\",\"type\":\"Range1d\"},\"x_scale\":{\"id\":\"a56c095a-1026-43e1-a22c-3e7a26682910\",\"type\":\"LinearScale\"},\"y_range\":{\"id\":\"10c580f4-7830-474e-9fe6-58ccc8aa76ba\",\"type\":\"Range1d\"},\"y_scale\":{\"id\":\"affb04a7-c498-4bd8-ba5b-65ec6b86eab5\",\"type\":\"LinearScale\"}},\"id\":\"2f2a2958-2022-4b64-b42c-243814b593b7\",\"subtype\":\"Figure\",\"type\":\"Plot\"},{\"attributes\":{},\"id\":\"85f5476e-bae6-47c4-9a5c-f856d6f75360\",\"type\":\"BasicTickFormatter\"},{\"attributes\":{},\"id\":\"a56c095a-1026-43e1-a22c-3e7a26682910\",\"type\":\"LinearScale\"},{\"attributes\":{},\"id\":\"ecd9c461-c964-4610-8314-d3634ad8d228\",\"type\":\"SaveTool\"},{\"attributes\":{\"data_source\":{\"id\":\"83f62798-7120-4dcb-9493-b492c2d08507\",\"type\":\"ColumnDataSource\"},\"glyph\":{\"id\":\"10bdc601-14e0-40b7-a488-50635569f774\",\"type\":\"Circle\"},\"hover_glyph\":{\"id\":\"d489adbe-3ae4-4c2c-a43a-2b553019ad31\",\"type\":\"Circle\"},\"muted_glyph\":null,\"nonselection_glyph\":{\"id\":\"f6f5a16c-8552-4176-8dd0-aa9674c96c15\",\"type\":\"Circle\"},\"selection_glyph\":null,\"view\":{\"id\":\"6f30f8f3-b7df-476b-9af5-86c877226068\",\"type\":\"CDSView\"}},\"id\":\"82e346c4-61f1-49e9-af95-beaa563fdd08\",\"type\":\"GlyphRenderer\"},{\"attributes\":{\"axis_label\":\"x\",\"bounds\":\"auto\",\"formatter\":{\"id\":\"f72194dd-aa98-4181-b58b-eec4c7cf3307\",\"type\":\"BasicTickFormatter\"},\"major_label_orientation\":\"horizontal\",\"plot\":{\"id\":\"2f2a2958-2022-4b64-b42c-243814b593b7\",\"subtype\":\"Figure\",\"type\":\"Plot\"},\"ticker\":{\"id\":\"601bf9cd-0a59-43a7-b806-0b32ed588b01\",\"type\":\"BasicTicker\"}},\"id\":\"4673ec04-ea5b-44f6-a9fd-3ef1df5c3baa\",\"type\":\"LinearAxis\"},{\"attributes\":{\"callback\":null,\"column_names\":[\"start\",\"end\"],\"data\":{\"end\":{\"__ndarray__\":\"AgAAABAAAAARAAAAFAAAABYAAAAXAAAAGgAAACYAAAA3AAAAOgAAAD4AAABAAAAARgAAAAMAAAAEAAAAEQAAABYAAAAXAAAAGgAAACAAAAAmAAAAMwAAADcAAAA6AAAAPgAAAEAAAABGAAAABAAAAA0AAAAOAAAADwAAABEAAAAWAAAAHgAAACEAAAAzAAAANwAAADoAAABAAAAAQQAAAEcAAAAPAAAAFgAAABcAAAAaAAAAIAAAACEAAAAqAAAALAAAADoAAAA8AAAAQQAAAEYAAAAKAAAADAAAABAAAAAUAAAAFQAAACIAAAAmAAAAKwAAADUAAABFAAAADAAAAA0AAAAVAAAAHgAAACIAAAAqAAAAKwAAAC0AAAAwAAAANAAAADUAAAA4AAAAOwAAADwAAAA/AAAARQAAAA0AAAAUAAAAIgAAACcAAAArAAAALQAAADAAAAA1AAAAOwAAAD4AAAA/AAAARQAAAA4AAAAeAAAAIQAAACIAAAAnAAAALQAAADAAAAAzAAAANAAAADcAAAA4AAAAOwAAAD8AAABHAAAADwAAABYAAAAeAAAAIQAAACcAAAAzAAAANwAAADoAAAA7AAAAPwAAAEAAAABHAAAAFwAAAB4AAAAgAAAAIQAAACoAAAAsAAAAOAAAADoAAAA8AAAAQQAAAEcAAAAVAAAAFwAAABoAAAAgAAAAJgAAACsAAAAsAAAARgAAABQAAAAWAAAAGgAAACYAAAAnAAAAMwAAADcAAAA6AAAAPgAAAEAAAABGAAAAJgAAACcAAAArAAAAMAAAADUAAAA+AAAARQAAAB4AAAAiAAAAKgAAACwAAAAtAAAANAAAADgAAAA8AAAAQQAAAEUAAAAXAAAAGgAAADMAAAA3AAAAOgAAAD4AAABAAAAARgAAABoAAAAgAAAAJgAAACwAAAA6AAAARgAAACAAAAAmAAAALAAAAD4AAABGAAAAIQAAACoAAAAtAAAAMwAAADQAAAA3AAAAOAAAADsAAAA8AAAAPwAAAEEAAABHAAAAKgAAACwAAAA6AAAAQQAAAEYAAAAqAAAALQAAADQAAAA3AAAAOAAAADoAAAA8AAAAQQAAAEcAAAArAAAALQAAADAAAAA0AAAANQAAADgAAAA7AAAAPwAAAEUAAAA1AAAAPgAAAEYAAAAwAAAAMwAAADUAAAA3AAAAOwAAAD4AAABAAAAALAAAADQAAAA4AAAAPAAAAEEAAAAtAAAAMAAAADUAAAA/AAAARQAAADQAAAA8AAAAQQAAAEYAAAAwAAAANAAAADgAAAA7AAAAPAAAAD8AAABFAAAARwAAADQAAAA1AAAAOAAAADsAAAA/AAAARQAAAEcAAAA3AAAAOgAAADsAAAA+AAAAQAAAAEcAAAA4AAAAPAAAAD8AAABBAAAARQAAADsAAAA/AAAARQAAADoAAAA+AAAAQAAAAEcAAAA7AAAAPAAAAD8AAABBAAAARQAAAEcAAABAAAAARgAAAEcAAAA+AAAAPwAAAEcAAABBAAAARQAAAEAAAABGAAAARQAAAEcAAABGAAAARwAAAA==\",\"dtype\":\"int32\",\"shape\":[295]},\"start\":{\"__ndarray__\":\"AQAAAAEAAAABAAAAAQAAAAEAAAABAAAAAQAAAAEAAAABAAAAAQAAAAEAAAABAAAAAQAAAAIAAAACAAAAAgAAAAIAAAACAAAAAgAAAAIAAAACAAAAAgAAAAIAAAACAAAAAgAAAAIAAAACAAAAAwAAAAMAAAADAAAAAwAAAAMAAAADAAAAAwAAAAMAAAADAAAAAwAAAAMAAAADAAAAAwAAAAMAAAAEAAAABAAAAAQAAAAEAAAABAAAAAQAAAAEAAAABAAAAAQAAAAEAAAABAAAAAQAAAAIAAAACAAAAAgAAAAIAAAACAAAAAgAAAAIAAAACAAAAAgAAAAIAAAACgAAAAoAAAAKAAAACgAAAAoAAAAKAAAACgAAAAoAAAAKAAAACgAAAAoAAAAKAAAACgAAAAoAAAAKAAAACgAAAAwAAAAMAAAADAAAAAwAAAAMAAAADAAAAAwAAAAMAAAADAAAAAwAAAAMAAAADAAAAA0AAAANAAAADQAAAA0AAAANAAAADQAAAA0AAAANAAAADQAAAA0AAAANAAAADQAAAA0AAAANAAAADgAAAA4AAAAOAAAADgAAAA4AAAAOAAAADgAAAA4AAAAOAAAADgAAAA4AAAAOAAAADwAAAA8AAAAPAAAADwAAAA8AAAAPAAAADwAAAA8AAAAPAAAADwAAAA8AAAAQAAAAEAAAABAAAAAQAAAAEAAAABAAAAAQAAAAEAAAABEAAAARAAAAEQAAABEAAAARAAAAEQAAABEAAAARAAAAEQAAABEAAAARAAAAFAAAABQAAAAUAAAAFAAAABQAAAAUAAAAFAAAABUAAAAVAAAAFQAAABUAAAAVAAAAFQAAABUAAAAVAAAAFQAAABUAAAAWAAAAFgAAABYAAAAWAAAAFgAAABYAAAAWAAAAFgAAABcAAAAXAAAAFwAAABcAAAAXAAAAFwAAABoAAAAaAAAAGgAAABoAAAAaAAAAHgAAAB4AAAAeAAAAHgAAAB4AAAAeAAAAHgAAAB4AAAAeAAAAHgAAAB4AAAAeAAAAIAAAACAAAAAgAAAAIAAAACAAAAAhAAAAIQAAACEAAAAhAAAAIQAAACEAAAAhAAAAIQAAACEAAAAiAAAAIgAAACIAAAAiAAAAIgAAACIAAAAiAAAAIgAAACIAAAAmAAAAJgAAACYAAAAnAAAAJwAAACcAAAAnAAAAJwAAACcAAAAnAAAAKgAAACoAAAAqAAAAKgAAACoAAAArAAAAKwAAACsAAAArAAAAKwAAACwAAAAsAAAALAAAACwAAAAtAAAALQAAAC0AAAAtAAAALQAAAC0AAAAtAAAALQAAADAAAAAwAAAAMAAAADAAAAAwAAAAMAAAADAAAAAzAAAAMwAAADMAAAAzAAAAMwAAADMAAAA0AAAANAAAADQAAAA0AAAANAAAADUAAAA1AAAANQAAADcAAAA3AAAANwAAADcAAAA4AAAAOAAAADgAAAA4AAAAOAAAADgAAAA6AAAAOgAAADoAAAA7AAAAOwAAADsAAAA8AAAAPAAAAD4AAAA+AAAAPwAAAD8AAABAAAAAQQAAAA==\",\"dtype\":\"int32\",\"shape\":[295]}},\"selected\":null,\"selection_policy\":null},\"id\":\"d5c1851b-9edb-4f9b-9cac-bd8dc3ec3809\",\"type\":\"ColumnDataSource\"},{\"attributes\":{\"fill_alpha\":{\"value\":0.2},\"fill_color\":{\"value\":\"#30a2da\"},\"line_alpha\":{\"value\":0.2},\"size\":{\"units\":\"screen\",\"value\":15}},\"id\":\"f6f5a16c-8552-4176-8dd0-aa9674c96c15\",\"type\":\"Circle\"},{\"attributes\":{\"edge_renderer\":{\"id\":\"f9f92bf5-4504-4702-b695-a10de37bb280\",\"type\":\"GlyphRenderer\"},\"inspection_policy\":{\"id\":\"a480d2ec-4317-4c10-b024-74b533573de3\",\"type\":\"NodesAndLinkedEdges\"},\"layout_provider\":{\"id\":\"709275d6-675a-4382-b19b-45a2c8c26107\",\"type\":\"StaticLayoutProvider\"},\"node_renderer\":{\"id\":\"82e346c4-61f1-49e9-af95-beaa563fdd08\",\"type\":\"GlyphRenderer\"},\"selection_policy\":{\"id\":\"5c2d612c-6211-4027-a2a0-dbf8dd58c7ee\",\"type\":\"NodesAndLinkedEdges\"}},\"id\":\"8c79cf7e-ee13-4b2e-aa7e-75386ee587a3\",\"type\":\"GraphRenderer\"},{\"attributes\":{},\"id\":\"5c2d612c-6211-4027-a2a0-dbf8dd58c7ee\",\"type\":\"NodesAndLinkedEdges\"},{\"attributes\":{\"dimension\":1,\"grid_line_color\":{\"value\":null},\"plot\":{\"id\":\"2f2a2958-2022-4b64-b42c-243814b593b7\",\"subtype\":\"Figure\",\"type\":\"Plot\"},\"ticker\":{\"id\":\"ee48f449-2142-4f0f-81d2-4d93f1eb583a\",\"type\":\"BasicTicker\"}},\"id\":\"fd59789e-d172-4f94-878b-a2e6c852e88e\",\"type\":\"Grid\"}],\"root_ids\":[\"2f2a2958-2022-4b64-b42c-243814b593b7\"]},\"title\":\"Bokeh Application\",\"version\":\"0.12.15\"}};\n",
       "  var render_items = [{\"docid\":\"4eabc16c-1ed0-46b1-923b-84f28f51e9b1\",\"elementid\":\"e7293446-8e03-4560-a533-9fd62afd0d90\",\"modelid\":\"2f2a2958-2022-4b64-b42c-243814b593b7\",\"notebook_comms_target\":\"3710de6f43e3477785c0b3b43fa3b77c\"}];\n",
       "  root.Bokeh.embed.embed_items_notebook(docs_json, render_items);\n",
       "\n",
       "  }\n",
       "  if (root.Bokeh !== undefined) {\n",
       "    embed_document(root);\n",
       "  } else {\n",
       "    var attempts = 0;\n",
       "    var timer = setInterval(function(root) {\n",
       "      if (root.Bokeh !== undefined) {\n",
       "        embed_document(root);\n",
       "        clearInterval(timer);\n",
       "      }\n",
       "      attempts++;\n",
       "      if (attempts > 100) {\n",
       "        console.log(\"Bokeh: ERROR: Unable to run BokehJS code because BokehJS library is missing\")\n",
       "        clearInterval(timer);\n",
       "      }\n",
       "    }, 10, root)\n",
       "  }\n",
       "})(window);\n",
       "</script>\n",
       "</div>"
      ],
      "text/plain": [
       ":Graph   [start,end]"
      ]
     },
     "execution_count": 118,
     "metadata": {},
     "output_type": "execute_result"
    }
   ],
   "source": [
    "hv.extension('bokeh')\n",
    "%output widgets='live' holomap='scrubber'\n",
    "\n",
    "G = buildLigandNetwork(ind_tmp[-3]['phenome'].particle.ligands)\n",
    "\n",
    "prunes = []\n",
    "for e in G.edges:\n",
    "    w = G.get_edge_data(*e)['weight']\n",
    "    if(w<0.2):\n",
    "        prunes.append(e)\n",
    "\n",
    "G.remove_edges_from(prunes)\n",
    "\n",
    "padding = dict(x=(-1.2, 1.2), y=(-1.2, 1.2))\n",
    "g = hv.Graph.from_networkx(G, networkx.layout.spring_layout).opts(plot=dict(color_index='weight')).redim.range(**padding)\n",
    "g"
   ]
  },
  {
   "cell_type": "code",
   "execution_count": 19,
   "metadata": {
    "scrolled": true
   },
   "outputs": [
    {
     "data": {
      "image/png": "[encoded data removed]",
      "text/plain": [
       "<matplotlib.figure.Figure at 0x1054e5810>"
      ]
     },
     "metadata": {},
     "output_type": "display_data"
    }
   ],
   "source": [
    "\n",
    "cFitness = []\n",
    "\n",
    "for i in ind_tmp[0::10]:\n",
    "    G = buildLigandNetwork(i['phenome'].particle.ligands)\n",
    "\n",
    "    prunes = []\n",
    "    for e in G.edges:\n",
    "        w = G.get_edge_data(*e)['weight']\n",
    "        if(w<0.5):\n",
    "            prunes.append(e)\n",
    "\n",
    "    #clustering = networkx.clustering(G,weight='weight')\n",
    "    c = networkx.average_clustering(G,weight='weight')\n",
    "    cFitness.append((i['fitness'],c))\n",
    "    G.remove_edges_from(prunes)\n",
    "    \n",
    "#     knn = networkx.k_nearest_neighbors(G, weight='weight')\n",
    "#     knearest.append((i['fitness'],knn))\n",
    "    \n",
    "plt.rcParams['figure.figsize'] = (10.0, 8.0)\n",
    "plt.plot([k[0] for k in cFitness],[k[1] for k in cFitness],'.')\n",
    "\n",
    "axes = plt.gca()\n",
    "# axes.set_xlim([700,800])\n",
    "# axes.set_ylim([ymin,ymax])\n",
    "\n",
    "plt.xlabel('Particle Fitness')\n",
    "plt.ylabel('Average connectivity')\n",
    "plt.title('Average Connectivity of Ligand Spacing Network')\n",
    "plt.legend();"
   ]
  },
  {
   "cell_type": "markdown",
   "metadata": {},
   "source": [
    "# t-SNE"
   ]
  },
  {
   "cell_type": "code",
   "execution_count": null,
   "metadata": {},
   "outputs": [],
   "source": [
    "#see\n",
    "#https://github.com/oreillymedia/t-SNE-tutorial\n",
    "#https://distill.pub/2016/misread-tsne/"
   ]
  },
  {
   "cell_type": "code",
   "execution_count": null,
   "metadata": {},
   "outputs": [],
   "source": [
    "maxLigands = max([len(i['phenome'].particle.ligands) for i in data['individuals']])\n",
    "ligandFeatures = 3 #polAng,aziAng,eps\n",
    "indCount = len(data['individuals'])\n",
    "features = np.zeros((indCount,maxLigands*ligandFeatures))\n",
    "labels = np.zeros((indCount,))\n",
    "\n",
    "print('features shape:{}'.format(features.shape))\n",
    "print('labels shape:{}'.format(labels.shape))"
   ]
  },
  {
   "cell_type": "code",
   "execution_count": null,
   "metadata": {},
   "outputs": [],
   "source": [
    "#populate features\n",
    "for idx in range(len(data['individuals'])):\n",
    "    ligands = copy.deepcopy(data['individuals'][idx]['phenome'].particle.ligands)\n",
    "    #this does not do anything for tiled model, but for untiled it's a 0th order attempt at a proper ordering scheme\n",
    "    ligands = sorted(ligands, key = lambda x: (x.polAng, x.aziAng, x.eps))\n",
    "    ligDat = []\n",
    "    for ligand in ligands:\n",
    "        ligDat.append(ligand.polAng)\n",
    "        ligDat.append(ligand.aziAng)\n",
    "        ligDat.append(ligand.eps)\n",
    "    #pad features with (pol,azi,eps) = (0,0,0) if < required num of dimensions\n",
    "    while len(ligDat) < features.shape[1]:\n",
    "        ligDat.append(0)\n",
    "    features[idx] = ligDat"
   ]
  },
  {
   "cell_type": "code",
   "execution_count": null,
   "metadata": {},
   "outputs": [],
   "source": [
    "#populate labels\n",
    "for idx in range(len(data['individuals'])):\n",
    "    fit = data['individuals'][idx]['fitness']\n",
    "    if fit == 400:\n",
    "        labels[idx] = 2 #budded in under all GA test rotations\n",
    "    elif fit >= 320:\n",
    "        labels[idx] = 1 #probably budded in under some rotations\n",
    "    else:\n",
    "        labels[idx] = 0 #probably no budding"
   ]
  },
  {
   "cell_type": "code",
   "execution_count": null,
   "metadata": {},
   "outputs": [],
   "source": [
    "perplexities = [i for i in range(5,51,10)]\n",
    "perplexities.append(2)\n",
    "perplexities.append(100)\n",
    "\n",
    "ligProjs = []\n",
    "for p_i in perplexities:\n",
    "    ligProj = TSNE(random_state=1234567890, perplexity=p_i).fit_transform(features)\n",
    "    ligProjs.append((ligProj, p_i))"
   ]
  },
  {
   "cell_type": "code",
   "execution_count": null,
   "metadata": {},
   "outputs": [],
   "source": [
    "for ligProj, p_i in ligProjs:\n",
    "    plt.rcParams['figure.figsize'] = (10.0, 8.0)\n",
    "    plt.scatter(ligProj[:,0], ligProj[:,1], s=40, c=labels, cmap=plt.cm.Spectral)\n",
    "    plt.xticks([])\n",
    "    plt.yticks([])\n",
    "    plt.colorbar()\n",
    "    plt.title('t-SNE perplexity={}'.format(p_i))\n",
    "    plt.show()"
   ]
  },
  {
   "cell_type": "markdown",
   "metadata": {},
   "source": [
    "# ?"
   ]
  },
  {
   "cell_type": "code",
   "execution_count": null,
   "metadata": {},
   "outputs": [],
   "source": [
    "# print(data['metrics'])\n",
    "# print(len(data['genealogy']['tree']))\n",
    "# print(len(data['genealogy']['history']))\n",
    "# print(len(data['individuals']))\n",
    "# print(data['genealogy']['tree'][1])\n",
    "# print(data['genealogy']['history'][1])\n",
    "#print(data['individuals'][0]['genome'])\n",
    "#print(data['individuals'][0]['fitness'])\n",
    "#print(genomeFitness(data['individuals'][0]['genome']))\n",
    "print(len(data['individuals']))"
   ]
  }
 ],
 "metadata": {
  "kernelspec": {
   "display_name": "Python 2",
   "language": "python",
   "name": "python2"
  },
  "language_info": {
   "codemirror_mode": {
    "name": "ipython",
    "version": 2
   },
   "file_extension": ".py",
   "mimetype": "text/x-python",
   "name": "python",
   "nbconvert_exporter": "python",
   "pygments_lexer": "ipython2",
   "version": "2.7.14"
  }
 },
 "nbformat": 4,
 "nbformat_minor": 2
}
