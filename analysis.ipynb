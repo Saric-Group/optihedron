{
 "cells": [
  {
   "cell_type": "code",
   "execution_count": null,
   "metadata": {},
   "outputs": [],
   "source": [
    "from db import databaseconnection\n",
    "import numpy as np\n",
    "from ga import networkedgeneticalgorithm as nga\n",
    "import matplotlib.pyplot as plt\n",
    "import networkx\n",
    "%matplotlib inline\n",
    "plt.rcParams['figure.figsize'] = (10.0, 8.0) # set default size of plots\n",
    "plt.rcParams['image.interpolation'] = 'nearest'\n",
    "plt.rcParams['image.cmap'] = 'gray'"
   ]
  },
  {
   "cell_type": "code",
   "execution_count": null,
   "metadata": {},
   "outputs": [],
   "source": [
    "dbconn = databaseconnection.DatabaseConnection('db/datastore.db')"
   ]
  },
  {
   "cell_type": "code",
   "execution_count": null,
   "metadata": {},
   "outputs": [],
   "source": [
    "dbconn.whatSessions()"
   ]
  },
  {
   "cell_type": "code",
   "execution_count": null,
   "metadata": {},
   "outputs": [],
   "source": [
    "data = dbconn.loadSession('2018-02-18 08:56:07')"
   ]
  },
  {
   "cell_type": "code",
   "execution_count": null,
   "metadata": {},
   "outputs": [],
   "source": [
    "dbconn.close()"
   ]
  },
  {
   "cell_type": "markdown",
   "metadata": {},
   "source": [
    "### Helper Fns."
   ]
  },
  {
   "cell_type": "code",
   "execution_count": null,
   "metadata": {},
   "outputs": [],
   "source": [
    "#Fitness given genome\n",
    "def genomeFitness(genome):\n",
    "    for individual in data['individuals']:\n",
    "        if np.array_equal(individual['genome'], genome):\n",
    "            return individual['fitness']\n",
    "    return -1"
   ]
  },
  {
   "cell_type": "markdown",
   "metadata": {},
   "source": [
    "# GA Metrics"
   ]
  },
  {
   "cell_type": "code",
   "execution_count": null,
   "metadata": {},
   "outputs": [],
   "source": [
    "#print(data['metrics'])\n",
    "fitAvg = [metric['avg'] for metric in data['metrics']]\n",
    "fitMin = [metric['min'] for metric in data['metrics']]\n",
    "fitMax = [metric['max'] for metric in data['metrics']]\n",
    "plt.plot(fitAvg, '.');\n",
    "plt.plot(fitMax, '.');\n",
    "plt.plot(fitMin, '.');"
   ]
  },
  {
   "cell_type": "markdown",
   "metadata": {},
   "source": [
    "# Genealogy"
   ]
  },
  {
   "cell_type": "code",
   "execution_count": null,
   "metadata": {},
   "outputs": [],
   "source": [
    "graph = networkx.DiGraph(data['genealogy']['tree'])\n",
    "graph = graph.reverse()\n",
    "colors = [genomeFitness(data['genealogy']['history'][i]) for i in graph]\n",
    "positions = networkx.drawing.nx_agraph.graphviz_layout(graph, prog=\"dot\")\n",
    "networkx.draw(graph, positions, node_color = colors, s=40, cmap=plt.cm.Spectral)\n",
    "plt.rcParams['figure.figsize'] = (40.0, 16.0)\n",
    "fits = [ individual['fitness'] for individual in data['individuals']]\n",
    "sm = plt.cm.ScalarMappable(cmap=plt.cm.Spectral, norm=plt.Normalize(vmin=float(min(fits)), vmax=float(max(fits))))\n",
    "sm._A = []\n",
    "plt.colorbar(sm)\n",
    "plt.savefig('genealogy.png')\n",
    "plt.show()"
   ]
  },
  {
   "cell_type": "code",
   "execution_count": null,
   "metadata": {},
   "outputs": [],
   "source": [
    "# print(data['metrics'])\n",
    "# print(len(data['genealogy']['tree']))\n",
    "# print(len(data['genealogy']['history']))\n",
    "# print(len(data['individuals']))\n",
    "# print(data['genealogy']['tree'][1])\n",
    "# print(data['genealogy']['history'][1])\n",
    "#print(data['individuals'][0]['genome'])\n",
    "#print(data['individuals'][0]['fitness'])\n",
    "#print(genomeFitness(data['individuals'][0]['genome']))\n",
    "print(len(data['individuals']))"
   ]
  },
  {
   "cell_type": "code",
   "execution_count": null,
   "metadata": {},
   "outputs": [],
   "source": []
  },
  {
   "cell_type": "code",
   "execution_count": null,
   "metadata": {},
   "outputs": [],
   "source": []
  },
  {
   "cell_type": "code",
   "execution_count": null,
   "metadata": {},
   "outputs": [],
   "source": []
  }
 ],
 "metadata": {
  "kernelspec": {
   "display_name": "Python 2",
   "language": "python",
   "name": "python2"
  },
  "language_info": {
   "codemirror_mode": {
    "name": "ipython",
    "version": 2
   },
   "file_extension": ".py",
   "mimetype": "text/x-python",
   "name": "python",
   "nbconvert_exporter": "python",
   "pygments_lexer": "ipython2",
   "version": "2.7.6"
  }
 },
 "nbformat": 4,
 "nbformat_minor": 2
}
