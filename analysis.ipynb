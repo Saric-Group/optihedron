{
 "cells": [
  {
   "cell_type": "code",
   "execution_count": null,
   "metadata": {},
   "outputs": [],
   "source": [
    "from tools import analysistools as atools\n",
    "from functools import partial as partial\n",
    "from ga import networkedgeneticalgorithm as nga\n",
    "from db import databaseconnection as dbconn"
   ]
  },
  {
   "cell_type": "code",
   "execution_count": null,
   "metadata": {},
   "outputs": [],
   "source": [
    "epsIndices = range(4, 5)\n",
    "epsDBs = ['/mnt/c/Users/manish/Documents/GitHub/optihedron/db/GP{}.db'.format(i) for i in epsIndices]\n",
    "print(epsDBs[0])"
   ]
  },
  {
   "cell_type": "code",
   "execution_count": null,
   "metadata": {},
   "outputs": [],
   "source": [
    "dropIndProps = partial(atools.dropChildren, parentKey = 'individuals', childKeys = ['genome', 'gh'])\n",
    "dropGens = partial(atools.dropParentsConditional, parentKey = 'individuals', condition = lambda ind: ind['gen'] <= 30)\n",
    "dropMetrics = partial(atools.dropParents, parentKey='metrics')\n",
    "dropGenealogy = partial(atools.dropParents, parentKey='genealogy')"
   ]
  },
  {
   "cell_type": "code",
   "execution_count": null,
   "metadata": {},
   "outputs": [],
   "source": [
    "dropTasks = [dropMetrics, dropGenealogy, dropIndProps, dropGens]\n",
    "cleanTasks = [atools.cleanLigands, atools.cleanFits]\n",
    "cleanTasks = [atools.cleanLigands]\n",
    "sortTasks = [atools.sortIndGens]\n",
    "\n",
    "epsData = atools.load(epsDBs, dbconn, clean = cleanTasks, drop = dropTasks, sort = sortTasks)"
   ]
  },
  {
   "cell_type": "code",
   "execution_count": null,
   "metadata": {},
   "outputs": [],
   "source": []
  }
 ],
 "metadata": {
  "kernelspec": {
   "display_name": "Python 2",
   "language": "python",
   "name": "python2"
  },
  "language_info": {
   "codemirror_mode": {
    "name": "ipython",
    "version": 2
   },
   "file_extension": ".py",
   "mimetype": "text/x-python",
   "name": "python",
   "nbconvert_exporter": "python",
   "pygments_lexer": "ipython2",
   "version": "2.7.12"
  }
 },
 "nbformat": 4,
 "nbformat_minor": 2
}
