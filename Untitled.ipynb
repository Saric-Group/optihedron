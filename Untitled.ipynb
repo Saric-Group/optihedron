{
 "cells": [
  {
   "cell_type": "code",
   "execution_count": 25,
   "metadata": {},
   "outputs": [],
   "source": [
    "from tools import icosatiler\n",
    "import pandas as pd\n",
    "import numpy as np\n",
    "import numpy.ma as ma"
   ]
  },
  {
   "cell_type": "code",
   "execution_count": 30,
   "metadata": {},
   "outputs": [],
   "source": [
    "ps = icosatiler.cover72Sphere(4)\n",
    "xs = [p[0] for p in ps]\n",
    "ys = [p[1] for p in ps]\n",
    "zs = [p[2] for p in ps]"
   ]
  },
  {
   "cell_type": "code",
   "execution_count": null,
   "metadata": {},
   "outputs": [],
   "source": []
  },
  {
   "cell_type": "code",
   "execution_count": 15,
   "metadata": {},
   "outputs": [],
   "source": [
    "df = pd.read_csv('/Users/joel/Projects/22-11-genome.csv')"
   ]
  },
  {
   "cell_type": "code",
   "execution_count": 63,
   "metadata": {},
   "outputs": [],
   "source": [
    "positions = []\n",
    "for i,v in enumerate(df['genome']):\n",
    "    msk = [1 if int(c)==0 else 0 for c in list(v.replace('\\n',''))]\n",
    "    mx = ma.masked_array(xs, mask=msk)\n",
    "    my = ma.masked_array(ys, mask=msk)\n",
    "    mz = ma.masked_array(zs, mask=msk)\n",
    "    positions.append(zip(mx[~mx.mask],my[~my.mask],mz[~mz.mask]))"
   ]
  },
  {
   "cell_type": "code",
   "execution_count": 67,
   "metadata": {},
   "outputs": [],
   "source": [
    "df.insert(1,\"positions\",str(positions[1]),True)"
   ]
  },
  {
   "cell_type": "code",
   "execution_count": 69,
   "metadata": {},
   "outputs": [],
   "source": [
    "df.to_csv('/Users/joel/Projects/22-11-genome-pos.csv')"
   ]
  },
  {
   "cell_type": "code",
   "execution_count": null,
   "metadata": {},
   "outputs": [],
   "source": []
  }
 ],
 "metadata": {
  "kernelspec": {
   "display_name": "Python 2",
   "language": "python",
   "name": "python2"
  },
  "language_info": {
   "codemirror_mode": {
    "name": "ipython",
    "version": 2
   },
   "file_extension": ".py",
   "mimetype": "text/x-python",
   "name": "python",
   "nbconvert_exporter": "python",
   "pygments_lexer": "ipython2",
   "version": "2.7.17"
  }
 },
 "nbformat": 4,
 "nbformat_minor": 2
}
