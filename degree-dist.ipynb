{
 "cells": [
  {
   "cell_type": "code",
   "execution_count": 1,
   "metadata": {},
   "outputs": [],
   "source": [
    "from tools import analysistools as atools\n",
    "import matplotlib.pyplot as plt\n",
    "import seaborn as sns\n",
    "import numpy as np\n",
    "import os\n",
    "import random\n",
    "from scipy.stats import sem\n",
    "from mpl_toolkits.mplot3d import Axes3D\n",
    "import pandas as pd\n",
    "from scipy.spatial import distance_matrix\n",
    "import networkx as nx\n",
    "\n",
    "from db import databaseconnection as dbc\n",
    "import sqlalchemy\n",
    "from sqlalchemy import Table, create_engine, Column, String, PickleType, Integer, Numeric, ForeignKey\n",
    "from sqlalchemy.ext.declarative import declarative_base\n",
    "from sqlalchemy.orm import sessionmaker, relationship, backref\n",
    "from sqlalchemy import *\n",
    "from sqlalchemy.orm import *\n",
    "import random\n",
    "import os\n",
    "import time\n",
    "import nanoparticle\n",
    "\n",
    "import numpy as np\n",
    "from ga import networkedgeneticalgorithm as nga\n",
    "from nanoparticle import Ligand, NanoParticle\n",
    "\n",
    "import colldb\n",
    "from colldb import Particle, Instance, indToParticle, sessToInst\n",
    "\n",
    "import argparse\n",
    "\n",
    "import sys\n",
    "import collections"
   ]
  },
  {
   "cell_type": "code",
   "execution_count": 2,
   "metadata": {},
   "outputs": [],
   "source": [
    "dbPath = \"/Users/joelforster/Projects/optidb/sep2.db\"\n",
    "Base = declarative_base()\n",
    "engine = sqlalchemy.create_engine('sqlite:///{}'.format(dbPath))\n",
    "Base.metadata.create_all(bind=engine)\n",
    "dbSession = sessionmaker(bind=engine)\n",
    "dbSession = dbSession()"
   ]
  },
  {
   "cell_type": "code",
   "execution_count": 3,
   "metadata": {},
   "outputs": [],
   "source": [
    "dbSession.expire_all()\n",
    "dbSession.flush()"
   ]
  },
  {
   "cell_type": "code",
   "execution_count": 4,
   "metadata": {},
   "outputs": [],
   "source": [
    "cR = [[20, 13], [20, 14], [21, 12], [21, 13], [21, 14], [22, 12], [22, 13], [22, 14], [23, 10], [23, 11], [23, 12], [23, 13], [24, 10], [24, 11], [24, 12], [24, 13], [25, 9], [25, 10], [25, 11], [25, 12], [26, 9], [26, 10], [26, 11], [27, 9], [27, 10], [28, 9], [28, 10], [29, 8], [29, 9], [30, 8], [30, 9], [31, 7], [31, 8], [32, 7], [32, 8], [33, 7], [33, 8], [34, 7], [35, 6], [35, 7], [36, 6], [37, 6], [38, 6], [39, 6], [40, 6], [42, 5], [43, 5], [44, 5], [45, 5], [46, 5], [50, 4], [51, 4], [52, 4], [53, 4], [54, 4]]\n"
   ]
  },
  {
   "cell_type": "code",
   "execution_count": 5,
   "metadata": {},
   "outputs": [],
   "source": [
    "import copy\n",
    "def pruneNetwork(G,pruning):\n",
    "    prunes = []\n",
    "    pruneNodes = []\n",
    "    GP = copy.deepcopy(G)\n",
    "    maxW = 0\n",
    "    if len(G.nodes()) > 0:\n",
    "        for n,w in G.nodes(data=True):\n",
    "            if 'weight' not in w or w['weight'] <= 0.0:\n",
    "                pruneNodes.append(n)\n",
    "\n",
    "    if len(G.edges()) > 0:\n",
    "        for e in GP.edges:\n",
    "            w = GP.get_edge_data(*e)['weight']\n",
    "            if(w<=pruning):\n",
    "                prunes.append(e)\n",
    "\n",
    "    GP.remove_edges_from(prunes)\n",
    "    GP.remove_nodes_from(pruneNodes)\n",
    "    return GP"
   ]
  },
  {
   "cell_type": "code",
   "execution_count": null,
   "metadata": {},
   "outputs": [],
   "source": []
  },
  {
   "cell_type": "code",
   "execution_count": 6,
   "metadata": {},
   "outputs": [
    {
     "name": "stderr",
     "output_type": "stream",
     "text": [
      "/Users/joelforster/anaconda2/lib/python2.7/site-packages/sqlalchemy/sql/sqltypes.py:603: SAWarning: Dialect sqlite+pysqlite does *not* support Decimal objects natively, and SQLAlchemy must convert from floating point - rounding errors and other issues may occur. Please consider storing Decimal numbers as strings or integers on this platform for lossless storage.\n",
      "  'storage.' % (dialect.name, dialect.driver))\n"
     ]
    }
   ],
   "source": [
    "samplesize = 100\n",
    "\n",
    "bnets = []\n",
    "nnets = []\n",
    "for i in dbSession.query(Particle).yield_per(100):\n",
    "    nL = int(float(i.nligands))\n",
    "    aE = int(np.round(float(i.avgEps)))\n",
    "\n",
    "    if not [nL,aE] in cR:\n",
    "        continue\n",
    "    if i.budTime > 0 and len(bnets)<samplesize:\n",
    "        bnets.append(pruneNetwork(i.network,0.3))\n",
    "    elif len(nnets)<samplesize:\n",
    "        nnets.append(pruneNetwork(i.network,0.3))\n",
    "    if len(bnets) >= samplesize and len(nnets) >= samplesize:\n",
    "        break"
   ]
  },
  {
   "cell_type": "code",
   "execution_count": null,
   "metadata": {},
   "outputs": [],
   "source": []
  },
  {
   "cell_type": "code",
   "execution_count": 87,
   "metadata": {},
   "outputs": [
    {
     "data": {
      "image/png": "[encoded data removed]",
      "text/plain": [
       "<matplotlib.figure.Figure at 0x1c24138350>"
      ]
     },
     "metadata": {},
     "output_type": "display_data"
    }
   ],
   "source": [
    "sns.set_color_codes(\"pastel\")\n",
    "degree_sequence = []\n",
    "for G in bnets:\n",
    "    degrees=sorted([d for n, d in G.degree()], reverse=True)\n",
    "    degree_sequence =degree_sequence +degrees\n",
    "    \n",
    "degreeCount = collections.Counter(degree_sequence)\n",
    "deg, cnt = zip(*degreeCount.items())\n",
    "\n",
    "df = pd.DataFrame()\n",
    "\n",
    "cnt = [float(c)/float(samplesize) for c in cnt]\n",
    "\n",
    "degPad = []\n",
    "cntPad = []\n",
    "\n",
    "for i in range(72):\n",
    "    if not i in deg:\n",
    "        degPad.append(i)\n",
    "        cntPad.append(0)\n",
    "    else:\n",
    "        degPad.append(i)\n",
    "        cntPad.append(cnt[deg.index(i)])\n",
    "\n",
    "        \n",
    "fig, ax = plt.subplots()\n",
    "\n",
    "df['degree'] = degPad\n",
    "df['count'] = cntPad\n",
    "df['cat'] = ['budding' for d in degPad]\n",
    "\n",
    "\n",
    "# sns.barplot(x=deg, y =cnt,color='b',label='budding')\n",
    "#plt.bar([d-0.5 for d in deg], cnt, width=0.50, color='b',label='budding')\n",
    "\n",
    "for G in nnets:\n",
    "    degrees=sorted([d for n, d in G.degree()], reverse=True)\n",
    "    degree_sequence =degree_sequence +degrees\n",
    "    \n",
    "degreeCount = collections.Counter(degree_sequence)\n",
    "deg, cnt = zip(*degreeCount.items())\n",
    "\n",
    "cnt = [float(c)/float(samplesize) for c in cnt]\n",
    "\n",
    "\n",
    "degPad = []\n",
    "cntPad = []\n",
    "\n",
    "for i in range(72):\n",
    "    if not i in deg:\n",
    "        degPad.append(i)\n",
    "        cntPad.append(0)\n",
    "    else:\n",
    "        degPad.append(i)\n",
    "        cntPad.append(cnt[deg.index(i)])\n",
    "\n",
    "\n",
    "df2 =pd.DataFrame()\n",
    "\n",
    "df2['degree'] = degPad\n",
    "df2['count'] = cntPad\n",
    "df2['cat'] = ['non-budding' for d in degPad]\n",
    "\n",
    "df = df.append(df2)\n",
    "\n",
    "sns.barplot(x='degree', y ='count',hue='cat',data=df)\n",
    "\n",
    "plt.xlim(0, max(df.query('count > 0.0')['degree'].values)+1)\n",
    "\n",
    "#plt.bar(list(deg), cnt, width=0.50, color='r',label='non-budding')\n",
    "\n",
    "plt.title(\"Ensemble Average Degree Distribution\")\n",
    "plt.ylabel(\"Count\")\n",
    "plt.xlabel(\"Node Degree\")\n",
    "ax.set_xticks(deg)\n",
    "ax.set_xticklabels(deg)\n",
    "plt.legend()\n",
    "plt.show()"
   ]
  },
  {
   "cell_type": "code",
   "execution_count": null,
   "metadata": {},
   "outputs": [],
   "source": []
  }
 ],
 "metadata": {
  "kernelspec": {
   "display_name": "Python 2",
   "language": "python",
   "name": "python2"
  },
  "language_info": {
   "codemirror_mode": {
    "name": "ipython",
    "version": 2
   },
   "file_extension": ".py",
   "mimetype": "text/x-python",
   "name": "python",
   "nbconvert_exporter": "python",
   "pygments_lexer": "ipython2",
   "version": "2.7.14"
  }
 },
 "nbformat": 4,
 "nbformat_minor": 2
}
